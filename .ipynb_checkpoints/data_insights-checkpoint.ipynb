{
 "cells": [
  {
   "cell_type": "code",
   "execution_count": 1,
   "id": "a6bda6bf",
   "metadata": {},
   "outputs": [
    {
     "data": {
      "text/html": [
       "        <script type=\"text/javascript\">\n",
       "        window.PlotlyConfig = {MathJaxConfig: 'local'};\n",
       "        if (window.MathJax && window.MathJax.Hub && window.MathJax.Hub.Config) {window.MathJax.Hub.Config({SVG: {font: \"STIX-Web\"}});}\n",
       "        if (typeof require !== 'undefined') {\n",
       "        require.undef(\"plotly\");\n",
       "        requirejs.config({\n",
       "            paths: {\n",
       "                'plotly': ['https://cdn.plot.ly/plotly-2.14.0.min']\n",
       "            }\n",
       "        });\n",
       "        require(['plotly'], function(Plotly) {\n",
       "            window._Plotly = Plotly;\n",
       "        });\n",
       "        }\n",
       "        </script>\n",
       "        "
      ]
     },
     "metadata": {},
     "output_type": "display_data"
    }
   ],
   "source": [
    "import pandas as pd\n",
    "import numpy as np\n",
    "import seaborn as sns\n",
    "import matplotlib.pyplot as plt\n",
    "%matplotlib inline\n",
    "import plotly.offline as py\n",
    "py.init_notebook_mode(connected=True)\n",
    "import plotly.graph_objs as go\n",
    "import plotly.tools as tls\n",
    "import plotly.express as px\n",
    "import warnings\n",
    "from collections import Counter\n",
    "from sklearn.feature_selection import mutual_info_classif\n",
    "warnings.filterwarnings('ignore')\n",
    "\n",
    "from sklearn.preprocessing import FunctionTransformer\n",
    "from sklearn.compose import ColumnTransformer\n",
    "\n",
    "from sklearn.impute import KNNImputer"
   ]
  },
  {
   "cell_type": "code",
   "execution_count": 2,
   "id": "acc32fe5",
   "metadata": {},
   "outputs": [],
   "source": [
    "df_app = pd.read_csv(\"applicant.csv\")\n",
    "df_loan = pd.read_csv(\"loan.csv\")"
   ]
  },
  {
   "cell_type": "markdown",
   "id": "e0713e60",
   "metadata": {},
   "source": [
    "## Understanding the data:"
   ]
  },
  {
   "cell_type": "code",
   "execution_count": 3,
   "id": "4efa5bf2",
   "metadata": {},
   "outputs": [
    {
     "data": {
      "text/plain": [
       "(1000, 15)"
      ]
     },
     "execution_count": 3,
     "metadata": {},
     "output_type": "execute_result"
    }
   ],
   "source": [
    "df_app.shape"
   ]
  },
  {
   "cell_type": "code",
   "execution_count": 4,
   "id": "384cbe50",
   "metadata": {},
   "outputs": [
    {
     "data": {
      "text/plain": [
       "(1000, 13)"
      ]
     },
     "execution_count": 4,
     "metadata": {},
     "output_type": "execute_result"
    }
   ],
   "source": [
    "df_loan.shape"
   ]
  },
  {
   "cell_type": "code",
   "execution_count": 5,
   "id": "a99a9a57",
   "metadata": {},
   "outputs": [
    {
     "data": {
      "text/html": [
       "<div>\n",
       "<style scoped>\n",
       "    .dataframe tbody tr th:only-of-type {\n",
       "        vertical-align: middle;\n",
       "    }\n",
       "\n",
       "    .dataframe tbody tr th {\n",
       "        vertical-align: top;\n",
       "    }\n",
       "\n",
       "    .dataframe thead th {\n",
       "        text-align: right;\n",
       "    }\n",
       "</style>\n",
       "<table border=\"1\" class=\"dataframe\">\n",
       "  <thead>\n",
       "    <tr style=\"text-align: right;\">\n",
       "      <th></th>\n",
       "      <th>applicant_id</th>\n",
       "      <th>Primary_applicant_age_in_years</th>\n",
       "      <th>Gender</th>\n",
       "      <th>Marital_status</th>\n",
       "      <th>Number_of_dependents</th>\n",
       "      <th>Housing</th>\n",
       "      <th>Years_at_current_residence</th>\n",
       "      <th>Employment_status</th>\n",
       "      <th>Has_been_employed_for_at_least</th>\n",
       "      <th>Has_been_employed_for_at_most</th>\n",
       "      <th>Telephone</th>\n",
       "      <th>Foreign_worker</th>\n",
       "      <th>Savings_account_balance</th>\n",
       "      <th>Balance_in_existing_bank_account_(lower_limit_of_bucket)</th>\n",
       "      <th>Balance_in_existing_bank_account_(upper_limit_of_bucket)</th>\n",
       "    </tr>\n",
       "  </thead>\n",
       "  <tbody>\n",
       "    <tr>\n",
       "      <th>0</th>\n",
       "      <td>1469590</td>\n",
       "      <td>67</td>\n",
       "      <td>male</td>\n",
       "      <td>single</td>\n",
       "      <td>1</td>\n",
       "      <td>own</td>\n",
       "      <td>4</td>\n",
       "      <td>skilled employee / official</td>\n",
       "      <td>7 years</td>\n",
       "      <td>NaN</td>\n",
       "      <td>Registered under the applicant's name</td>\n",
       "      <td>1</td>\n",
       "      <td>NaN</td>\n",
       "      <td>NaN</td>\n",
       "      <td>0</td>\n",
       "    </tr>\n",
       "    <tr>\n",
       "      <th>1</th>\n",
       "      <td>1203873</td>\n",
       "      <td>22</td>\n",
       "      <td>female</td>\n",
       "      <td>divorced/separated/married</td>\n",
       "      <td>1</td>\n",
       "      <td>own</td>\n",
       "      <td>2</td>\n",
       "      <td>skilled employee / official</td>\n",
       "      <td>1 year</td>\n",
       "      <td>4 years</td>\n",
       "      <td>NaN</td>\n",
       "      <td>1</td>\n",
       "      <td>Low</td>\n",
       "      <td>0</td>\n",
       "      <td>2 lac</td>\n",
       "    </tr>\n",
       "    <tr>\n",
       "      <th>2</th>\n",
       "      <td>1432761</td>\n",
       "      <td>49</td>\n",
       "      <td>male</td>\n",
       "      <td>single</td>\n",
       "      <td>2</td>\n",
       "      <td>own</td>\n",
       "      <td>3</td>\n",
       "      <td>unskilled - resident</td>\n",
       "      <td>4 years</td>\n",
       "      <td>7 years</td>\n",
       "      <td>NaN</td>\n",
       "      <td>1</td>\n",
       "      <td>Low</td>\n",
       "      <td>NaN</td>\n",
       "      <td>NaN</td>\n",
       "    </tr>\n",
       "    <tr>\n",
       "      <th>3</th>\n",
       "      <td>1207582</td>\n",
       "      <td>45</td>\n",
       "      <td>male</td>\n",
       "      <td>single</td>\n",
       "      <td>2</td>\n",
       "      <td>for free</td>\n",
       "      <td>4</td>\n",
       "      <td>skilled employee / official</td>\n",
       "      <td>4 years</td>\n",
       "      <td>7 years</td>\n",
       "      <td>NaN</td>\n",
       "      <td>1</td>\n",
       "      <td>Low</td>\n",
       "      <td>NaN</td>\n",
       "      <td>0</td>\n",
       "    </tr>\n",
       "    <tr>\n",
       "      <th>4</th>\n",
       "      <td>1674436</td>\n",
       "      <td>53</td>\n",
       "      <td>male</td>\n",
       "      <td>single</td>\n",
       "      <td>2</td>\n",
       "      <td>for free</td>\n",
       "      <td>4</td>\n",
       "      <td>skilled employee / official</td>\n",
       "      <td>1 year</td>\n",
       "      <td>4 years</td>\n",
       "      <td>NaN</td>\n",
       "      <td>1</td>\n",
       "      <td>Low</td>\n",
       "      <td>NaN</td>\n",
       "      <td>0</td>\n",
       "    </tr>\n",
       "  </tbody>\n",
       "</table>\n",
       "</div>"
      ],
      "text/plain": [
       "   applicant_id  Primary_applicant_age_in_years  Gender  \\\n",
       "0       1469590                              67    male   \n",
       "1       1203873                              22  female   \n",
       "2       1432761                              49    male   \n",
       "3       1207582                              45    male   \n",
       "4       1674436                              53    male   \n",
       "\n",
       "               Marital_status  Number_of_dependents   Housing  \\\n",
       "0                      single                     1       own   \n",
       "1  divorced/separated/married                     1       own   \n",
       "2                      single                     2       own   \n",
       "3                      single                     2  for free   \n",
       "4                      single                     2  for free   \n",
       "\n",
       "   Years_at_current_residence            Employment_status  \\\n",
       "0                           4  skilled employee / official   \n",
       "1                           2  skilled employee / official   \n",
       "2                           3         unskilled - resident   \n",
       "3                           4  skilled employee / official   \n",
       "4                           4  skilled employee / official   \n",
       "\n",
       "  Has_been_employed_for_at_least Has_been_employed_for_at_most  \\\n",
       "0                        7 years                           NaN   \n",
       "1                         1 year                       4 years   \n",
       "2                        4 years                       7 years   \n",
       "3                        4 years                       7 years   \n",
       "4                         1 year                       4 years   \n",
       "\n",
       "                               Telephone  Foreign_worker  \\\n",
       "0  Registered under the applicant's name               1   \n",
       "1                                    NaN               1   \n",
       "2                                    NaN               1   \n",
       "3                                    NaN               1   \n",
       "4                                    NaN               1   \n",
       "\n",
       "  Savings_account_balance  \\\n",
       "0                     NaN   \n",
       "1                     Low   \n",
       "2                     Low   \n",
       "3                     Low   \n",
       "4                     Low   \n",
       "\n",
       "  Balance_in_existing_bank_account_(lower_limit_of_bucket)  \\\n",
       "0                                                NaN         \n",
       "1                                                  0         \n",
       "2                                                NaN         \n",
       "3                                                NaN         \n",
       "4                                                NaN         \n",
       "\n",
       "  Balance_in_existing_bank_account_(upper_limit_of_bucket)  \n",
       "0                                                  0        \n",
       "1                                              2 lac        \n",
       "2                                                NaN        \n",
       "3                                                  0        \n",
       "4                                                  0        "
      ]
     },
     "execution_count": 5,
     "metadata": {},
     "output_type": "execute_result"
    }
   ],
   "source": [
    "df_app.head()"
   ]
  },
  {
   "cell_type": "code",
   "execution_count": 6,
   "id": "14511d22",
   "metadata": {},
   "outputs": [
    {
     "data": {
      "text/html": [
       "<div>\n",
       "<style scoped>\n",
       "    .dataframe tbody tr th:only-of-type {\n",
       "        vertical-align: middle;\n",
       "    }\n",
       "\n",
       "    .dataframe tbody tr th {\n",
       "        vertical-align: top;\n",
       "    }\n",
       "\n",
       "    .dataframe thead th {\n",
       "        text-align: right;\n",
       "    }\n",
       "</style>\n",
       "<table border=\"1\" class=\"dataframe\">\n",
       "  <thead>\n",
       "    <tr style=\"text-align: right;\">\n",
       "      <th></th>\n",
       "      <th>loan_application_id</th>\n",
       "      <th>applicant_id</th>\n",
       "      <th>Months_loan_taken_for</th>\n",
       "      <th>Purpose</th>\n",
       "      <th>Principal_loan_amount</th>\n",
       "      <th>EMI_rate_in_percentage_of_disposable_income</th>\n",
       "      <th>Property</th>\n",
       "      <th>Has_coapplicant</th>\n",
       "      <th>Has_guarantor</th>\n",
       "      <th>Other_EMI_plans</th>\n",
       "      <th>Number_of_existing_loans_at_this_bank</th>\n",
       "      <th>Loan_history</th>\n",
       "      <th>high_risk_applicant</th>\n",
       "    </tr>\n",
       "  </thead>\n",
       "  <tbody>\n",
       "    <tr>\n",
       "      <th>0</th>\n",
       "      <td>d68d975e-edad-11ea-8761-1d6f9c1ff461</td>\n",
       "      <td>1469590</td>\n",
       "      <td>6</td>\n",
       "      <td>electronic equipment</td>\n",
       "      <td>1169000</td>\n",
       "      <td>4</td>\n",
       "      <td>real estate</td>\n",
       "      <td>0</td>\n",
       "      <td>0</td>\n",
       "      <td>NaN</td>\n",
       "      <td>2</td>\n",
       "      <td>critical/pending loans at other banks</td>\n",
       "      <td>0</td>\n",
       "    </tr>\n",
       "    <tr>\n",
       "      <th>1</th>\n",
       "      <td>d68d989e-edad-11ea-b1d5-2bcf65006448</td>\n",
       "      <td>1203873</td>\n",
       "      <td>48</td>\n",
       "      <td>electronic equipment</td>\n",
       "      <td>5951000</td>\n",
       "      <td>2</td>\n",
       "      <td>real estate</td>\n",
       "      <td>0</td>\n",
       "      <td>0</td>\n",
       "      <td>NaN</td>\n",
       "      <td>1</td>\n",
       "      <td>existing loans paid back duly till now</td>\n",
       "      <td>1</td>\n",
       "    </tr>\n",
       "    <tr>\n",
       "      <th>2</th>\n",
       "      <td>d68d995c-edad-11ea-814a-1b6716782575</td>\n",
       "      <td>1432761</td>\n",
       "      <td>12</td>\n",
       "      <td>education</td>\n",
       "      <td>2096000</td>\n",
       "      <td>2</td>\n",
       "      <td>real estate</td>\n",
       "      <td>0</td>\n",
       "      <td>0</td>\n",
       "      <td>NaN</td>\n",
       "      <td>1</td>\n",
       "      <td>critical/pending loans at other banks</td>\n",
       "      <td>0</td>\n",
       "    </tr>\n",
       "    <tr>\n",
       "      <th>3</th>\n",
       "      <td>d68d99fc-edad-11ea-8841-17e8848060ae</td>\n",
       "      <td>1207582</td>\n",
       "      <td>42</td>\n",
       "      <td>FF&amp;E</td>\n",
       "      <td>7882000</td>\n",
       "      <td>2</td>\n",
       "      <td>building society savings agreement/life insurance</td>\n",
       "      <td>0</td>\n",
       "      <td>1</td>\n",
       "      <td>NaN</td>\n",
       "      <td>1</td>\n",
       "      <td>existing loans paid back duly till now</td>\n",
       "      <td>0</td>\n",
       "    </tr>\n",
       "    <tr>\n",
       "      <th>4</th>\n",
       "      <td>d68d9a92-edad-11ea-9f3d-1f8682db006a</td>\n",
       "      <td>1674436</td>\n",
       "      <td>24</td>\n",
       "      <td>new vehicle</td>\n",
       "      <td>4870000</td>\n",
       "      <td>3</td>\n",
       "      <td>NaN</td>\n",
       "      <td>0</td>\n",
       "      <td>0</td>\n",
       "      <td>NaN</td>\n",
       "      <td>2</td>\n",
       "      <td>delay in paying off loans in the past</td>\n",
       "      <td>1</td>\n",
       "    </tr>\n",
       "  </tbody>\n",
       "</table>\n",
       "</div>"
      ],
      "text/plain": [
       "                    loan_application_id  applicant_id  Months_loan_taken_for  \\\n",
       "0  d68d975e-edad-11ea-8761-1d6f9c1ff461       1469590                      6   \n",
       "1  d68d989e-edad-11ea-b1d5-2bcf65006448       1203873                     48   \n",
       "2  d68d995c-edad-11ea-814a-1b6716782575       1432761                     12   \n",
       "3  d68d99fc-edad-11ea-8841-17e8848060ae       1207582                     42   \n",
       "4  d68d9a92-edad-11ea-9f3d-1f8682db006a       1674436                     24   \n",
       "\n",
       "                Purpose  Principal_loan_amount  \\\n",
       "0  electronic equipment                1169000   \n",
       "1  electronic equipment                5951000   \n",
       "2             education                2096000   \n",
       "3                  FF&E                7882000   \n",
       "4           new vehicle                4870000   \n",
       "\n",
       "   EMI_rate_in_percentage_of_disposable_income  \\\n",
       "0                                            4   \n",
       "1                                            2   \n",
       "2                                            2   \n",
       "3                                            2   \n",
       "4                                            3   \n",
       "\n",
       "                                            Property  Has_coapplicant  \\\n",
       "0                                        real estate                0   \n",
       "1                                        real estate                0   \n",
       "2                                        real estate                0   \n",
       "3  building society savings agreement/life insurance                0   \n",
       "4                                                NaN                0   \n",
       "\n",
       "   Has_guarantor Other_EMI_plans  Number_of_existing_loans_at_this_bank  \\\n",
       "0              0             NaN                                      2   \n",
       "1              0             NaN                                      1   \n",
       "2              0             NaN                                      1   \n",
       "3              1             NaN                                      1   \n",
       "4              0             NaN                                      2   \n",
       "\n",
       "                             Loan_history  high_risk_applicant  \n",
       "0   critical/pending loans at other banks                    0  \n",
       "1  existing loans paid back duly till now                    1  \n",
       "2   critical/pending loans at other banks                    0  \n",
       "3  existing loans paid back duly till now                    0  \n",
       "4   delay in paying off loans in the past                    1  "
      ]
     },
     "execution_count": 6,
     "metadata": {},
     "output_type": "execute_result"
    }
   ],
   "source": [
    "df_loan.head()"
   ]
  },
  {
   "cell_type": "code",
   "execution_count": 7,
   "id": "649db581",
   "metadata": {},
   "outputs": [
    {
     "name": "stdout",
     "output_type": "stream",
     "text": [
      "<class 'pandas.core.frame.DataFrame'>\n",
      "RangeIndex: 1000 entries, 0 to 999\n",
      "Data columns (total 15 columns):\n",
      " #   Column                                                    Non-Null Count  Dtype \n",
      "---  ------                                                    --------------  ----- \n",
      " 0   applicant_id                                              1000 non-null   int64 \n",
      " 1   Primary_applicant_age_in_years                            1000 non-null   int64 \n",
      " 2   Gender                                                    1000 non-null   object\n",
      " 3   Marital_status                                            1000 non-null   object\n",
      " 4   Number_of_dependents                                      1000 non-null   int64 \n",
      " 5   Housing                                                   1000 non-null   object\n",
      " 6   Years_at_current_residence                                1000 non-null   int64 \n",
      " 7   Employment_status                                         1000 non-null   object\n",
      " 8   Has_been_employed_for_at_least                            938 non-null    object\n",
      " 9   Has_been_employed_for_at_most                             747 non-null    object\n",
      " 10  Telephone                                                 404 non-null    object\n",
      " 11  Foreign_worker                                            1000 non-null   int64 \n",
      " 12  Savings_account_balance                                   817 non-null    object\n",
      " 13  Balance_in_existing_bank_account_(lower_limit_of_bucket)  332 non-null    object\n",
      " 14  Balance_in_existing_bank_account_(upper_limit_of_bucket)  543 non-null    object\n",
      "dtypes: int64(5), object(10)\n",
      "memory usage: 117.3+ KB\n"
     ]
    }
   ],
   "source": [
    "df_app.info()"
   ]
  },
  {
   "cell_type": "code",
   "execution_count": 8,
   "id": "f34ce375",
   "metadata": {},
   "outputs": [
    {
     "name": "stdout",
     "output_type": "stream",
     "text": [
      "<class 'pandas.core.frame.DataFrame'>\n",
      "RangeIndex: 1000 entries, 0 to 999\n",
      "Data columns (total 13 columns):\n",
      " #   Column                                       Non-Null Count  Dtype \n",
      "---  ------                                       --------------  ----- \n",
      " 0   loan_application_id                          1000 non-null   object\n",
      " 1   applicant_id                                 1000 non-null   int64 \n",
      " 2   Months_loan_taken_for                        1000 non-null   int64 \n",
      " 3   Purpose                                      988 non-null    object\n",
      " 4   Principal_loan_amount                        1000 non-null   int64 \n",
      " 5   EMI_rate_in_percentage_of_disposable_income  1000 non-null   int64 \n",
      " 6   Property                                     846 non-null    object\n",
      " 7   Has_coapplicant                              1000 non-null   int64 \n",
      " 8   Has_guarantor                                1000 non-null   int64 \n",
      " 9   Other_EMI_plans                              186 non-null    object\n",
      " 10  Number_of_existing_loans_at_this_bank        1000 non-null   int64 \n",
      " 11  Loan_history                                 1000 non-null   object\n",
      " 12  high_risk_applicant                          1000 non-null   int64 \n",
      "dtypes: int64(8), object(5)\n",
      "memory usage: 101.7+ KB\n"
     ]
    }
   ],
   "source": [
    "df_loan.info()"
   ]
  },
  {
   "cell_type": "markdown",
   "id": "fc5ee7ac",
   "metadata": {},
   "source": [
    "At first I will be handling the missing values by visualizing the percentage/proportion of missing rows of that column."
   ]
  },
  {
   "cell_type": "markdown",
   "id": "dacf889a",
   "metadata": {},
   "source": [
    "# Handling missing data:"
   ]
  },
  {
   "cell_type": "code",
   "execution_count": 9,
   "id": "91b4c97f",
   "metadata": {},
   "outputs": [
    {
     "name": "stdout",
     "output_type": "stream",
     "text": [
      "Index(['applicant_id', 'Primary_applicant_age_in_years', 'Gender',\n",
      "       'Marital_status', 'Number_of_dependents', 'Housing',\n",
      "       'Years_at_current_residence', 'Employment_status',\n",
      "       'Has_been_employed_for_at_least', 'Has_been_employed_for_at_most',\n",
      "       'Telephone', 'Foreign_worker', 'Savings_account_balance',\n",
      "       'Balance_in_existing_bank_account_(lower_limit_of_bucket)',\n",
      "       'Balance_in_existing_bank_account_(upper_limit_of_bucket)',\n",
      "       'loan_application_id', 'Months_loan_taken_for', 'Purpose',\n",
      "       'Principal_loan_amount', 'EMI_rate_in_percentage_of_disposable_income',\n",
      "       'Property', 'Has_coapplicant', 'Has_guarantor', 'Other_EMI_plans',\n",
      "       'Number_of_existing_loans_at_this_bank', 'Loan_history',\n",
      "       'high_risk_applicant'],\n",
      "      dtype='object')\n"
     ]
    },
    {
     "data": {
      "text/html": [
       "<div>\n",
       "<style scoped>\n",
       "    .dataframe tbody tr th:only-of-type {\n",
       "        vertical-align: middle;\n",
       "    }\n",
       "\n",
       "    .dataframe tbody tr th {\n",
       "        vertical-align: top;\n",
       "    }\n",
       "\n",
       "    .dataframe thead th {\n",
       "        text-align: right;\n",
       "    }\n",
       "</style>\n",
       "<table border=\"1\" class=\"dataframe\">\n",
       "  <thead>\n",
       "    <tr style=\"text-align: right;\">\n",
       "      <th></th>\n",
       "      <th>applicant_id</th>\n",
       "      <th>Primary_applicant_age_in_years</th>\n",
       "      <th>Gender</th>\n",
       "      <th>Marital_status</th>\n",
       "      <th>Number_of_dependents</th>\n",
       "      <th>Housing</th>\n",
       "      <th>Years_at_current_residence</th>\n",
       "      <th>Employment_status</th>\n",
       "      <th>Has_been_employed_for_at_least</th>\n",
       "      <th>Has_been_employed_for_at_most</th>\n",
       "      <th>...</th>\n",
       "      <th>Purpose</th>\n",
       "      <th>Principal_loan_amount</th>\n",
       "      <th>EMI_rate_in_percentage_of_disposable_income</th>\n",
       "      <th>Property</th>\n",
       "      <th>Has_coapplicant</th>\n",
       "      <th>Has_guarantor</th>\n",
       "      <th>Other_EMI_plans</th>\n",
       "      <th>Number_of_existing_loans_at_this_bank</th>\n",
       "      <th>Loan_history</th>\n",
       "      <th>high_risk_applicant</th>\n",
       "    </tr>\n",
       "  </thead>\n",
       "  <tbody>\n",
       "    <tr>\n",
       "      <th>0</th>\n",
       "      <td>1469590</td>\n",
       "      <td>67</td>\n",
       "      <td>male</td>\n",
       "      <td>single</td>\n",
       "      <td>1</td>\n",
       "      <td>own</td>\n",
       "      <td>4</td>\n",
       "      <td>skilled employee / official</td>\n",
       "      <td>7 years</td>\n",
       "      <td>NaN</td>\n",
       "      <td>...</td>\n",
       "      <td>electronic equipment</td>\n",
       "      <td>1169000</td>\n",
       "      <td>4</td>\n",
       "      <td>real estate</td>\n",
       "      <td>0</td>\n",
       "      <td>0</td>\n",
       "      <td>NaN</td>\n",
       "      <td>2</td>\n",
       "      <td>critical/pending loans at other banks</td>\n",
       "      <td>0</td>\n",
       "    </tr>\n",
       "    <tr>\n",
       "      <th>1</th>\n",
       "      <td>1203873</td>\n",
       "      <td>22</td>\n",
       "      <td>female</td>\n",
       "      <td>divorced/separated/married</td>\n",
       "      <td>1</td>\n",
       "      <td>own</td>\n",
       "      <td>2</td>\n",
       "      <td>skilled employee / official</td>\n",
       "      <td>1 year</td>\n",
       "      <td>4 years</td>\n",
       "      <td>...</td>\n",
       "      <td>electronic equipment</td>\n",
       "      <td>5951000</td>\n",
       "      <td>2</td>\n",
       "      <td>real estate</td>\n",
       "      <td>0</td>\n",
       "      <td>0</td>\n",
       "      <td>NaN</td>\n",
       "      <td>1</td>\n",
       "      <td>existing loans paid back duly till now</td>\n",
       "      <td>1</td>\n",
       "    </tr>\n",
       "    <tr>\n",
       "      <th>2</th>\n",
       "      <td>1432761</td>\n",
       "      <td>49</td>\n",
       "      <td>male</td>\n",
       "      <td>single</td>\n",
       "      <td>2</td>\n",
       "      <td>own</td>\n",
       "      <td>3</td>\n",
       "      <td>unskilled - resident</td>\n",
       "      <td>4 years</td>\n",
       "      <td>7 years</td>\n",
       "      <td>...</td>\n",
       "      <td>education</td>\n",
       "      <td>2096000</td>\n",
       "      <td>2</td>\n",
       "      <td>real estate</td>\n",
       "      <td>0</td>\n",
       "      <td>0</td>\n",
       "      <td>NaN</td>\n",
       "      <td>1</td>\n",
       "      <td>critical/pending loans at other banks</td>\n",
       "      <td>0</td>\n",
       "    </tr>\n",
       "    <tr>\n",
       "      <th>3</th>\n",
       "      <td>1207582</td>\n",
       "      <td>45</td>\n",
       "      <td>male</td>\n",
       "      <td>single</td>\n",
       "      <td>2</td>\n",
       "      <td>for free</td>\n",
       "      <td>4</td>\n",
       "      <td>skilled employee / official</td>\n",
       "      <td>4 years</td>\n",
       "      <td>7 years</td>\n",
       "      <td>...</td>\n",
       "      <td>FF&amp;E</td>\n",
       "      <td>7882000</td>\n",
       "      <td>2</td>\n",
       "      <td>building society savings agreement/life insurance</td>\n",
       "      <td>0</td>\n",
       "      <td>1</td>\n",
       "      <td>NaN</td>\n",
       "      <td>1</td>\n",
       "      <td>existing loans paid back duly till now</td>\n",
       "      <td>0</td>\n",
       "    </tr>\n",
       "    <tr>\n",
       "      <th>4</th>\n",
       "      <td>1674436</td>\n",
       "      <td>53</td>\n",
       "      <td>male</td>\n",
       "      <td>single</td>\n",
       "      <td>2</td>\n",
       "      <td>for free</td>\n",
       "      <td>4</td>\n",
       "      <td>skilled employee / official</td>\n",
       "      <td>1 year</td>\n",
       "      <td>4 years</td>\n",
       "      <td>...</td>\n",
       "      <td>new vehicle</td>\n",
       "      <td>4870000</td>\n",
       "      <td>3</td>\n",
       "      <td>NaN</td>\n",
       "      <td>0</td>\n",
       "      <td>0</td>\n",
       "      <td>NaN</td>\n",
       "      <td>2</td>\n",
       "      <td>delay in paying off loans in the past</td>\n",
       "      <td>1</td>\n",
       "    </tr>\n",
       "  </tbody>\n",
       "</table>\n",
       "<p>5 rows × 27 columns</p>\n",
       "</div>"
      ],
      "text/plain": [
       "   applicant_id  Primary_applicant_age_in_years  Gender  \\\n",
       "0       1469590                              67    male   \n",
       "1       1203873                              22  female   \n",
       "2       1432761                              49    male   \n",
       "3       1207582                              45    male   \n",
       "4       1674436                              53    male   \n",
       "\n",
       "               Marital_status  Number_of_dependents   Housing  \\\n",
       "0                      single                     1       own   \n",
       "1  divorced/separated/married                     1       own   \n",
       "2                      single                     2       own   \n",
       "3                      single                     2  for free   \n",
       "4                      single                     2  for free   \n",
       "\n",
       "   Years_at_current_residence            Employment_status  \\\n",
       "0                           4  skilled employee / official   \n",
       "1                           2  skilled employee / official   \n",
       "2                           3         unskilled - resident   \n",
       "3                           4  skilled employee / official   \n",
       "4                           4  skilled employee / official   \n",
       "\n",
       "  Has_been_employed_for_at_least Has_been_employed_for_at_most  ...  \\\n",
       "0                        7 years                           NaN  ...   \n",
       "1                         1 year                       4 years  ...   \n",
       "2                        4 years                       7 years  ...   \n",
       "3                        4 years                       7 years  ...   \n",
       "4                         1 year                       4 years  ...   \n",
       "\n",
       "                Purpose  Principal_loan_amount  \\\n",
       "0  electronic equipment                1169000   \n",
       "1  electronic equipment                5951000   \n",
       "2             education                2096000   \n",
       "3                  FF&E                7882000   \n",
       "4           new vehicle                4870000   \n",
       "\n",
       "  EMI_rate_in_percentage_of_disposable_income  \\\n",
       "0                                           4   \n",
       "1                                           2   \n",
       "2                                           2   \n",
       "3                                           2   \n",
       "4                                           3   \n",
       "\n",
       "                                            Property Has_coapplicant  \\\n",
       "0                                        real estate               0   \n",
       "1                                        real estate               0   \n",
       "2                                        real estate               0   \n",
       "3  building society savings agreement/life insurance               0   \n",
       "4                                                NaN               0   \n",
       "\n",
       "  Has_guarantor  Other_EMI_plans Number_of_existing_loans_at_this_bank  \\\n",
       "0             0              NaN                                     2   \n",
       "1             0              NaN                                     1   \n",
       "2             0              NaN                                     1   \n",
       "3             1              NaN                                     1   \n",
       "4             0              NaN                                     2   \n",
       "\n",
       "                             Loan_history  high_risk_applicant  \n",
       "0   critical/pending loans at other banks                    0  \n",
       "1  existing loans paid back duly till now                    1  \n",
       "2   critical/pending loans at other banks                    0  \n",
       "3  existing loans paid back duly till now                    0  \n",
       "4   delay in paying off loans in the past                    1  \n",
       "\n",
       "[5 rows x 27 columns]"
      ]
     },
     "execution_count": 9,
     "metadata": {},
     "output_type": "execute_result"
    }
   ],
   "source": [
    "df = df_app.merge(df_loan, on=\"applicant_id\")\n",
    "print(df.columns)\n",
    "df.head()\n"
   ]
  },
  {
   "cell_type": "markdown",
   "id": "fc3929d5",
   "metadata": {},
   "source": [
    "<div class=\"alert alert-block alert-info\">\n",
    "<b>Tip:</b> It is better to male a copy of data for safety.\n",
    "</div>"
   ]
  },
  {
   "cell_type": "code",
   "execution_count": 10,
   "id": "ef03f3ab",
   "metadata": {},
   "outputs": [
    {
     "data": {
      "text/html": [
       "<div>\n",
       "<style scoped>\n",
       "    .dataframe tbody tr th:only-of-type {\n",
       "        vertical-align: middle;\n",
       "    }\n",
       "\n",
       "    .dataframe tbody tr th {\n",
       "        vertical-align: top;\n",
       "    }\n",
       "\n",
       "    .dataframe thead th {\n",
       "        text-align: right;\n",
       "    }\n",
       "</style>\n",
       "<table border=\"1\" class=\"dataframe\">\n",
       "  <thead>\n",
       "    <tr style=\"text-align: right;\">\n",
       "      <th></th>\n",
       "      <th>applicant_id</th>\n",
       "      <th>Primary_applicant_age_in_years</th>\n",
       "      <th>Gender</th>\n",
       "      <th>Marital_status</th>\n",
       "      <th>Number_of_dependents</th>\n",
       "      <th>Housing</th>\n",
       "      <th>Years_at_current_residence</th>\n",
       "      <th>Employment_status</th>\n",
       "      <th>Has_been_employed_for_at_least</th>\n",
       "      <th>Has_been_employed_for_at_most</th>\n",
       "      <th>...</th>\n",
       "      <th>Purpose</th>\n",
       "      <th>Principal_loan_amount</th>\n",
       "      <th>EMI_rate_in_percentage_of_disposable_income</th>\n",
       "      <th>Property</th>\n",
       "      <th>Has_coapplicant</th>\n",
       "      <th>Has_guarantor</th>\n",
       "      <th>Other_EMI_plans</th>\n",
       "      <th>Number_of_existing_loans_at_this_bank</th>\n",
       "      <th>Loan_history</th>\n",
       "      <th>high_risk_applicant</th>\n",
       "    </tr>\n",
       "  </thead>\n",
       "  <tbody>\n",
       "    <tr>\n",
       "      <th>433</th>\n",
       "      <td>1796503</td>\n",
       "      <td>33</td>\n",
       "      <td>male</td>\n",
       "      <td>divorced/separated</td>\n",
       "      <td>1</td>\n",
       "      <td>own</td>\n",
       "      <td>2</td>\n",
       "      <td>skilled employee / official</td>\n",
       "      <td>1 year</td>\n",
       "      <td>4 years</td>\n",
       "      <td>...</td>\n",
       "      <td>repair costs</td>\n",
       "      <td>2058000</td>\n",
       "      <td>4</td>\n",
       "      <td>real estate</td>\n",
       "      <td>0</td>\n",
       "      <td>0</td>\n",
       "      <td>NaN</td>\n",
       "      <td>2</td>\n",
       "      <td>critical/pending loans at other banks</td>\n",
       "      <td>0</td>\n",
       "    </tr>\n",
       "  </tbody>\n",
       "</table>\n",
       "<p>1 rows × 27 columns</p>\n",
       "</div>"
      ],
      "text/plain": [
       "     applicant_id  Primary_applicant_age_in_years Gender      Marital_status  \\\n",
       "433       1796503                              33   male  divorced/separated   \n",
       "\n",
       "     Number_of_dependents Housing  Years_at_current_residence  \\\n",
       "433                     1     own                           2   \n",
       "\n",
       "               Employment_status Has_been_employed_for_at_least  \\\n",
       "433  skilled employee / official                         1 year   \n",
       "\n",
       "    Has_been_employed_for_at_most  ...       Purpose  Principal_loan_amount  \\\n",
       "433                       4 years  ...  repair costs                2058000   \n",
       "\n",
       "    EMI_rate_in_percentage_of_disposable_income     Property Has_coapplicant  \\\n",
       "433                                           4  real estate               0   \n",
       "\n",
       "    Has_guarantor  Other_EMI_plans Number_of_existing_loans_at_this_bank  \\\n",
       "433             0              NaN                                     2   \n",
       "\n",
       "                              Loan_history  high_risk_applicant  \n",
       "433  critical/pending loans at other banks                    0  \n",
       "\n",
       "[1 rows x 27 columns]"
      ]
     },
     "execution_count": 10,
     "metadata": {},
     "output_type": "execute_result"
    }
   ],
   "source": [
    "df_copy = df.copy()\n",
    "df_copy.sample()"
   ]
  },
  {
   "cell_type": "code",
   "execution_count": 11,
   "id": "06d8c382",
   "metadata": {},
   "outputs": [
    {
     "data": {
      "text/plain": [
       "applicant_id                                                 0.0\n",
       "Primary_applicant_age_in_years                               0.0\n",
       "Gender                                                       0.0\n",
       "Marital_status                                               0.0\n",
       "Number_of_dependents                                         0.0\n",
       "Housing                                                      0.0\n",
       "Years_at_current_residence                                   0.0\n",
       "Employment_status                                            0.0\n",
       "Has_been_employed_for_at_least                               6.2\n",
       "Has_been_employed_for_at_most                               25.3\n",
       "Telephone                                                   59.6\n",
       "Foreign_worker                                               0.0\n",
       "Savings_account_balance                                     18.3\n",
       "Balance_in_existing_bank_account_(lower_limit_of_bucket)    66.8\n",
       "Balance_in_existing_bank_account_(upper_limit_of_bucket)    45.7\n",
       "loan_application_id                                          0.0\n",
       "Months_loan_taken_for                                        0.0\n",
       "Purpose                                                      1.2\n",
       "Principal_loan_amount                                        0.0\n",
       "EMI_rate_in_percentage_of_disposable_income                  0.0\n",
       "Property                                                    15.4\n",
       "Has_coapplicant                                              0.0\n",
       "Has_guarantor                                                0.0\n",
       "Other_EMI_plans                                             81.4\n",
       "Number_of_existing_loans_at_this_bank                        0.0\n",
       "Loan_history                                                 0.0\n",
       "high_risk_applicant                                          0.0\n",
       "dtype: float64"
      ]
     },
     "execution_count": 11,
     "metadata": {},
     "output_type": "execute_result"
    }
   ],
   "source": [
    "missing_per=df_copy.isnull().sum() * 100 / len(df_copy)\n",
    "missing_per"
   ]
  },
  {
   "cell_type": "markdown",
   "id": "a9313cc0",
   "metadata": {},
   "source": [
    "<div class=\"alert alert-block alert-info\">\n",
    "<b>Note:</b> Columns with missing values > 5% will just put hindrence in the model training, its better to drop those columns. But before that lets take one single look at the pattern of missing values (is it missing at random or is there a pattern?)\n",
    "</div>\n",
    "\n",
    "<div class=\"alert alert-block alert-warning\">\n",
    "<b></b> *Most of the missing values are from categorical columns*\n",
    "</div>"
   ]
  },
  {
   "cell_type": "code",
   "execution_count": 12,
   "id": "a4c2cf69",
   "metadata": {},
   "outputs": [
    {
     "data": {
      "text/plain": [
       "<AxesSubplot:>"
      ]
     },
     "execution_count": 12,
     "metadata": {},
     "output_type": "execute_result"
    },
    {
     "data": {
      "image/png": "[encoded data removed]",
      "text/plain": [
       "<Figure size 2160x1296 with 2 Axes>"
      ]
     },
     "metadata": {
      "needs_background": "light"
     },
     "output_type": "display_data"
    }
   ],
   "source": [
    "import missingno as msno\n",
    "msno.matrix(df=df_copy, figsize=(30, 18), color=(0.42, 0.1, 0.05))"
   ]
  },
  {
   "cell_type": "code",
   "execution_count": 13,
   "id": "d2a56301",
   "metadata": {},
   "outputs": [
    {
     "data": {
      "text/plain": [
       "<AxesSubplot:title={'center':'Correlation of features'}>"
      ]
     },
     "execution_count": 13,
     "metadata": {},
     "output_type": "execute_result"
    },
    {
     "data": {
      "image/png": "[encoded data removed]",
      "text/plain": [
       "<Figure size 1152x864 with 2 Axes>"
      ]
     },
     "metadata": {
      "needs_background": "light"
     },
     "output_type": "display_data"
    }
   ],
   "source": [
    "colormap = plt.cm.magma\n",
    "plt.figure(figsize=(16,12))\n",
    "plt.title('Correlation of features', y=1.05, size=15)\n",
    "sns.heatmap(df_copy.corr(),linewidths=0.1,vmax=1.0, square=True, \n",
    "            cmap=colormap, linecolor='white', annot=True)"
   ]
  },
  {
   "cell_type": "markdown",
   "id": "c30c3f89",
   "metadata": {},
   "source": [
    "<div class=\"alert alert-block alert-info\">\n",
    "<b>Insight:</b> As we can see the missing values are not missing in correlation to one another. So we will not delete samples but rather remove columns that have missing values greater than a certain threshold (we will take it 20% as in this dataset, property and saving_account_balance company has high missing values but intutively we know that it will help in customer segmentation based on their financial status)\n",
    "</div>"
   ]
  },
  {
   "cell_type": "code",
   "execution_count": 14,
   "id": "eae288eb",
   "metadata": {},
   "outputs": [
    {
     "data": {
      "text/plain": [
       "Index(['applicant_id', 'Primary_applicant_age_in_years', 'Gender',\n",
       "       'Marital_status', 'Number_of_dependents', 'Housing',\n",
       "       'Years_at_current_residence', 'Employment_status',\n",
       "       'Has_been_employed_for_at_least', 'Foreign_worker',\n",
       "       'Savings_account_balance', 'loan_application_id',\n",
       "       'Months_loan_taken_for', 'Purpose', 'Principal_loan_amount',\n",
       "       'EMI_rate_in_percentage_of_disposable_income', 'Property',\n",
       "       'Has_coapplicant', 'Has_guarantor',\n",
       "       'Number_of_existing_loans_at_this_bank', 'Loan_history',\n",
       "       'high_risk_applicant'],\n",
       "      dtype='object')"
      ]
     },
     "execution_count": 14,
     "metadata": {},
     "output_type": "execute_result"
    }
   ],
   "source": [
    "df_new=df_copy.copy()\n",
    "THRESHOLD = 20 \n",
    "\n",
    "for col, per in missing_per.items():\n",
    "    if per > THRESHOLD:\n",
    "        df_new.drop(col, axis = 1, inplace = True)\n",
    "\n",
    "\n",
    "df_new.columns"
   ]
  },
  {
   "cell_type": "code",
   "execution_count": 15,
   "id": "04d0d5fc",
   "metadata": {},
   "outputs": [
    {
     "data": {
      "text/plain": [
       "(1000, 22)"
      ]
     },
     "execution_count": 15,
     "metadata": {},
     "output_type": "execute_result"
    }
   ],
   "source": [
    "df_new.shape #5 columns dropped"
   ]
  },
  {
   "cell_type": "code",
   "execution_count": 16,
   "id": "3fa6b22d",
   "metadata": {
    "scrolled": true
   },
   "outputs": [
    {
     "data": {
      "text/html": [
       "<div>\n",
       "<style scoped>\n",
       "    .dataframe tbody tr th:only-of-type {\n",
       "        vertical-align: middle;\n",
       "    }\n",
       "\n",
       "    .dataframe tbody tr th {\n",
       "        vertical-align: top;\n",
       "    }\n",
       "\n",
       "    .dataframe thead th {\n",
       "        text-align: right;\n",
       "    }\n",
       "</style>\n",
       "<table border=\"1\" class=\"dataframe\">\n",
       "  <thead>\n",
       "    <tr style=\"text-align: right;\">\n",
       "      <th></th>\n",
       "      <th>applicant_id</th>\n",
       "      <th>Primary_applicant_age_in_years</th>\n",
       "      <th>Number_of_dependents</th>\n",
       "      <th>Years_at_current_residence</th>\n",
       "      <th>Foreign_worker</th>\n",
       "      <th>Months_loan_taken_for</th>\n",
       "      <th>Principal_loan_amount</th>\n",
       "      <th>EMI_rate_in_percentage_of_disposable_income</th>\n",
       "      <th>Has_coapplicant</th>\n",
       "      <th>Has_guarantor</th>\n",
       "      <th>Number_of_existing_loans_at_this_bank</th>\n",
       "      <th>high_risk_applicant</th>\n",
       "    </tr>\n",
       "  </thead>\n",
       "  <tbody>\n",
       "    <tr>\n",
       "      <th>count</th>\n",
       "      <td>1.000000e+03</td>\n",
       "      <td>1000.000000</td>\n",
       "      <td>1000.000000</td>\n",
       "      <td>1000.000000</td>\n",
       "      <td>1000.000000</td>\n",
       "      <td>1000.000000</td>\n",
       "      <td>1.000000e+03</td>\n",
       "      <td>1000.000000</td>\n",
       "      <td>1000.000000</td>\n",
       "      <td>1000.000000</td>\n",
       "      <td>1000.000000</td>\n",
       "      <td>1000.000000</td>\n",
       "    </tr>\n",
       "    <tr>\n",
       "      <th>mean</th>\n",
       "      <td>1.514763e+06</td>\n",
       "      <td>35.546000</td>\n",
       "      <td>1.155000</td>\n",
       "      <td>2.845000</td>\n",
       "      <td>0.963000</td>\n",
       "      <td>20.903000</td>\n",
       "      <td>3.271258e+06</td>\n",
       "      <td>2.973000</td>\n",
       "      <td>0.041000</td>\n",
       "      <td>0.052000</td>\n",
       "      <td>1.407000</td>\n",
       "      <td>0.300000</td>\n",
       "    </tr>\n",
       "    <tr>\n",
       "      <th>std</th>\n",
       "      <td>2.286764e+05</td>\n",
       "      <td>11.375469</td>\n",
       "      <td>0.362086</td>\n",
       "      <td>1.103718</td>\n",
       "      <td>0.188856</td>\n",
       "      <td>12.058814</td>\n",
       "      <td>2.822737e+06</td>\n",
       "      <td>1.118715</td>\n",
       "      <td>0.198389</td>\n",
       "      <td>0.222138</td>\n",
       "      <td>0.577654</td>\n",
       "      <td>0.458487</td>\n",
       "    </tr>\n",
       "    <tr>\n",
       "      <th>min</th>\n",
       "      <td>1.105364e+06</td>\n",
       "      <td>19.000000</td>\n",
       "      <td>1.000000</td>\n",
       "      <td>1.000000</td>\n",
       "      <td>0.000000</td>\n",
       "      <td>4.000000</td>\n",
       "      <td>2.500000e+05</td>\n",
       "      <td>1.000000</td>\n",
       "      <td>0.000000</td>\n",
       "      <td>0.000000</td>\n",
       "      <td>1.000000</td>\n",
       "      <td>0.000000</td>\n",
       "    </tr>\n",
       "    <tr>\n",
       "      <th>25%</th>\n",
       "      <td>1.321398e+06</td>\n",
       "      <td>27.000000</td>\n",
       "      <td>1.000000</td>\n",
       "      <td>2.000000</td>\n",
       "      <td>1.000000</td>\n",
       "      <td>12.000000</td>\n",
       "      <td>1.365500e+06</td>\n",
       "      <td>2.000000</td>\n",
       "      <td>0.000000</td>\n",
       "      <td>0.000000</td>\n",
       "      <td>1.000000</td>\n",
       "      <td>0.000000</td>\n",
       "    </tr>\n",
       "    <tr>\n",
       "      <th>50%</th>\n",
       "      <td>1.529114e+06</td>\n",
       "      <td>33.000000</td>\n",
       "      <td>1.000000</td>\n",
       "      <td>3.000000</td>\n",
       "      <td>1.000000</td>\n",
       "      <td>18.000000</td>\n",
       "      <td>2.319500e+06</td>\n",
       "      <td>3.000000</td>\n",
       "      <td>0.000000</td>\n",
       "      <td>0.000000</td>\n",
       "      <td>1.000000</td>\n",
       "      <td>0.000000</td>\n",
       "    </tr>\n",
       "    <tr>\n",
       "      <th>75%</th>\n",
       "      <td>1.707752e+06</td>\n",
       "      <td>42.000000</td>\n",
       "      <td>1.000000</td>\n",
       "      <td>4.000000</td>\n",
       "      <td>1.000000</td>\n",
       "      <td>24.000000</td>\n",
       "      <td>3.972250e+06</td>\n",
       "      <td>4.000000</td>\n",
       "      <td>0.000000</td>\n",
       "      <td>0.000000</td>\n",
       "      <td>2.000000</td>\n",
       "      <td>1.000000</td>\n",
       "    </tr>\n",
       "    <tr>\n",
       "      <th>max</th>\n",
       "      <td>1.903505e+06</td>\n",
       "      <td>75.000000</td>\n",
       "      <td>2.000000</td>\n",
       "      <td>4.000000</td>\n",
       "      <td>1.000000</td>\n",
       "      <td>72.000000</td>\n",
       "      <td>1.842400e+07</td>\n",
       "      <td>4.000000</td>\n",
       "      <td>1.000000</td>\n",
       "      <td>1.000000</td>\n",
       "      <td>4.000000</td>\n",
       "      <td>1.000000</td>\n",
       "    </tr>\n",
       "  </tbody>\n",
       "</table>\n",
       "</div>"
      ],
      "text/plain": [
       "       applicant_id  Primary_applicant_age_in_years  Number_of_dependents  \\\n",
       "count  1.000000e+03                     1000.000000           1000.000000   \n",
       "mean   1.514763e+06                       35.546000              1.155000   \n",
       "std    2.286764e+05                       11.375469              0.362086   \n",
       "min    1.105364e+06                       19.000000              1.000000   \n",
       "25%    1.321398e+06                       27.000000              1.000000   \n",
       "50%    1.529114e+06                       33.000000              1.000000   \n",
       "75%    1.707752e+06                       42.000000              1.000000   \n",
       "max    1.903505e+06                       75.000000              2.000000   \n",
       "\n",
       "       Years_at_current_residence  Foreign_worker  Months_loan_taken_for  \\\n",
       "count                 1000.000000     1000.000000            1000.000000   \n",
       "mean                     2.845000        0.963000              20.903000   \n",
       "std                      1.103718        0.188856              12.058814   \n",
       "min                      1.000000        0.000000               4.000000   \n",
       "25%                      2.000000        1.000000              12.000000   \n",
       "50%                      3.000000        1.000000              18.000000   \n",
       "75%                      4.000000        1.000000              24.000000   \n",
       "max                      4.000000        1.000000              72.000000   \n",
       "\n",
       "       Principal_loan_amount  EMI_rate_in_percentage_of_disposable_income  \\\n",
       "count           1.000000e+03                                  1000.000000   \n",
       "mean            3.271258e+06                                     2.973000   \n",
       "std             2.822737e+06                                     1.118715   \n",
       "min             2.500000e+05                                     1.000000   \n",
       "25%             1.365500e+06                                     2.000000   \n",
       "50%             2.319500e+06                                     3.000000   \n",
       "75%             3.972250e+06                                     4.000000   \n",
       "max             1.842400e+07                                     4.000000   \n",
       "\n",
       "       Has_coapplicant  Has_guarantor  Number_of_existing_loans_at_this_bank  \\\n",
       "count      1000.000000    1000.000000                            1000.000000   \n",
       "mean          0.041000       0.052000                               1.407000   \n",
       "std           0.198389       0.222138                               0.577654   \n",
       "min           0.000000       0.000000                               1.000000   \n",
       "25%           0.000000       0.000000                               1.000000   \n",
       "50%           0.000000       0.000000                               1.000000   \n",
       "75%           0.000000       0.000000                               2.000000   \n",
       "max           1.000000       1.000000                               4.000000   \n",
       "\n",
       "       high_risk_applicant  \n",
       "count          1000.000000  \n",
       "mean              0.300000  \n",
       "std               0.458487  \n",
       "min               0.000000  \n",
       "25%               0.000000  \n",
       "50%               0.000000  \n",
       "75%               1.000000  \n",
       "max               1.000000  "
      ]
     },
     "execution_count": 16,
     "metadata": {},
     "output_type": "execute_result"
    }
   ],
   "source": [
    "df_new.describe() # here we check if the numerical columns is normally distributed so that we can fill the values based on random filling method.\n"
   ]
  },
  {
   "cell_type": "markdown",
   "id": "3ac0275c",
   "metadata": {},
   "source": [
    "<div class=\"alert alert-block alert-info\">\n",
    "<b>Steps Taken:</b> For now, we will drop the Id columns as it will be a spoiler for the model training. But we will need it when we go for production. So it is better to save the Id in a seperate column.\n",
    "</div>"
   ]
  },
  {
   "cell_type": "code",
   "execution_count": 17,
   "id": "0b0e6db1",
   "metadata": {},
   "outputs": [
    {
     "data": {
      "text/plain": [
       "Primary_applicant_age_in_years                  int64\n",
       "Gender                                         object\n",
       "Marital_status                                 object\n",
       "Number_of_dependents                            int64\n",
       "Housing                                        object\n",
       "Years_at_current_residence                      int64\n",
       "Employment_status                              object\n",
       "Has_been_employed_for_at_least                 object\n",
       "Foreign_worker                                  int64\n",
       "Savings_account_balance                        object\n",
       "Months_loan_taken_for                           int64\n",
       "Purpose                                        object\n",
       "Principal_loan_amount                           int64\n",
       "EMI_rate_in_percentage_of_disposable_income     int64\n",
       "Property                                       object\n",
       "Has_coapplicant                                 int64\n",
       "Has_guarantor                                   int64\n",
       "Number_of_existing_loans_at_this_bank           int64\n",
       "Loan_history                                   object\n",
       "high_risk_applicant                             int64\n",
       "dtype: object"
      ]
     },
     "execution_count": 17,
     "metadata": {},
     "output_type": "execute_result"
    }
   ],
   "source": [
    "df_new.drop(columns=[\"applicant_id\",\"loan_application_id\"], axis=1, inplace=True)\n",
    "\n",
    "df_new.dtypes"
   ]
  },
  {
   "cell_type": "code",
   "execution_count": 18,
   "id": "6fc17494",
   "metadata": {},
   "outputs": [
    {
     "data": {
      "text/plain": [
       "Low          603\n",
       "Medium       103\n",
       "High          63\n",
       "Very high     48\n",
       "Name: Savings_account_balance, dtype: int64"
      ]
     },
     "execution_count": 18,
     "metadata": {},
     "output_type": "execute_result"
    }
   ],
   "source": [
    "df_new.Savings_account_balance.value_counts()"
   ]
  },
  {
   "cell_type": "code",
   "execution_count": 19,
   "id": "6b2ae8d6",
   "metadata": {},
   "outputs": [
    {
     "data": {
      "text/plain": [
       "1 year     339\n",
       "7 years    253\n",
       "4 years    174\n",
       "0 year     172\n",
       "Name: Has_been_employed_for_at_least, dtype: int64"
      ]
     },
     "execution_count": 19,
     "metadata": {},
     "output_type": "execute_result"
    }
   ],
   "source": [
    "df_new['Has_been_employed_for_at_least'].value_counts()"
   ]
  },
  {
   "cell_type": "markdown",
   "id": "504bd05f",
   "metadata": {},
   "source": [
    "Saving_account_balance will be better of numerical but lets keep that in mind for now and move with the numerical columns.\n",
    "\n",
    "## Handling numerical missing data"
   ]
  },
  {
   "cell_type": "code",
   "execution_count": 20,
   "id": "258a6d89",
   "metadata": {},
   "outputs": [],
   "source": [
    "df_num=df_new.select_dtypes(include='number')\n",
    "columns=list(df_num.columns.values)"
   ]
  },
  {
   "cell_type": "code",
   "execution_count": 21,
   "id": "8ab9c452",
   "metadata": {},
   "outputs": [
    {
     "name": "stdout",
     "output_type": "stream",
     "text": [
      "27    51\n",
      "26    50\n",
      "23    48\n",
      "24    44\n",
      "28    43\n",
      "25    41\n",
      "30    40\n",
      "35    40\n",
      "36    39\n",
      "31    38\n",
      "29    37\n",
      "32    34\n",
      "33    33\n",
      "34    32\n",
      "37    29\n",
      "22    27\n",
      "40    25\n",
      "38    24\n",
      "42    22\n",
      "39    21\n",
      "46    18\n",
      "43    17\n",
      "47    17\n",
      "44    17\n",
      "41    17\n",
      "45    15\n",
      "20    14\n",
      "21    14\n",
      "49    14\n",
      "50    12\n",
      "48    12\n",
      "54    10\n",
      "57     9\n",
      "52     9\n",
      "51     8\n",
      "55     8\n",
      "63     8\n",
      "61     7\n",
      "53     7\n",
      "60     6\n",
      "65     5\n",
      "58     5\n",
      "64     5\n",
      "66     5\n",
      "74     4\n",
      "67     3\n",
      "68     3\n",
      "56     3\n",
      "59     3\n",
      "75     2\n",
      "19     2\n",
      "62     2\n",
      "70     1\n",
      "Name: Primary_applicant_age_in_years, dtype: int64\n",
      "1    845\n",
      "2    155\n",
      "Name: Number_of_dependents, dtype: int64\n",
      "4    413\n",
      "2    308\n",
      "3    149\n",
      "1    130\n",
      "Name: Years_at_current_residence, dtype: int64\n",
      "1    963\n",
      "0     37\n",
      "Name: Foreign_worker, dtype: int64\n",
      "24    184\n",
      "12    179\n",
      "18    113\n",
      "36     83\n",
      "6      75\n",
      "15     64\n",
      "9      49\n",
      "48     48\n",
      "30     40\n",
      "21     30\n",
      "10     28\n",
      "60     13\n",
      "27     13\n",
      "42     11\n",
      "11      9\n",
      "20      8\n",
      "8       7\n",
      "4       6\n",
      "45      5\n",
      "7       5\n",
      "39      5\n",
      "14      4\n",
      "13      4\n",
      "33      3\n",
      "28      3\n",
      "54      2\n",
      "16      2\n",
      "22      2\n",
      "47      1\n",
      "5       1\n",
      "26      1\n",
      "72      1\n",
      "40      1\n",
      "Name: Months_loan_taken_for, dtype: int64\n",
      "1478000    3\n",
      "1262000    3\n",
      "1258000    3\n",
      "1275000    3\n",
      "1393000    3\n",
      "          ..\n",
      "1459000    1\n",
      "882000     1\n",
      "3758000    1\n",
      "1136000    1\n",
      "4576000    1\n",
      "Name: Principal_loan_amount, Length: 921, dtype: int64\n",
      "4    476\n",
      "2    231\n",
      "3    157\n",
      "1    136\n",
      "Name: EMI_rate_in_percentage_of_disposable_income, dtype: int64\n",
      "0    959\n",
      "1     41\n",
      "Name: Has_coapplicant, dtype: int64\n",
      "0    948\n",
      "1     52\n",
      "Name: Has_guarantor, dtype: int64\n",
      "1    633\n",
      "2    333\n",
      "3     28\n",
      "4      6\n",
      "Name: Number_of_existing_loans_at_this_bank, dtype: int64\n",
      "0    700\n",
      "1    300\n",
      "Name: high_risk_applicant, dtype: int64\n"
     ]
    }
   ],
   "source": [
    "for i in range(len(columns)):\n",
    "    print(f\"{df_num[columns[i]].value_counts()}\")"
   ]
  },
  {
   "cell_type": "markdown",
   "id": "23b2e0e6",
   "metadata": {},
   "source": [
    "<div class=\"alert alert-block alert-info\">\n",
    "<b>Tip:</b> Apart from some columns, majority of the columns have less randomness, perfect data for tree models.\n",
    "</div>"
   ]
  },
  {
   "cell_type": "code",
   "execution_count": 22,
   "id": "26f338b6",
   "metadata": {},
   "outputs": [
    {
     "data": {
      "image/png": "[encoded data removed]",
      "text/plain": [
       "<Figure size 600x400 with 1 Axes>"
      ]
     },
     "metadata": {
      "needs_background": "light"
     },
     "output_type": "display_data"
    },
    {
     "data": {
      "image/png": "[encoded data removed]",
      "text/plain": [
       "<Figure size 600x400 with 1 Axes>"
      ]
     },
     "metadata": {
      "needs_background": "light"
     },
     "output_type": "display_data"
    },
    {
     "data": {
      "image/png": "[encoded data removed]",
      "text/plain": [
       "<Figure size 600x400 with 1 Axes>"
      ]
     },
     "metadata": {
      "needs_background": "light"
     },
     "output_type": "display_data"
    },
    {
     "data": {
      "image/png": "[encoded data removed]",
      "text/plain": [
       "<Figure size 600x400 with 1 Axes>"
      ]
     },
     "metadata": {
      "needs_background": "light"
     },
     "output_type": "display_data"
    },
    {
     "data": {
      "image/png": "[encoded data removed]",
      "text/plain": [
       "<Figure size 600x400 with 1 Axes>"
      ]
     },
     "metadata": {
      "needs_background": "light"
     },
     "output_type": "display_data"
    },
    {
     "data": {
      "image/png": "[encoded data removed]",
      "text/plain": [
       "<Figure size 600x400 with 1 Axes>"
      ]
     },
     "metadata": {
      "needs_background": "light"
     },
     "output_type": "display_data"
    },
    {
     "data": {
      "image/png": "[encoded data removed]",
      "text/plain": [
       "<Figure size 600x400 with 1 Axes>"
      ]
     },
     "metadata": {
      "needs_background": "light"
     },
     "output_type": "display_data"
    },
    {
     "data": {
      "image/png": "[encoded data removed]",
      "text/plain": [
       "<Figure size 600x400 with 1 Axes>"
      ]
     },
     "metadata": {
      "needs_background": "light"
     },
     "output_type": "display_data"
    },
    {
     "data": {
      "image/png": "[encoded data removed]",
      "text/plain": [
       "<Figure size 600x400 with 1 Axes>"
      ]
     },
     "metadata": {
      "needs_background": "light"
     },
     "output_type": "display_data"
    },
    {
     "data": {
      "image/png": "[encoded data removed]",
      "text/plain": [
       "<Figure size 600x400 with 1 Axes>"
      ]
     },
     "metadata": {
      "needs_background": "light"
     },
     "output_type": "display_data"
    }
   ],
   "source": [
    "def dist_plot(n):\n",
    "    if n==0:\n",
    "        sns.kdeplot(data=df_num, x=columns[0])\n",
    "        return \"done\"\n",
    "    else:\n",
    "        plt.figure(dpi=100)\n",
    "        sns.kdeplot(data=df_num, x=columns[n])\n",
    "        dist_plot(n-1)\n",
    "        \n",
    "dist_plot(len(columns)-1)\n",
    "\n",
    "# we can also use qq plot for this but we will use it for columns which will show some trouble and needs special visualiztions"
   ]
  },
  {
   "cell_type": "code",
   "execution_count": 23,
   "id": "20d965c1",
   "metadata": {},
   "outputs": [
    {
     "data": {
      "text/plain": [
       "<AxesSubplot:xlabel='Primary_applicant_age_in_years', ylabel='Density'>"
      ]
     },
     "execution_count": 23,
     "metadata": {},
     "output_type": "execute_result"
    },
    {
     "data": {
      "image/png": "[encoded data removed]",
      "text/plain": [
       "<Figure size 432x288 with 1 Axes>"
      ]
     },
     "metadata": {
      "needs_background": "light"
     },
     "output_type": "display_data"
    }
   ],
   "source": [
    "sns.kdeplot(data=df_num, x='Primary_applicant_age_in_years')"
   ]
  },
  {
   "cell_type": "markdown",
   "id": "078699c3",
   "metadata": {},
   "source": [
    "<div class=\"alert alert-block alert-success\">\n",
    "<b>Purpose:</b> In the above plot, our focus is on continuous variables and not binary/fixed variables.\n",
    "\n",
    "Insights:\n",
    " <ul>\n",
    "     <li>principal_loan_amount is right skewed</li>\n",
    "     <li> Months_loan_taken_for is not normally distributed.</li>\n",
    "     <li>Primary_applicant_age_in_years is right skewed.</li>\n",
    "    </ul>\n",
    "*After the above insights, we can apply log transformation at principal_loan_amount and Primary_applicant_age_in_years to make it normally distributed*(as both are right skewed and log transformations works well on right skewed data). We will do that before model training if we use linear models and if there is no much correlation between columns as linear model is bad with correlated features.\n",
    "</div>"
   ]
  },
  {
   "cell_type": "code",
   "execution_count": 24,
   "id": "6e1d8131",
   "metadata": {},
   "outputs": [
    {
     "data": {
      "text/plain": [
       "Primary_applicant_age_in_years                  0.0\n",
       "Gender                                          0.0\n",
       "Marital_status                                  0.0\n",
       "Number_of_dependents                            0.0\n",
       "Housing                                         0.0\n",
       "Years_at_current_residence                      0.0\n",
       "Employment_status                               0.0\n",
       "Has_been_employed_for_at_least                  6.2\n",
       "Foreign_worker                                  0.0\n",
       "Savings_account_balance                        18.3\n",
       "Months_loan_taken_for                           0.0\n",
       "Purpose                                         1.2\n",
       "Principal_loan_amount                           0.0\n",
       "EMI_rate_in_percentage_of_disposable_income     0.0\n",
       "Property                                       15.4\n",
       "Has_coapplicant                                 0.0\n",
       "Has_guarantor                                   0.0\n",
       "Number_of_existing_loans_at_this_bank           0.0\n",
       "Loan_history                                    0.0\n",
       "high_risk_applicant                             0.0\n",
       "dtype: float64"
      ]
     },
     "execution_count": 24,
     "metadata": {},
     "output_type": "execute_result"
    }
   ],
   "source": [
    "missing_per=df_new.isnull().sum() * 100 / len(df_new)\n",
    "missing_per"
   ]
  },
  {
   "cell_type": "code",
   "execution_count": 25,
   "id": "75057b7d",
   "metadata": {},
   "outputs": [
    {
     "data": {
      "text/plain": [
       "0"
      ]
     },
     "execution_count": 25,
     "metadata": {},
     "output_type": "execute_result"
    }
   ],
   "source": [
    "df_new['Has_been_employed_for_at_least'] = df_new['Has_been_employed_for_at_least'].fillna('Missing')\n",
    "df_new['Has_been_employed_for_at_least'].isnull().sum()"
   ]
  },
  {
   "cell_type": "code",
   "execution_count": 26,
   "id": "a90165ba",
   "metadata": {},
   "outputs": [
    {
     "data": {
      "text/html": [
       "<div>\n",
       "<style scoped>\n",
       "    .dataframe tbody tr th:only-of-type {\n",
       "        vertical-align: middle;\n",
       "    }\n",
       "\n",
       "    .dataframe tbody tr th {\n",
       "        vertical-align: top;\n",
       "    }\n",
       "\n",
       "    .dataframe thead th {\n",
       "        text-align: right;\n",
       "    }\n",
       "</style>\n",
       "<table border=\"1\" class=\"dataframe\">\n",
       "  <thead>\n",
       "    <tr style=\"text-align: right;\">\n",
       "      <th></th>\n",
       "      <th>Primary_applicant_age_in_years</th>\n",
       "      <th>Gender</th>\n",
       "      <th>Marital_status</th>\n",
       "      <th>Number_of_dependents</th>\n",
       "      <th>Housing</th>\n",
       "      <th>Years_at_current_residence</th>\n",
       "      <th>Employment_status</th>\n",
       "      <th>Has_been_employed_for_at_least</th>\n",
       "      <th>Foreign_worker</th>\n",
       "      <th>Savings_account_balance</th>\n",
       "      <th>...</th>\n",
       "      <th>Purpose</th>\n",
       "      <th>Principal_loan_amount</th>\n",
       "      <th>EMI_rate_in_percentage_of_disposable_income</th>\n",
       "      <th>Property</th>\n",
       "      <th>Has_coapplicant</th>\n",
       "      <th>Has_guarantor</th>\n",
       "      <th>Number_of_existing_loans_at_this_bank</th>\n",
       "      <th>Loan_history</th>\n",
       "      <th>high_risk_applicant</th>\n",
       "      <th>Has_been_employed_for_at_least(years)</th>\n",
       "    </tr>\n",
       "  </thead>\n",
       "  <tbody>\n",
       "    <tr>\n",
       "      <th>0</th>\n",
       "      <td>67</td>\n",
       "      <td>male</td>\n",
       "      <td>single</td>\n",
       "      <td>1</td>\n",
       "      <td>own</td>\n",
       "      <td>4</td>\n",
       "      <td>skilled employee / official</td>\n",
       "      <td>7 years</td>\n",
       "      <td>1</td>\n",
       "      <td>NaN</td>\n",
       "      <td>...</td>\n",
       "      <td>electronic equipment</td>\n",
       "      <td>1169000</td>\n",
       "      <td>4</td>\n",
       "      <td>real estate</td>\n",
       "      <td>0</td>\n",
       "      <td>0</td>\n",
       "      <td>2</td>\n",
       "      <td>critical/pending loans at other banks</td>\n",
       "      <td>0</td>\n",
       "      <td>7.0</td>\n",
       "    </tr>\n",
       "    <tr>\n",
       "      <th>1</th>\n",
       "      <td>22</td>\n",
       "      <td>female</td>\n",
       "      <td>divorced/separated/married</td>\n",
       "      <td>1</td>\n",
       "      <td>own</td>\n",
       "      <td>2</td>\n",
       "      <td>skilled employee / official</td>\n",
       "      <td>1 year</td>\n",
       "      <td>1</td>\n",
       "      <td>Low</td>\n",
       "      <td>...</td>\n",
       "      <td>electronic equipment</td>\n",
       "      <td>5951000</td>\n",
       "      <td>2</td>\n",
       "      <td>real estate</td>\n",
       "      <td>0</td>\n",
       "      <td>0</td>\n",
       "      <td>1</td>\n",
       "      <td>existing loans paid back duly till now</td>\n",
       "      <td>1</td>\n",
       "      <td>1.0</td>\n",
       "    </tr>\n",
       "    <tr>\n",
       "      <th>2</th>\n",
       "      <td>49</td>\n",
       "      <td>male</td>\n",
       "      <td>single</td>\n",
       "      <td>2</td>\n",
       "      <td>own</td>\n",
       "      <td>3</td>\n",
       "      <td>unskilled - resident</td>\n",
       "      <td>4 years</td>\n",
       "      <td>1</td>\n",
       "      <td>Low</td>\n",
       "      <td>...</td>\n",
       "      <td>education</td>\n",
       "      <td>2096000</td>\n",
       "      <td>2</td>\n",
       "      <td>real estate</td>\n",
       "      <td>0</td>\n",
       "      <td>0</td>\n",
       "      <td>1</td>\n",
       "      <td>critical/pending loans at other banks</td>\n",
       "      <td>0</td>\n",
       "      <td>4.0</td>\n",
       "    </tr>\n",
       "    <tr>\n",
       "      <th>3</th>\n",
       "      <td>45</td>\n",
       "      <td>male</td>\n",
       "      <td>single</td>\n",
       "      <td>2</td>\n",
       "      <td>for free</td>\n",
       "      <td>4</td>\n",
       "      <td>skilled employee / official</td>\n",
       "      <td>4 years</td>\n",
       "      <td>1</td>\n",
       "      <td>Low</td>\n",
       "      <td>...</td>\n",
       "      <td>FF&amp;E</td>\n",
       "      <td>7882000</td>\n",
       "      <td>2</td>\n",
       "      <td>building society savings agreement/life insurance</td>\n",
       "      <td>0</td>\n",
       "      <td>1</td>\n",
       "      <td>1</td>\n",
       "      <td>existing loans paid back duly till now</td>\n",
       "      <td>0</td>\n",
       "      <td>4.0</td>\n",
       "    </tr>\n",
       "    <tr>\n",
       "      <th>4</th>\n",
       "      <td>53</td>\n",
       "      <td>male</td>\n",
       "      <td>single</td>\n",
       "      <td>2</td>\n",
       "      <td>for free</td>\n",
       "      <td>4</td>\n",
       "      <td>skilled employee / official</td>\n",
       "      <td>1 year</td>\n",
       "      <td>1</td>\n",
       "      <td>Low</td>\n",
       "      <td>...</td>\n",
       "      <td>new vehicle</td>\n",
       "      <td>4870000</td>\n",
       "      <td>3</td>\n",
       "      <td>NaN</td>\n",
       "      <td>0</td>\n",
       "      <td>0</td>\n",
       "      <td>2</td>\n",
       "      <td>delay in paying off loans in the past</td>\n",
       "      <td>1</td>\n",
       "      <td>1.0</td>\n",
       "    </tr>\n",
       "  </tbody>\n",
       "</table>\n",
       "<p>5 rows × 21 columns</p>\n",
       "</div>"
      ],
      "text/plain": [
       "   Primary_applicant_age_in_years  Gender              Marital_status  \\\n",
       "0                              67    male                      single   \n",
       "1                              22  female  divorced/separated/married   \n",
       "2                              49    male                      single   \n",
       "3                              45    male                      single   \n",
       "4                              53    male                      single   \n",
       "\n",
       "   Number_of_dependents   Housing  Years_at_current_residence  \\\n",
       "0                     1       own                           4   \n",
       "1                     1       own                           2   \n",
       "2                     2       own                           3   \n",
       "3                     2  for free                           4   \n",
       "4                     2  for free                           4   \n",
       "\n",
       "             Employment_status Has_been_employed_for_at_least  Foreign_worker  \\\n",
       "0  skilled employee / official                        7 years               1   \n",
       "1  skilled employee / official                         1 year               1   \n",
       "2         unskilled - resident                        4 years               1   \n",
       "3  skilled employee / official                        4 years               1   \n",
       "4  skilled employee / official                         1 year               1   \n",
       "\n",
       "  Savings_account_balance  ...               Purpose Principal_loan_amount  \\\n",
       "0                     NaN  ...  electronic equipment               1169000   \n",
       "1                     Low  ...  electronic equipment               5951000   \n",
       "2                     Low  ...             education               2096000   \n",
       "3                     Low  ...                  FF&E               7882000   \n",
       "4                     Low  ...           new vehicle               4870000   \n",
       "\n",
       "   EMI_rate_in_percentage_of_disposable_income  \\\n",
       "0                                            4   \n",
       "1                                            2   \n",
       "2                                            2   \n",
       "3                                            2   \n",
       "4                                            3   \n",
       "\n",
       "                                            Property Has_coapplicant  \\\n",
       "0                                        real estate               0   \n",
       "1                                        real estate               0   \n",
       "2                                        real estate               0   \n",
       "3  building society savings agreement/life insurance               0   \n",
       "4                                                NaN               0   \n",
       "\n",
       "   Has_guarantor  Number_of_existing_loans_at_this_bank  \\\n",
       "0              0                                      2   \n",
       "1              0                                      1   \n",
       "2              0                                      1   \n",
       "3              1                                      1   \n",
       "4              0                                      2   \n",
       "\n",
       "                             Loan_history high_risk_applicant  \\\n",
       "0   critical/pending loans at other banks                   0   \n",
       "1  existing loans paid back duly till now                   1   \n",
       "2   critical/pending loans at other banks                   0   \n",
       "3  existing loans paid back duly till now                   0   \n",
       "4   delay in paying off loans in the past                   1   \n",
       "\n",
       "   Has_been_employed_for_at_least(years)  \n",
       "0                                    7.0  \n",
       "1                                    1.0  \n",
       "2                                    4.0  \n",
       "3                                    4.0  \n",
       "4                                    1.0  \n",
       "\n",
       "[5 rows x 21 columns]"
      ]
     },
     "execution_count": 26,
     "metadata": {},
     "output_type": "execute_result"
    }
   ],
   "source": [
    "# we transform the Has_been_employed_for_at_least column so that we get the numerical part.\n",
    "\n",
    "df_new['Has_been_employed_for_at_least(years)'] = df_new['Has_been_employed_for_at_least'].apply(lambda s: s.split(' ')[0])\n",
    "df_new['Has_been_employed_for_at_least(years)'] = pd.to_numeric(df_new['Has_been_employed_for_at_least(years)'],\n",
    "                                   errors='coerce',\n",
    "                                   downcast='integer')\n",
    "df_new.head()"
   ]
  },
  {
   "cell_type": "code",
   "execution_count": 27,
   "id": "ce6b1efe",
   "metadata": {},
   "outputs": [],
   "source": [
    "df_new.drop(columns=[\"Has_been_employed_for_at_least\"], axis=1, inplace=True)"
   ]
  },
  {
   "cell_type": "code",
   "execution_count": 28,
   "id": "9b4d8774",
   "metadata": {},
   "outputs": [
    {
     "data": {
      "text/plain": [
       "1.0    339\n",
       "7.0    253\n",
       "4.0    174\n",
       "0.0    172\n",
       "Name: Has_been_employed_for_at_least(years), dtype: int64"
      ]
     },
     "execution_count": 28,
     "metadata": {},
     "output_type": "execute_result"
    }
   ],
   "source": [
    "df_new['Has_been_employed_for_at_least(years)'].value_counts()"
   ]
  },
  {
   "cell_type": "code",
   "execution_count": 29,
   "id": "09cedf68",
   "metadata": {},
   "outputs": [
    {
     "data": {
      "text/plain": [
       "62"
      ]
     },
     "execution_count": 29,
     "metadata": {},
     "output_type": "execute_result"
    }
   ],
   "source": [
    "df_new['Has_been_employed_for_at_least(years)'].isnull().sum()"
   ]
  },
  {
   "cell_type": "code",
   "execution_count": 30,
   "id": "32765baa",
   "metadata": {},
   "outputs": [
    {
     "data": {
      "text/plain": [
       "<AxesSubplot:xlabel='Has_been_employed_for_at_least(years)', ylabel='Density'>"
      ]
     },
     "execution_count": 30,
     "metadata": {},
     "output_type": "execute_result"
    },
    {
     "data": {
      "image/png": "[encoded data removed]",
      "text/plain": [
       "<Figure size 432x288 with 1 Axes>"
      ]
     },
     "metadata": {
      "needs_background": "light"
     },
     "output_type": "display_data"
    }
   ],
   "source": [
    "sns.kdeplot(data=df_new, x='Has_been_employed_for_at_least(years)')"
   ]
  },
  {
   "cell_type": "markdown",
   "id": "492b3310",
   "metadata": {},
   "source": [
    "<div class=\"alert alert-block alert-info\">\n",
    "<b>Steps to take:</b> In this column, we will use KNN imputation as this will fit the best here.\n",
    "</div>"
   ]
  },
  {
   "cell_type": "code",
   "execution_count": 31,
   "id": "e0ed96d7",
   "metadata": {},
   "outputs": [
    {
     "name": "stdout",
     "output_type": "stream",
     "text": [
      "(1000, 12)\n"
     ]
    },
    {
     "data": {
      "text/plain": [
       "Index(['Primary_applicant_age_in_years', 'Number_of_dependents',\n",
       "       'Years_at_current_residence', 'Foreign_worker', 'Months_loan_taken_for',\n",
       "       'Principal_loan_amount', 'EMI_rate_in_percentage_of_disposable_income',\n",
       "       'Has_coapplicant', 'Has_guarantor',\n",
       "       'Number_of_existing_loans_at_this_bank', 'high_risk_applicant',\n",
       "       'Has_been_employed_for_at_least(years)'],\n",
       "      dtype='object')"
      ]
     },
     "execution_count": 31,
     "metadata": {},
     "output_type": "execute_result"
    }
   ],
   "source": [
    "df_num=df_new.select_dtypes(include='number')\n",
    "print(df_num.shape)\n",
    "df_num.columns"
   ]
  },
  {
   "cell_type": "code",
   "execution_count": 32,
   "id": "74dd03cd",
   "metadata": {},
   "outputs": [
    {
     "data": {
      "text/html": [
       "<style>#sk-container-id-1 {color: black;background-color: white;}#sk-container-id-1 pre{padding: 0;}#sk-container-id-1 div.sk-toggleable {background-color: white;}#sk-container-id-1 label.sk-toggleable__label {cursor: pointer;display: block;width: 100%;margin-bottom: 0;padding: 0.3em;box-sizing: border-box;text-align: center;}#sk-container-id-1 label.sk-toggleable__label-arrow:before {content: \"▸\";float: left;margin-right: 0.25em;color: #696969;}#sk-container-id-1 label.sk-toggleable__label-arrow:hover:before {color: black;}#sk-container-id-1 div.sk-estimator:hover label.sk-toggleable__label-arrow:before {color: black;}#sk-container-id-1 div.sk-toggleable__content {max-height: 0;max-width: 0;overflow: hidden;text-align: left;background-color: #f0f8ff;}#sk-container-id-1 div.sk-toggleable__content pre {margin: 0.2em;color: black;border-radius: 0.25em;background-color: #f0f8ff;}#sk-container-id-1 input.sk-toggleable__control:checked~div.sk-toggleable__content {max-height: 200px;max-width: 100%;overflow: auto;}#sk-container-id-1 input.sk-toggleable__control:checked~label.sk-toggleable__label-arrow:before {content: \"▾\";}#sk-container-id-1 div.sk-estimator input.sk-toggleable__control:checked~label.sk-toggleable__label {background-color: #d4ebff;}#sk-container-id-1 div.sk-label input.sk-toggleable__control:checked~label.sk-toggleable__label {background-color: #d4ebff;}#sk-container-id-1 input.sk-hidden--visually {border: 0;clip: rect(1px 1px 1px 1px);clip: rect(1px, 1px, 1px, 1px);height: 1px;margin: -1px;overflow: hidden;padding: 0;position: absolute;width: 1px;}#sk-container-id-1 div.sk-estimator {font-family: monospace;background-color: #f0f8ff;border: 1px dotted black;border-radius: 0.25em;box-sizing: border-box;margin-bottom: 0.5em;}#sk-container-id-1 div.sk-estimator:hover {background-color: #d4ebff;}#sk-container-id-1 div.sk-parallel-item::after {content: \"\";width: 100%;border-bottom: 1px solid gray;flex-grow: 1;}#sk-container-id-1 div.sk-label:hover label.sk-toggleable__label {background-color: #d4ebff;}#sk-container-id-1 div.sk-serial::before {content: \"\";position: absolute;border-left: 1px solid gray;box-sizing: border-box;top: 0;bottom: 0;left: 50%;z-index: 0;}#sk-container-id-1 div.sk-serial {display: flex;flex-direction: column;align-items: center;background-color: white;padding-right: 0.2em;padding-left: 0.2em;position: relative;}#sk-container-id-1 div.sk-item {position: relative;z-index: 1;}#sk-container-id-1 div.sk-parallel {display: flex;align-items: stretch;justify-content: center;background-color: white;position: relative;}#sk-container-id-1 div.sk-item::before, #sk-container-id-1 div.sk-parallel-item::before {content: \"\";position: absolute;border-left: 1px solid gray;box-sizing: border-box;top: 0;bottom: 0;left: 50%;z-index: -1;}#sk-container-id-1 div.sk-parallel-item {display: flex;flex-direction: column;z-index: 1;position: relative;background-color: white;}#sk-container-id-1 div.sk-parallel-item:first-child::after {align-self: flex-end;width: 50%;}#sk-container-id-1 div.sk-parallel-item:last-child::after {align-self: flex-start;width: 50%;}#sk-container-id-1 div.sk-parallel-item:only-child::after {width: 0;}#sk-container-id-1 div.sk-dashed-wrapped {border: 1px dashed gray;margin: 0 0.4em 0.5em 0.4em;box-sizing: border-box;padding-bottom: 0.4em;background-color: white;}#sk-container-id-1 div.sk-label label {font-family: monospace;font-weight: bold;display: inline-block;line-height: 1.2em;}#sk-container-id-1 div.sk-label-container {text-align: center;}#sk-container-id-1 div.sk-container {/* jupyter's `normalize.less` sets `[hidden] { display: none; }` but bootstrap.min.css set `[hidden] { display: none !important; }` so we also need the `!important` here to be able to override the default hidden behavior on the sphinx rendered scikit-learn.org. See: https://github.com/scikit-learn/scikit-learn/issues/21755 */display: inline-block !important;position: relative;}#sk-container-id-1 div.sk-text-repr-fallback {display: none;}</style><div id=\"sk-container-id-1\" class=\"sk-top-container\"><div class=\"sk-text-repr-fallback\"><pre>KNNImputer(n_neighbors=3)</pre><b>In a Jupyter environment, please rerun this cell to show the HTML representation or trust the notebook. <br />On GitHub, the HTML representation is unable to render, please try loading this page with nbviewer.org.</b></div><div class=\"sk-container\" hidden><div class=\"sk-item\"><div class=\"sk-estimator sk-toggleable\"><input class=\"sk-toggleable__control sk-hidden--visually\" id=\"sk-estimator-id-1\" type=\"checkbox\" checked><label for=\"sk-estimator-id-1\" class=\"sk-toggleable__label sk-toggleable__label-arrow\">KNNImputer</label><div class=\"sk-toggleable__content\"><pre>KNNImputer(n_neighbors=3)</pre></div></div></div></div></div>"
      ],
      "text/plain": [
       "KNNImputer(n_neighbors=3)"
      ]
     },
     "execution_count": 32,
     "metadata": {},
     "output_type": "execute_result"
    }
   ],
   "source": [
    "knn = KNNImputer(n_neighbors = 3)\n",
    "\n",
    "knn.fit(df_num)"
   ]
  },
  {
   "cell_type": "code",
   "execution_count": 33,
   "id": "693c17cf",
   "metadata": {},
   "outputs": [],
   "source": [
    "X = knn.transform(df_num)"
   ]
  },
  {
   "cell_type": "code",
   "execution_count": 34,
   "id": "ef2c8290",
   "metadata": {},
   "outputs": [
    {
     "name": "stdout",
     "output_type": "stream",
     "text": [
      "<class 'pandas.core.frame.DataFrame'>\n",
      "RangeIndex: 1000 entries, 0 to 999\n",
      "Data columns (total 12 columns):\n",
      " #   Column                                       Non-Null Count  Dtype  \n",
      "---  ------                                       --------------  -----  \n",
      " 0   Primary_applicant_age_in_years               1000 non-null   float64\n",
      " 1   Number_of_dependents                         1000 non-null   float64\n",
      " 2   Years_at_current_residence                   1000 non-null   float64\n",
      " 3   Foreign_worker                               1000 non-null   float64\n",
      " 4   Months_loan_taken_for                        1000 non-null   float64\n",
      " 5   Principal_loan_amount                        1000 non-null   float64\n",
      " 6   EMI_rate_in_percentage_of_disposable_income  1000 non-null   float64\n",
      " 7   Has_coapplicant                              1000 non-null   float64\n",
      " 8   Has_guarantor                                1000 non-null   float64\n",
      " 9   Number_of_existing_loans_at_this_bank        1000 non-null   float64\n",
      " 10  high_risk_applicant                          1000 non-null   float64\n",
      " 11  Has_been_employed_for_at_least(years)        1000 non-null   float64\n",
      "dtypes: float64(12)\n",
      "memory usage: 93.9 KB\n"
     ]
    }
   ],
   "source": [
    "df_num = pd.DataFrame(X, columns = df_num.columns)\n",
    "df_num.info()"
   ]
  },
  {
   "cell_type": "code",
   "execution_count": 35,
   "id": "39ceb477",
   "metadata": {},
   "outputs": [],
   "source": [
    "\n",
    "df_new['Has_been_employed_for_at_least(in years)'] = df_num['Has_been_employed_for_at_least(years)']"
   ]
  },
  {
   "cell_type": "code",
   "execution_count": 36,
   "id": "195b7a74",
   "metadata": {},
   "outputs": [
    {
     "data": {
      "text/html": [
       "<div>\n",
       "<style scoped>\n",
       "    .dataframe tbody tr th:only-of-type {\n",
       "        vertical-align: middle;\n",
       "    }\n",
       "\n",
       "    .dataframe tbody tr th {\n",
       "        vertical-align: top;\n",
       "    }\n",
       "\n",
       "    .dataframe thead th {\n",
       "        text-align: right;\n",
       "    }\n",
       "</style>\n",
       "<table border=\"1\" class=\"dataframe\">\n",
       "  <thead>\n",
       "    <tr style=\"text-align: right;\">\n",
       "      <th></th>\n",
       "      <th>Primary_applicant_age_in_years</th>\n",
       "      <th>Gender</th>\n",
       "      <th>Marital_status</th>\n",
       "      <th>Number_of_dependents</th>\n",
       "      <th>Housing</th>\n",
       "      <th>Years_at_current_residence</th>\n",
       "      <th>Employment_status</th>\n",
       "      <th>Foreign_worker</th>\n",
       "      <th>Savings_account_balance</th>\n",
       "      <th>Months_loan_taken_for</th>\n",
       "      <th>...</th>\n",
       "      <th>Principal_loan_amount</th>\n",
       "      <th>EMI_rate_in_percentage_of_disposable_income</th>\n",
       "      <th>Property</th>\n",
       "      <th>Has_coapplicant</th>\n",
       "      <th>Has_guarantor</th>\n",
       "      <th>Number_of_existing_loans_at_this_bank</th>\n",
       "      <th>Loan_history</th>\n",
       "      <th>high_risk_applicant</th>\n",
       "      <th>Has_been_employed_for_at_least(years)</th>\n",
       "      <th>Has_been_employed_for_at_least(in years)</th>\n",
       "    </tr>\n",
       "  </thead>\n",
       "  <tbody>\n",
       "    <tr>\n",
       "      <th>0</th>\n",
       "      <td>67</td>\n",
       "      <td>male</td>\n",
       "      <td>single</td>\n",
       "      <td>1</td>\n",
       "      <td>own</td>\n",
       "      <td>4</td>\n",
       "      <td>skilled employee / official</td>\n",
       "      <td>1</td>\n",
       "      <td>NaN</td>\n",
       "      <td>6</td>\n",
       "      <td>...</td>\n",
       "      <td>1169000</td>\n",
       "      <td>4</td>\n",
       "      <td>real estate</td>\n",
       "      <td>0</td>\n",
       "      <td>0</td>\n",
       "      <td>2</td>\n",
       "      <td>critical/pending loans at other banks</td>\n",
       "      <td>0</td>\n",
       "      <td>7.0</td>\n",
       "      <td>7.0</td>\n",
       "    </tr>\n",
       "    <tr>\n",
       "      <th>1</th>\n",
       "      <td>22</td>\n",
       "      <td>female</td>\n",
       "      <td>divorced/separated/married</td>\n",
       "      <td>1</td>\n",
       "      <td>own</td>\n",
       "      <td>2</td>\n",
       "      <td>skilled employee / official</td>\n",
       "      <td>1</td>\n",
       "      <td>Low</td>\n",
       "      <td>48</td>\n",
       "      <td>...</td>\n",
       "      <td>5951000</td>\n",
       "      <td>2</td>\n",
       "      <td>real estate</td>\n",
       "      <td>0</td>\n",
       "      <td>0</td>\n",
       "      <td>1</td>\n",
       "      <td>existing loans paid back duly till now</td>\n",
       "      <td>1</td>\n",
       "      <td>1.0</td>\n",
       "      <td>1.0</td>\n",
       "    </tr>\n",
       "    <tr>\n",
       "      <th>2</th>\n",
       "      <td>49</td>\n",
       "      <td>male</td>\n",
       "      <td>single</td>\n",
       "      <td>2</td>\n",
       "      <td>own</td>\n",
       "      <td>3</td>\n",
       "      <td>unskilled - resident</td>\n",
       "      <td>1</td>\n",
       "      <td>Low</td>\n",
       "      <td>12</td>\n",
       "      <td>...</td>\n",
       "      <td>2096000</td>\n",
       "      <td>2</td>\n",
       "      <td>real estate</td>\n",
       "      <td>0</td>\n",
       "      <td>0</td>\n",
       "      <td>1</td>\n",
       "      <td>critical/pending loans at other banks</td>\n",
       "      <td>0</td>\n",
       "      <td>4.0</td>\n",
       "      <td>4.0</td>\n",
       "    </tr>\n",
       "    <tr>\n",
       "      <th>3</th>\n",
       "      <td>45</td>\n",
       "      <td>male</td>\n",
       "      <td>single</td>\n",
       "      <td>2</td>\n",
       "      <td>for free</td>\n",
       "      <td>4</td>\n",
       "      <td>skilled employee / official</td>\n",
       "      <td>1</td>\n",
       "      <td>Low</td>\n",
       "      <td>42</td>\n",
       "      <td>...</td>\n",
       "      <td>7882000</td>\n",
       "      <td>2</td>\n",
       "      <td>building society savings agreement/life insurance</td>\n",
       "      <td>0</td>\n",
       "      <td>1</td>\n",
       "      <td>1</td>\n",
       "      <td>existing loans paid back duly till now</td>\n",
       "      <td>0</td>\n",
       "      <td>4.0</td>\n",
       "      <td>4.0</td>\n",
       "    </tr>\n",
       "    <tr>\n",
       "      <th>4</th>\n",
       "      <td>53</td>\n",
       "      <td>male</td>\n",
       "      <td>single</td>\n",
       "      <td>2</td>\n",
       "      <td>for free</td>\n",
       "      <td>4</td>\n",
       "      <td>skilled employee / official</td>\n",
       "      <td>1</td>\n",
       "      <td>Low</td>\n",
       "      <td>24</td>\n",
       "      <td>...</td>\n",
       "      <td>4870000</td>\n",
       "      <td>3</td>\n",
       "      <td>NaN</td>\n",
       "      <td>0</td>\n",
       "      <td>0</td>\n",
       "      <td>2</td>\n",
       "      <td>delay in paying off loans in the past</td>\n",
       "      <td>1</td>\n",
       "      <td>1.0</td>\n",
       "      <td>1.0</td>\n",
       "    </tr>\n",
       "  </tbody>\n",
       "</table>\n",
       "<p>5 rows × 21 columns</p>\n",
       "</div>"
      ],
      "text/plain": [
       "   Primary_applicant_age_in_years  Gender              Marital_status  \\\n",
       "0                              67    male                      single   \n",
       "1                              22  female  divorced/separated/married   \n",
       "2                              49    male                      single   \n",
       "3                              45    male                      single   \n",
       "4                              53    male                      single   \n",
       "\n",
       "   Number_of_dependents   Housing  Years_at_current_residence  \\\n",
       "0                     1       own                           4   \n",
       "1                     1       own                           2   \n",
       "2                     2       own                           3   \n",
       "3                     2  for free                           4   \n",
       "4                     2  for free                           4   \n",
       "\n",
       "             Employment_status  Foreign_worker Savings_account_balance  \\\n",
       "0  skilled employee / official               1                     NaN   \n",
       "1  skilled employee / official               1                     Low   \n",
       "2         unskilled - resident               1                     Low   \n",
       "3  skilled employee / official               1                     Low   \n",
       "4  skilled employee / official               1                     Low   \n",
       "\n",
       "   Months_loan_taken_for  ... Principal_loan_amount  \\\n",
       "0                      6  ...               1169000   \n",
       "1                     48  ...               5951000   \n",
       "2                     12  ...               2096000   \n",
       "3                     42  ...               7882000   \n",
       "4                     24  ...               4870000   \n",
       "\n",
       "   EMI_rate_in_percentage_of_disposable_income  \\\n",
       "0                                            4   \n",
       "1                                            2   \n",
       "2                                            2   \n",
       "3                                            2   \n",
       "4                                            3   \n",
       "\n",
       "                                            Property Has_coapplicant  \\\n",
       "0                                        real estate               0   \n",
       "1                                        real estate               0   \n",
       "2                                        real estate               0   \n",
       "3  building society savings agreement/life insurance               0   \n",
       "4                                                NaN               0   \n",
       "\n",
       "   Has_guarantor  Number_of_existing_loans_at_this_bank  \\\n",
       "0              0                                      2   \n",
       "1              0                                      1   \n",
       "2              0                                      1   \n",
       "3              1                                      1   \n",
       "4              0                                      2   \n",
       "\n",
       "                             Loan_history high_risk_applicant  \\\n",
       "0   critical/pending loans at other banks                   0   \n",
       "1  existing loans paid back duly till now                   1   \n",
       "2   critical/pending loans at other banks                   0   \n",
       "3  existing loans paid back duly till now                   0   \n",
       "4   delay in paying off loans in the past                   1   \n",
       "\n",
       "   Has_been_employed_for_at_least(years)  \\\n",
       "0                                    7.0   \n",
       "1                                    1.0   \n",
       "2                                    4.0   \n",
       "3                                    4.0   \n",
       "4                                    1.0   \n",
       "\n",
       "   Has_been_employed_for_at_least(in years)  \n",
       "0                                       7.0  \n",
       "1                                       1.0  \n",
       "2                                       4.0  \n",
       "3                                       4.0  \n",
       "4                                       1.0  \n",
       "\n",
       "[5 rows x 21 columns]"
      ]
     },
     "execution_count": 36,
     "metadata": {},
     "output_type": "execute_result"
    }
   ],
   "source": [
    "df_new.head()"
   ]
  },
  {
   "cell_type": "markdown",
   "id": "d81627f6",
   "metadata": {},
   "source": [
    "### Handling Categorical missing values"
   ]
  },
  {
   "cell_type": "code",
   "execution_count": 37,
   "id": "b019d0f3",
   "metadata": {},
   "outputs": [
    {
     "data": {
      "text/plain": [
       "Index(['Gender', 'Marital_status', 'Housing', 'Employment_status',\n",
       "       'Savings_account_balance', 'Purpose', 'Property', 'Loan_history'],\n",
       "      dtype='object')"
      ]
     },
     "execution_count": 37,
     "metadata": {},
     "output_type": "execute_result"
    }
   ],
   "source": [
    "df_cat=df_new.select_dtypes(include='object')\n",
    "df_cat.columns"
   ]
  },
  {
   "cell_type": "code",
   "execution_count": 38,
   "id": "dde13b0c",
   "metadata": {},
   "outputs": [
    {
     "data": {
      "text/plain": [
       "Gender                       0\n",
       "Marital_status               0\n",
       "Housing                      0\n",
       "Employment_status            0\n",
       "Savings_account_balance    183\n",
       "Purpose                     12\n",
       "Property                   154\n",
       "Loan_history                 0\n",
       "dtype: int64"
      ]
     },
     "execution_count": 38,
     "metadata": {},
     "output_type": "execute_result"
    }
   ],
   "source": [
    "df_cat.isnull().sum()"
   ]
  },
  {
   "cell_type": "code",
   "execution_count": 39,
   "id": "2f4eb16b",
   "metadata": {},
   "outputs": [],
   "source": [
    "col=list(df_cat.columns.values)"
   ]
  },
  {
   "cell_type": "code",
   "execution_count": 40,
   "id": "9e4d2056",
   "metadata": {},
   "outputs": [
    {
     "name": "stdout",
     "output_type": "stream",
     "text": [
      "male      690\n",
      "female    310\n",
      "Name: Gender, dtype: int64\n",
      "single                        548\n",
      "divorced/separated/married    310\n",
      "married/widowed                92\n",
      "divorced/separated             50\n",
      "Name: Marital_status, dtype: int64\n",
      "own         713\n",
      "rent        179\n",
      "for free    108\n",
      "Name: Housing, dtype: int64\n",
      "skilled employee / official                                         630\n",
      "unskilled - resident                                                200\n",
      "management / self-employed / highly qualified employee / officer    148\n",
      "unemployed / unskilled - non-resident                                22\n",
      "Name: Employment_status, dtype: int64\n",
      "Low          603\n",
      "Medium       103\n",
      "High          63\n",
      "Very high     48\n",
      "Name: Savings_account_balance, dtype: int64\n",
      "electronic equipment    280\n",
      "new vehicle             234\n",
      "FF&E                    181\n",
      "used vehicle            103\n",
      "business                 97\n",
      "education                50\n",
      "repair costs             22\n",
      "domestic appliances      12\n",
      "career development        9\n",
      "Name: Purpose, dtype: int64\n",
      "car or other                                         332\n",
      "real estate                                          282\n",
      "building society savings agreement/life insurance    232\n",
      "Name: Property, dtype: int64\n",
      "existing loans paid back duly till now     530\n",
      "critical/pending loans at other banks      293\n",
      "delay in paying off loans in the past       88\n",
      "all loans at this bank paid back duly       49\n",
      "no loans taken/all loans paid back duly     40\n",
      "Name: Loan_history, dtype: int64\n"
     ]
    }
   ],
   "source": [
    "for i in range(len(col)):\n",
    "    print(f\"{df_cat[col[i]].value_counts()}\")"
   ]
  },
  {
   "cell_type": "markdown",
   "id": "9ac670d0",
   "metadata": {},
   "source": [
    "<div class=\"alert alert-block alert-info\">\n",
    "<b>Tip:</b> For categorical missing values, it is better to encode them first and then apply imputation instead of filling it with \"missing\". This works when we are just performing EDA but if we want to train a model then it is better to perform imputation like knn etc after encoding them. But when we deploy it, it will run slow.\n",
    "</div>\n"
   ]
  },
  {
   "cell_type": "code",
   "execution_count": 41,
   "id": "11932439",
   "metadata": {},
   "outputs": [],
   "source": [
    "from sklearn.compose import ColumnTransformer\n",
    "from sklearn.preprocessing import OneHotEncoder\n",
    "from sklearn.preprocessing import OrdinalEncoder, LabelEncoder\n",
    "\n",
    "transformer = ColumnTransformer(transformers=[\n",
    "    ('tnf1',OrdinalEncoder(),['Property','Savings_account_balance','Purpose']),\n",
    "    ('tnf3',OneHotEncoder(sparse=False,drop='first'),['Gender','Marital_status','Housing','Employment_status','Loan_history'])\n",
    "],remainder='passthrough')"
   ]
  },
  {
   "cell_type": "code",
   "execution_count": 42,
   "id": "134e94a2",
   "metadata": {},
   "outputs": [],
   "source": [
    "df_cat_trns=transformer.fit_transform(df_cat)"
   ]
  },
  {
   "cell_type": "code",
   "execution_count": 43,
   "id": "29ae1882",
   "metadata": {},
   "outputs": [
    {
     "data": {
      "text/plain": [
       "array([[ 2., nan,  5., ...,  0.,  0.,  0.],\n",
       "       [ 2.,  1.,  5., ...,  0.,  1.,  0.],\n",
       "       [ 2.,  1.,  4., ...,  0.,  0.,  0.],\n",
       "       ...,\n",
       "       [ 1.,  1.,  5., ...,  0.,  1.,  0.],\n",
       "       [nan,  1.,  5., ...,  0.,  1.,  0.],\n",
       "       [ 1.,  2.,  8., ...,  0.,  0.,  0.]])"
      ]
     },
     "execution_count": 43,
     "metadata": {},
     "output_type": "execute_result"
    }
   ],
   "source": [
    "df_cat_trns"
   ]
  },
  {
   "cell_type": "code",
   "execution_count": 44,
   "id": "42bd4291",
   "metadata": {},
   "outputs": [
    {
     "data": {
      "text/html": [
       "<div>\n",
       "<style scoped>\n",
       "    .dataframe tbody tr th:only-of-type {\n",
       "        vertical-align: middle;\n",
       "    }\n",
       "\n",
       "    .dataframe tbody tr th {\n",
       "        vertical-align: top;\n",
       "    }\n",
       "\n",
       "    .dataframe thead th {\n",
       "        text-align: right;\n",
       "    }\n",
       "</style>\n",
       "<table border=\"1\" class=\"dataframe\">\n",
       "  <thead>\n",
       "    <tr style=\"text-align: right;\">\n",
       "      <th></th>\n",
       "      <th>tnf1__Property</th>\n",
       "      <th>tnf1__Savings_account_balance</th>\n",
       "      <th>tnf1__Purpose</th>\n",
       "      <th>tnf3__Gender_male</th>\n",
       "      <th>tnf3__Marital_status_divorced/separated/married</th>\n",
       "      <th>tnf3__Marital_status_married/widowed</th>\n",
       "      <th>tnf3__Marital_status_single</th>\n",
       "      <th>tnf3__Housing_own</th>\n",
       "      <th>tnf3__Housing_rent</th>\n",
       "      <th>tnf3__Employment_status_skilled employee / official</th>\n",
       "      <th>tnf3__Employment_status_unemployed / unskilled - non-resident</th>\n",
       "      <th>tnf3__Employment_status_unskilled - resident</th>\n",
       "      <th>tnf3__Loan_history_critical/pending loans at other banks</th>\n",
       "      <th>tnf3__Loan_history_delay in paying off loans in the past</th>\n",
       "      <th>tnf3__Loan_history_existing loans paid back duly till now</th>\n",
       "      <th>tnf3__Loan_history_no loans taken/all loans paid back duly</th>\n",
       "    </tr>\n",
       "  </thead>\n",
       "  <tbody>\n",
       "    <tr>\n",
       "      <th>0</th>\n",
       "      <td>2.0</td>\n",
       "      <td>NaN</td>\n",
       "      <td>5.0</td>\n",
       "      <td>1.0</td>\n",
       "      <td>0.0</td>\n",
       "      <td>0.0</td>\n",
       "      <td>1.0</td>\n",
       "      <td>1.0</td>\n",
       "      <td>0.0</td>\n",
       "      <td>1.0</td>\n",
       "      <td>0.0</td>\n",
       "      <td>0.0</td>\n",
       "      <td>1.0</td>\n",
       "      <td>0.0</td>\n",
       "      <td>0.0</td>\n",
       "      <td>0.0</td>\n",
       "    </tr>\n",
       "    <tr>\n",
       "      <th>1</th>\n",
       "      <td>2.0</td>\n",
       "      <td>1.0</td>\n",
       "      <td>5.0</td>\n",
       "      <td>0.0</td>\n",
       "      <td>1.0</td>\n",
       "      <td>0.0</td>\n",
       "      <td>0.0</td>\n",
       "      <td>1.0</td>\n",
       "      <td>0.0</td>\n",
       "      <td>1.0</td>\n",
       "      <td>0.0</td>\n",
       "      <td>0.0</td>\n",
       "      <td>0.0</td>\n",
       "      <td>0.0</td>\n",
       "      <td>1.0</td>\n",
       "      <td>0.0</td>\n",
       "    </tr>\n",
       "    <tr>\n",
       "      <th>2</th>\n",
       "      <td>2.0</td>\n",
       "      <td>1.0</td>\n",
       "      <td>4.0</td>\n",
       "      <td>1.0</td>\n",
       "      <td>0.0</td>\n",
       "      <td>0.0</td>\n",
       "      <td>1.0</td>\n",
       "      <td>1.0</td>\n",
       "      <td>0.0</td>\n",
       "      <td>0.0</td>\n",
       "      <td>0.0</td>\n",
       "      <td>1.0</td>\n",
       "      <td>1.0</td>\n",
       "      <td>0.0</td>\n",
       "      <td>0.0</td>\n",
       "      <td>0.0</td>\n",
       "    </tr>\n",
       "    <tr>\n",
       "      <th>3</th>\n",
       "      <td>0.0</td>\n",
       "      <td>1.0</td>\n",
       "      <td>0.0</td>\n",
       "      <td>1.0</td>\n",
       "      <td>0.0</td>\n",
       "      <td>0.0</td>\n",
       "      <td>1.0</td>\n",
       "      <td>0.0</td>\n",
       "      <td>0.0</td>\n",
       "      <td>1.0</td>\n",
       "      <td>0.0</td>\n",
       "      <td>0.0</td>\n",
       "      <td>0.0</td>\n",
       "      <td>0.0</td>\n",
       "      <td>1.0</td>\n",
       "      <td>0.0</td>\n",
       "    </tr>\n",
       "    <tr>\n",
       "      <th>4</th>\n",
       "      <td>NaN</td>\n",
       "      <td>1.0</td>\n",
       "      <td>6.0</td>\n",
       "      <td>1.0</td>\n",
       "      <td>0.0</td>\n",
       "      <td>0.0</td>\n",
       "      <td>1.0</td>\n",
       "      <td>0.0</td>\n",
       "      <td>0.0</td>\n",
       "      <td>1.0</td>\n",
       "      <td>0.0</td>\n",
       "      <td>0.0</td>\n",
       "      <td>0.0</td>\n",
       "      <td>1.0</td>\n",
       "      <td>0.0</td>\n",
       "      <td>0.0</td>\n",
       "    </tr>\n",
       "  </tbody>\n",
       "</table>\n",
       "</div>"
      ],
      "text/plain": [
       "   tnf1__Property  tnf1__Savings_account_balance  tnf1__Purpose  \\\n",
       "0             2.0                            NaN            5.0   \n",
       "1             2.0                            1.0            5.0   \n",
       "2             2.0                            1.0            4.0   \n",
       "3             0.0                            1.0            0.0   \n",
       "4             NaN                            1.0            6.0   \n",
       "\n",
       "   tnf3__Gender_male  tnf3__Marital_status_divorced/separated/married  \\\n",
       "0                1.0                                              0.0   \n",
       "1                0.0                                              1.0   \n",
       "2                1.0                                              0.0   \n",
       "3                1.0                                              0.0   \n",
       "4                1.0                                              0.0   \n",
       "\n",
       "   tnf3__Marital_status_married/widowed  tnf3__Marital_status_single  \\\n",
       "0                                   0.0                          1.0   \n",
       "1                                   0.0                          0.0   \n",
       "2                                   0.0                          1.0   \n",
       "3                                   0.0                          1.0   \n",
       "4                                   0.0                          1.0   \n",
       "\n",
       "   tnf3__Housing_own  tnf3__Housing_rent  \\\n",
       "0                1.0                 0.0   \n",
       "1                1.0                 0.0   \n",
       "2                1.0                 0.0   \n",
       "3                0.0                 0.0   \n",
       "4                0.0                 0.0   \n",
       "\n",
       "   tnf3__Employment_status_skilled employee / official  \\\n",
       "0                                                1.0     \n",
       "1                                                1.0     \n",
       "2                                                0.0     \n",
       "3                                                1.0     \n",
       "4                                                1.0     \n",
       "\n",
       "   tnf3__Employment_status_unemployed / unskilled - non-resident  \\\n",
       "0                                                0.0               \n",
       "1                                                0.0               \n",
       "2                                                0.0               \n",
       "3                                                0.0               \n",
       "4                                                0.0               \n",
       "\n",
       "   tnf3__Employment_status_unskilled - resident  \\\n",
       "0                                           0.0   \n",
       "1                                           0.0   \n",
       "2                                           1.0   \n",
       "3                                           0.0   \n",
       "4                                           0.0   \n",
       "\n",
       "   tnf3__Loan_history_critical/pending loans at other banks  \\\n",
       "0                                                1.0          \n",
       "1                                                0.0          \n",
       "2                                                1.0          \n",
       "3                                                0.0          \n",
       "4                                                0.0          \n",
       "\n",
       "   tnf3__Loan_history_delay in paying off loans in the past  \\\n",
       "0                                                0.0          \n",
       "1                                                0.0          \n",
       "2                                                0.0          \n",
       "3                                                0.0          \n",
       "4                                                1.0          \n",
       "\n",
       "   tnf3__Loan_history_existing loans paid back duly till now  \\\n",
       "0                                                0.0           \n",
       "1                                                1.0           \n",
       "2                                                0.0           \n",
       "3                                                1.0           \n",
       "4                                                0.0           \n",
       "\n",
       "   tnf3__Loan_history_no loans taken/all loans paid back duly  \n",
       "0                                                0.0           \n",
       "1                                                0.0           \n",
       "2                                                0.0           \n",
       "3                                                0.0           \n",
       "4                                                0.0           "
      ]
     },
     "execution_count": 44,
     "metadata": {},
     "output_type": "execute_result"
    }
   ],
   "source": [
    "df_cat2 = pd.DataFrame(df_cat_trns,columns=transformer.get_feature_names_out())\n",
    "df_cat2.head()"
   ]
  },
  {
   "cell_type": "code",
   "execution_count": 45,
   "id": "52fcce1b",
   "metadata": {},
   "outputs": [
    {
     "data": {
      "text/html": [
       "<style>#sk-container-id-2 {color: black;background-color: white;}#sk-container-id-2 pre{padding: 0;}#sk-container-id-2 div.sk-toggleable {background-color: white;}#sk-container-id-2 label.sk-toggleable__label {cursor: pointer;display: block;width: 100%;margin-bottom: 0;padding: 0.3em;box-sizing: border-box;text-align: center;}#sk-container-id-2 label.sk-toggleable__label-arrow:before {content: \"▸\";float: left;margin-right: 0.25em;color: #696969;}#sk-container-id-2 label.sk-toggleable__label-arrow:hover:before {color: black;}#sk-container-id-2 div.sk-estimator:hover label.sk-toggleable__label-arrow:before {color: black;}#sk-container-id-2 div.sk-toggleable__content {max-height: 0;max-width: 0;overflow: hidden;text-align: left;background-color: #f0f8ff;}#sk-container-id-2 div.sk-toggleable__content pre {margin: 0.2em;color: black;border-radius: 0.25em;background-color: #f0f8ff;}#sk-container-id-2 input.sk-toggleable__control:checked~div.sk-toggleable__content {max-height: 200px;max-width: 100%;overflow: auto;}#sk-container-id-2 input.sk-toggleable__control:checked~label.sk-toggleable__label-arrow:before {content: \"▾\";}#sk-container-id-2 div.sk-estimator input.sk-toggleable__control:checked~label.sk-toggleable__label {background-color: #d4ebff;}#sk-container-id-2 div.sk-label input.sk-toggleable__control:checked~label.sk-toggleable__label {background-color: #d4ebff;}#sk-container-id-2 input.sk-hidden--visually {border: 0;clip: rect(1px 1px 1px 1px);clip: rect(1px, 1px, 1px, 1px);height: 1px;margin: -1px;overflow: hidden;padding: 0;position: absolute;width: 1px;}#sk-container-id-2 div.sk-estimator {font-family: monospace;background-color: #f0f8ff;border: 1px dotted black;border-radius: 0.25em;box-sizing: border-box;margin-bottom: 0.5em;}#sk-container-id-2 div.sk-estimator:hover {background-color: #d4ebff;}#sk-container-id-2 div.sk-parallel-item::after {content: \"\";width: 100%;border-bottom: 1px solid gray;flex-grow: 1;}#sk-container-id-2 div.sk-label:hover label.sk-toggleable__label {background-color: #d4ebff;}#sk-container-id-2 div.sk-serial::before {content: \"\";position: absolute;border-left: 1px solid gray;box-sizing: border-box;top: 0;bottom: 0;left: 50%;z-index: 0;}#sk-container-id-2 div.sk-serial {display: flex;flex-direction: column;align-items: center;background-color: white;padding-right: 0.2em;padding-left: 0.2em;position: relative;}#sk-container-id-2 div.sk-item {position: relative;z-index: 1;}#sk-container-id-2 div.sk-parallel {display: flex;align-items: stretch;justify-content: center;background-color: white;position: relative;}#sk-container-id-2 div.sk-item::before, #sk-container-id-2 div.sk-parallel-item::before {content: \"\";position: absolute;border-left: 1px solid gray;box-sizing: border-box;top: 0;bottom: 0;left: 50%;z-index: -1;}#sk-container-id-2 div.sk-parallel-item {display: flex;flex-direction: column;z-index: 1;position: relative;background-color: white;}#sk-container-id-2 div.sk-parallel-item:first-child::after {align-self: flex-end;width: 50%;}#sk-container-id-2 div.sk-parallel-item:last-child::after {align-self: flex-start;width: 50%;}#sk-container-id-2 div.sk-parallel-item:only-child::after {width: 0;}#sk-container-id-2 div.sk-dashed-wrapped {border: 1px dashed gray;margin: 0 0.4em 0.5em 0.4em;box-sizing: border-box;padding-bottom: 0.4em;background-color: white;}#sk-container-id-2 div.sk-label label {font-family: monospace;font-weight: bold;display: inline-block;line-height: 1.2em;}#sk-container-id-2 div.sk-label-container {text-align: center;}#sk-container-id-2 div.sk-container {/* jupyter's `normalize.less` sets `[hidden] { display: none; }` but bootstrap.min.css set `[hidden] { display: none !important; }` so we also need the `!important` here to be able to override the default hidden behavior on the sphinx rendered scikit-learn.org. See: https://github.com/scikit-learn/scikit-learn/issues/21755 */display: inline-block !important;position: relative;}#sk-container-id-2 div.sk-text-repr-fallback {display: none;}</style><div id=\"sk-container-id-2\" class=\"sk-top-container\"><div class=\"sk-text-repr-fallback\"><pre>KNNImputer(n_neighbors=3)</pre><b>In a Jupyter environment, please rerun this cell to show the HTML representation or trust the notebook. <br />On GitHub, the HTML representation is unable to render, please try loading this page with nbviewer.org.</b></div><div class=\"sk-container\" hidden><div class=\"sk-item\"><div class=\"sk-estimator sk-toggleable\"><input class=\"sk-toggleable__control sk-hidden--visually\" id=\"sk-estimator-id-2\" type=\"checkbox\" checked><label for=\"sk-estimator-id-2\" class=\"sk-toggleable__label sk-toggleable__label-arrow\">KNNImputer</label><div class=\"sk-toggleable__content\"><pre>KNNImputer(n_neighbors=3)</pre></div></div></div></div></div>"
      ],
      "text/plain": [
       "KNNImputer(n_neighbors=3)"
      ]
     },
     "execution_count": 45,
     "metadata": {},
     "output_type": "execute_result"
    }
   ],
   "source": [
    "knn = KNNImputer(n_neighbors = 3)\n",
    "\n",
    "knn.fit(df_cat2)"
   ]
  },
  {
   "cell_type": "code",
   "execution_count": 46,
   "id": "1ad5ad7e",
   "metadata": {},
   "outputs": [],
   "source": [
    "A = knn.transform(df_cat2)"
   ]
  },
  {
   "cell_type": "code",
   "execution_count": 47,
   "id": "18a845f6",
   "metadata": {},
   "outputs": [
    {
     "name": "stdout",
     "output_type": "stream",
     "text": [
      "<class 'pandas.core.frame.DataFrame'>\n",
      "RangeIndex: 1000 entries, 0 to 999\n",
      "Data columns (total 16 columns):\n",
      " #   Column                                                         Non-Null Count  Dtype  \n",
      "---  ------                                                         --------------  -----  \n",
      " 0   tnf1__Property                                                 1000 non-null   float64\n",
      " 1   tnf1__Savings_account_balance                                  1000 non-null   float64\n",
      " 2   tnf1__Purpose                                                  1000 non-null   float64\n",
      " 3   tnf3__Gender_male                                              1000 non-null   float64\n",
      " 4   tnf3__Marital_status_divorced/separated/married                1000 non-null   float64\n",
      " 5   tnf3__Marital_status_married/widowed                           1000 non-null   float64\n",
      " 6   tnf3__Marital_status_single                                    1000 non-null   float64\n",
      " 7   tnf3__Housing_own                                              1000 non-null   float64\n",
      " 8   tnf3__Housing_rent                                             1000 non-null   float64\n",
      " 9   tnf3__Employment_status_skilled employee / official            1000 non-null   float64\n",
      " 10  tnf3__Employment_status_unemployed / unskilled - non-resident  1000 non-null   float64\n",
      " 11  tnf3__Employment_status_unskilled - resident                   1000 non-null   float64\n",
      " 12  tnf3__Loan_history_critical/pending loans at other banks       1000 non-null   float64\n",
      " 13  tnf3__Loan_history_delay in paying off loans in the past       1000 non-null   float64\n",
      " 14  tnf3__Loan_history_existing loans paid back duly till now      1000 non-null   float64\n",
      " 15  tnf3__Loan_history_no loans taken/all loans paid back duly     1000 non-null   float64\n",
      "dtypes: float64(16)\n",
      "memory usage: 125.1 KB\n"
     ]
    }
   ],
   "source": [
    "df_cat2 = pd.DataFrame(A, columns = df_cat2.columns)\n",
    "df_cat2.info()"
   ]
  },
  {
   "cell_type": "markdown",
   "id": "025ae87e",
   "metadata": {},
   "source": [
    "<div class=\"alert alert-block alert-success\">\n",
    "<b>Success:</b> As we can see, the property, savings_account_balance and Purpose column is encoded according to its weights in a single column, which is great.\n",
    "\n",
    "Now we will combine the final data and get data which is full and encoded and ready for segmentation.\n",
    "</div>\n"
   ]
  },
  {
   "cell_type": "code",
   "execution_count": 49,
   "id": "10735600",
   "metadata": {},
   "outputs": [
    {
     "data": {
      "text/html": [
       "<div>\n",
       "<style scoped>\n",
       "    .dataframe tbody tr th:only-of-type {\n",
       "        vertical-align: middle;\n",
       "    }\n",
       "\n",
       "    .dataframe tbody tr th {\n",
       "        vertical-align: top;\n",
       "    }\n",
       "\n",
       "    .dataframe thead th {\n",
       "        text-align: right;\n",
       "    }\n",
       "</style>\n",
       "<table border=\"1\" class=\"dataframe\">\n",
       "  <thead>\n",
       "    <tr style=\"text-align: right;\">\n",
       "      <th></th>\n",
       "      <th>Primary_applicant_age_in_years</th>\n",
       "      <th>Number_of_dependents</th>\n",
       "      <th>Years_at_current_residence</th>\n",
       "      <th>Foreign_worker</th>\n",
       "      <th>Months_loan_taken_for</th>\n",
       "      <th>Principal_loan_amount</th>\n",
       "      <th>EMI_rate_in_percentage_of_disposable_income</th>\n",
       "      <th>Has_coapplicant</th>\n",
       "      <th>Has_guarantor</th>\n",
       "      <th>Number_of_existing_loans_at_this_bank</th>\n",
       "      <th>high_risk_applicant</th>\n",
       "      <th>Has_been_employed_for_at_least(years)</th>\n",
       "    </tr>\n",
       "  </thead>\n",
       "  <tbody>\n",
       "    <tr>\n",
       "      <th>0</th>\n",
       "      <td>67.0</td>\n",
       "      <td>1.0</td>\n",
       "      <td>4.0</td>\n",
       "      <td>1.0</td>\n",
       "      <td>6.0</td>\n",
       "      <td>1169000.0</td>\n",
       "      <td>4.0</td>\n",
       "      <td>0.0</td>\n",
       "      <td>0.0</td>\n",
       "      <td>2.0</td>\n",
       "      <td>0.0</td>\n",
       "      <td>7.000000</td>\n",
       "    </tr>\n",
       "    <tr>\n",
       "      <th>1</th>\n",
       "      <td>22.0</td>\n",
       "      <td>1.0</td>\n",
       "      <td>2.0</td>\n",
       "      <td>1.0</td>\n",
       "      <td>48.0</td>\n",
       "      <td>5951000.0</td>\n",
       "      <td>2.0</td>\n",
       "      <td>0.0</td>\n",
       "      <td>0.0</td>\n",
       "      <td>1.0</td>\n",
       "      <td>1.0</td>\n",
       "      <td>1.000000</td>\n",
       "    </tr>\n",
       "    <tr>\n",
       "      <th>2</th>\n",
       "      <td>49.0</td>\n",
       "      <td>2.0</td>\n",
       "      <td>3.0</td>\n",
       "      <td>1.0</td>\n",
       "      <td>12.0</td>\n",
       "      <td>2096000.0</td>\n",
       "      <td>2.0</td>\n",
       "      <td>0.0</td>\n",
       "      <td>0.0</td>\n",
       "      <td>1.0</td>\n",
       "      <td>0.0</td>\n",
       "      <td>4.000000</td>\n",
       "    </tr>\n",
       "    <tr>\n",
       "      <th>3</th>\n",
       "      <td>45.0</td>\n",
       "      <td>2.0</td>\n",
       "      <td>4.0</td>\n",
       "      <td>1.0</td>\n",
       "      <td>42.0</td>\n",
       "      <td>7882000.0</td>\n",
       "      <td>2.0</td>\n",
       "      <td>0.0</td>\n",
       "      <td>1.0</td>\n",
       "      <td>1.0</td>\n",
       "      <td>0.0</td>\n",
       "      <td>4.000000</td>\n",
       "    </tr>\n",
       "    <tr>\n",
       "      <th>4</th>\n",
       "      <td>53.0</td>\n",
       "      <td>2.0</td>\n",
       "      <td>4.0</td>\n",
       "      <td>1.0</td>\n",
       "      <td>24.0</td>\n",
       "      <td>4870000.0</td>\n",
       "      <td>3.0</td>\n",
       "      <td>0.0</td>\n",
       "      <td>0.0</td>\n",
       "      <td>2.0</td>\n",
       "      <td>1.0</td>\n",
       "      <td>1.000000</td>\n",
       "    </tr>\n",
       "    <tr>\n",
       "      <th>...</th>\n",
       "      <td>...</td>\n",
       "      <td>...</td>\n",
       "      <td>...</td>\n",
       "      <td>...</td>\n",
       "      <td>...</td>\n",
       "      <td>...</td>\n",
       "      <td>...</td>\n",
       "      <td>...</td>\n",
       "      <td>...</td>\n",
       "      <td>...</td>\n",
       "      <td>...</td>\n",
       "      <td>...</td>\n",
       "    </tr>\n",
       "    <tr>\n",
       "      <th>995</th>\n",
       "      <td>31.0</td>\n",
       "      <td>1.0</td>\n",
       "      <td>4.0</td>\n",
       "      <td>1.0</td>\n",
       "      <td>12.0</td>\n",
       "      <td>1736000.0</td>\n",
       "      <td>3.0</td>\n",
       "      <td>0.0</td>\n",
       "      <td>0.0</td>\n",
       "      <td>1.0</td>\n",
       "      <td>0.0</td>\n",
       "      <td>4.000000</td>\n",
       "    </tr>\n",
       "    <tr>\n",
       "      <th>996</th>\n",
       "      <td>40.0</td>\n",
       "      <td>1.0</td>\n",
       "      <td>4.0</td>\n",
       "      <td>1.0</td>\n",
       "      <td>30.0</td>\n",
       "      <td>3857000.0</td>\n",
       "      <td>4.0</td>\n",
       "      <td>0.0</td>\n",
       "      <td>0.0</td>\n",
       "      <td>1.0</td>\n",
       "      <td>0.0</td>\n",
       "      <td>1.000000</td>\n",
       "    </tr>\n",
       "    <tr>\n",
       "      <th>997</th>\n",
       "      <td>38.0</td>\n",
       "      <td>1.0</td>\n",
       "      <td>4.0</td>\n",
       "      <td>1.0</td>\n",
       "      <td>12.0</td>\n",
       "      <td>804000.0</td>\n",
       "      <td>4.0</td>\n",
       "      <td>0.0</td>\n",
       "      <td>0.0</td>\n",
       "      <td>1.0</td>\n",
       "      <td>0.0</td>\n",
       "      <td>7.000000</td>\n",
       "    </tr>\n",
       "    <tr>\n",
       "      <th>998</th>\n",
       "      <td>23.0</td>\n",
       "      <td>1.0</td>\n",
       "      <td>4.0</td>\n",
       "      <td>1.0</td>\n",
       "      <td>45.0</td>\n",
       "      <td>1845000.0</td>\n",
       "      <td>4.0</td>\n",
       "      <td>0.0</td>\n",
       "      <td>0.0</td>\n",
       "      <td>1.0</td>\n",
       "      <td>1.0</td>\n",
       "      <td>1.000000</td>\n",
       "    </tr>\n",
       "    <tr>\n",
       "      <th>999</th>\n",
       "      <td>27.0</td>\n",
       "      <td>1.0</td>\n",
       "      <td>4.0</td>\n",
       "      <td>1.0</td>\n",
       "      <td>45.0</td>\n",
       "      <td>4576000.0</td>\n",
       "      <td>3.0</td>\n",
       "      <td>0.0</td>\n",
       "      <td>0.0</td>\n",
       "      <td>1.0</td>\n",
       "      <td>0.0</td>\n",
       "      <td>0.666667</td>\n",
       "    </tr>\n",
       "  </tbody>\n",
       "</table>\n",
       "<p>1000 rows × 12 columns</p>\n",
       "</div>"
      ],
      "text/plain": [
       "     Primary_applicant_age_in_years  Number_of_dependents  \\\n",
       "0                              67.0                   1.0   \n",
       "1                              22.0                   1.0   \n",
       "2                              49.0                   2.0   \n",
       "3                              45.0                   2.0   \n",
       "4                              53.0                   2.0   \n",
       "..                              ...                   ...   \n",
       "995                            31.0                   1.0   \n",
       "996                            40.0                   1.0   \n",
       "997                            38.0                   1.0   \n",
       "998                            23.0                   1.0   \n",
       "999                            27.0                   1.0   \n",
       "\n",
       "     Years_at_current_residence  Foreign_worker  Months_loan_taken_for  \\\n",
       "0                           4.0             1.0                    6.0   \n",
       "1                           2.0             1.0                   48.0   \n",
       "2                           3.0             1.0                   12.0   \n",
       "3                           4.0             1.0                   42.0   \n",
       "4                           4.0             1.0                   24.0   \n",
       "..                          ...             ...                    ...   \n",
       "995                         4.0             1.0                   12.0   \n",
       "996                         4.0             1.0                   30.0   \n",
       "997                         4.0             1.0                   12.0   \n",
       "998                         4.0             1.0                   45.0   \n",
       "999                         4.0             1.0                   45.0   \n",
       "\n",
       "     Principal_loan_amount  EMI_rate_in_percentage_of_disposable_income  \\\n",
       "0                1169000.0                                          4.0   \n",
       "1                5951000.0                                          2.0   \n",
       "2                2096000.0                                          2.0   \n",
       "3                7882000.0                                          2.0   \n",
       "4                4870000.0                                          3.0   \n",
       "..                     ...                                          ...   \n",
       "995              1736000.0                                          3.0   \n",
       "996              3857000.0                                          4.0   \n",
       "997               804000.0                                          4.0   \n",
       "998              1845000.0                                          4.0   \n",
       "999              4576000.0                                          3.0   \n",
       "\n",
       "     Has_coapplicant  Has_guarantor  Number_of_existing_loans_at_this_bank  \\\n",
       "0                0.0            0.0                                    2.0   \n",
       "1                0.0            0.0                                    1.0   \n",
       "2                0.0            0.0                                    1.0   \n",
       "3                0.0            1.0                                    1.0   \n",
       "4                0.0            0.0                                    2.0   \n",
       "..               ...            ...                                    ...   \n",
       "995              0.0            0.0                                    1.0   \n",
       "996              0.0            0.0                                    1.0   \n",
       "997              0.0            0.0                                    1.0   \n",
       "998              0.0            0.0                                    1.0   \n",
       "999              0.0            0.0                                    1.0   \n",
       "\n",
       "     high_risk_applicant  Has_been_employed_for_at_least(years)  \n",
       "0                    0.0                               7.000000  \n",
       "1                    1.0                               1.000000  \n",
       "2                    0.0                               4.000000  \n",
       "3                    0.0                               4.000000  \n",
       "4                    1.0                               1.000000  \n",
       "..                   ...                                    ...  \n",
       "995                  0.0                               4.000000  \n",
       "996                  0.0                               1.000000  \n",
       "997                  0.0                               7.000000  \n",
       "998                  1.0                               1.000000  \n",
       "999                  0.0                               0.666667  \n",
       "\n",
       "[1000 rows x 12 columns]"
      ]
     },
     "execution_count": 49,
     "metadata": {},
     "output_type": "execute_result"
    }
   ],
   "source": [
    "new_df=df_num\n",
    "new_df"
   ]
  },
  {
   "cell_type": "code",
   "execution_count": 50,
   "id": "0b6d29b6",
   "metadata": {},
   "outputs": [
    {
     "data": {
      "text/html": [
       "<div>\n",
       "<style scoped>\n",
       "    .dataframe tbody tr th:only-of-type {\n",
       "        vertical-align: middle;\n",
       "    }\n",
       "\n",
       "    .dataframe tbody tr th {\n",
       "        vertical-align: top;\n",
       "    }\n",
       "\n",
       "    .dataframe thead th {\n",
       "        text-align: right;\n",
       "    }\n",
       "</style>\n",
       "<table border=\"1\" class=\"dataframe\">\n",
       "  <thead>\n",
       "    <tr style=\"text-align: right;\">\n",
       "      <th></th>\n",
       "      <th>Primary_applicant_age_in_years</th>\n",
       "      <th>Number_of_dependents</th>\n",
       "      <th>Years_at_current_residence</th>\n",
       "      <th>Foreign_worker</th>\n",
       "      <th>Months_loan_taken_for</th>\n",
       "      <th>Principal_loan_amount</th>\n",
       "      <th>EMI_rate_in_percentage_of_disposable_income</th>\n",
       "      <th>Has_coapplicant</th>\n",
       "      <th>Has_guarantor</th>\n",
       "      <th>Number_of_existing_loans_at_this_bank</th>\n",
       "      <th>...</th>\n",
       "      <th>Marital_status_single</th>\n",
       "      <th>Housing_own</th>\n",
       "      <th>Housing_rent</th>\n",
       "      <th>Employment_status_skilled employee / official</th>\n",
       "      <th>Employment_status_unemployed / unskilled - non-resident</th>\n",
       "      <th>Employment_status_unskilled - resident</th>\n",
       "      <th>Loan_history_critical/pending loans at other banks</th>\n",
       "      <th>Loan_history_delay in paying off loans in the past</th>\n",
       "      <th>Loan_history_existing loans paid back duly till now</th>\n",
       "      <th>Loan_history_no loans taken/all loans paid back duly</th>\n",
       "    </tr>\n",
       "  </thead>\n",
       "  <tbody>\n",
       "    <tr>\n",
       "      <th>464</th>\n",
       "      <td>34.0</td>\n",
       "      <td>1.0</td>\n",
       "      <td>1.0</td>\n",
       "      <td>1.0</td>\n",
       "      <td>18.0</td>\n",
       "      <td>1950000.0</td>\n",
       "      <td>4.0</td>\n",
       "      <td>0.0</td>\n",
       "      <td>0.0</td>\n",
       "      <td>2.0</td>\n",
       "      <td>...</td>\n",
       "      <td>1.0</td>\n",
       "      <td>1.0</td>\n",
       "      <td>0.0</td>\n",
       "      <td>1.0</td>\n",
       "      <td>0.0</td>\n",
       "      <td>0.0</td>\n",
       "      <td>0.0</td>\n",
       "      <td>0.0</td>\n",
       "      <td>1.0</td>\n",
       "      <td>0.0</td>\n",
       "    </tr>\n",
       "  </tbody>\n",
       "</table>\n",
       "<p>1 rows × 28 columns</p>\n",
       "</div>"
      ],
      "text/plain": [
       "     Primary_applicant_age_in_years  Number_of_dependents  \\\n",
       "464                            34.0                   1.0   \n",
       "\n",
       "     Years_at_current_residence  Foreign_worker  Months_loan_taken_for  \\\n",
       "464                         1.0             1.0                   18.0   \n",
       "\n",
       "     Principal_loan_amount  EMI_rate_in_percentage_of_disposable_income  \\\n",
       "464              1950000.0                                          4.0   \n",
       "\n",
       "     Has_coapplicant  Has_guarantor  Number_of_existing_loans_at_this_bank  \\\n",
       "464              0.0            0.0                                    2.0   \n",
       "\n",
       "     ...  Marital_status_single  Housing_own  Housing_rent  \\\n",
       "464  ...                    1.0          1.0           0.0   \n",
       "\n",
       "     Employment_status_skilled employee / official  \\\n",
       "464                                            1.0   \n",
       "\n",
       "     Employment_status_unemployed / unskilled - non-resident  \\\n",
       "464                                                0.0         \n",
       "\n",
       "     Employment_status_unskilled - resident  \\\n",
       "464                                     0.0   \n",
       "\n",
       "     Loan_history_critical/pending loans at other banks  \\\n",
       "464                                                0.0    \n",
       "\n",
       "     Loan_history_delay in paying off loans in the past  \\\n",
       "464                                                0.0    \n",
       "\n",
       "     Loan_history_existing loans paid back duly till now  \\\n",
       "464                                                1.0     \n",
       "\n",
       "     Loan_history_no loans taken/all loans paid back duly  \n",
       "464                                                0.0     \n",
       "\n",
       "[1 rows x 28 columns]"
      ]
     },
     "execution_count": 50,
     "metadata": {},
     "output_type": "execute_result"
    }
   ],
   "source": [
    "new_df['Property']=df_cat2['tnf1__Property']\n",
    "new_df['Savings_account_balance']=df_cat2['tnf1__Savings_account_balance']\n",
    "new_df['Purpose']=df_cat2['tnf1__Purpose']\n",
    "new_df['Gender_male']=df_cat2['tnf3__Gender_male']\n",
    "new_df['Marital_status_divorced/separated/married']=df_cat2['tnf3__Marital_status_divorced/separated/married']\n",
    "new_df['Marital_status_married/widowed']=df_cat2['tnf3__Marital_status_married/widowed']\n",
    "new_df['Marital_status_single']=df_cat2['tnf3__Marital_status_single']\n",
    "new_df['Housing_own']=df_cat2['tnf3__Housing_own']\n",
    "new_df['Housing_rent']=df_cat2['tnf3__Housing_rent']\n",
    "new_df['Employment_status_skilled employee / official']=df_cat2['tnf3__Employment_status_skilled employee / official']\n",
    "new_df['Employment_status_unemployed / unskilled - non-resident']=df_cat2['tnf3__Employment_status_unemployed / unskilled - non-resident']\n",
    "new_df['Employment_status_unskilled - resident']=df_cat2['tnf3__Employment_status_unskilled - resident']\n",
    "new_df['Loan_history_critical/pending loans at other banks']=df_cat2['tnf3__Loan_history_critical/pending loans at other banks']\n",
    "new_df['Loan_history_delay in paying off loans in the past']=df_cat2['tnf3__Loan_history_delay in paying off loans in the past']\n",
    "new_df['Loan_history_existing loans paid back duly till now']=df_cat2['tnf3__Loan_history_existing loans paid back duly till now']\n",
    "new_df['Loan_history_no loans taken/all loans paid back duly']=df_cat2['tnf3__Loan_history_no loans taken/all loans paid back duly']\n",
    "\n",
    "new_df.sample()"
   ]
  },
  {
   "cell_type": "code",
   "execution_count": 51,
   "id": "23555fc6",
   "metadata": {},
   "outputs": [
    {
     "data": {
      "text/plain": [
       "(1000, 28)"
      ]
     },
     "execution_count": 51,
     "metadata": {},
     "output_type": "execute_result"
    }
   ],
   "source": [
    "new_df.shape"
   ]
  },
  {
   "cell_type": "markdown",
   "id": "6f5168bd",
   "metadata": {},
   "source": [
    "-----------------------Missing data Handled, Categorical data encoded!----------------------\n",
    "Now lets check for patterns through visualizations.\n",
    "\n",
    "## Visualizations:"
   ]
  },
  {
   "cell_type": "markdown",
   "id": "59e175bc",
   "metadata": {},
   "source": [
    "*lets use mutual_info_classif:*\n",
    "<div class=\"alert alert-block alert-info\">\n",
    "<b>Now:</b> Mutual information is another useful tool as it allows one to inspect the mutual information between the target variable and the corresponding feature it is calculated against. For classification problems, we can conveniently call Sklearn's mutual_info_classif method which measures the dependency between two random variables and ranges from zero (where the random variables are independent of each other) to higher values (indicate some dependency). This therefore will help give us an idea of how much information from the target may be contained within the features.\n",
    "</div>"
   ]
  },
  {
   "cell_type": "code",
   "execution_count": 52,
   "id": "85e7bcf4",
   "metadata": {},
   "outputs": [
    {
     "name": "stdout",
     "output_type": "stream",
     "text": [
      "[0.         0.02174391 0.00273374 0.01933483 0.05798212 0.01302622\n",
      " 0.01148245 0.         0.00334762 0.         0.61136462 0.00876971\n",
      " 0.00901175 0.02879004 0.01142801 0.0066131  0.00571336 0.\n",
      " 0.         0.0109409  0.01067222 0.         0.0135245  0.00765943\n",
      " 0.01137619 0.01624092 0.00431298 0.01251591]\n"
     ]
    }
   ],
   "source": [
    "mf = mutual_info_classif(new_df.values,new_df.high_risk_applicant.values,n_neighbors=3, random_state=17 )\n",
    "print(mf)"
   ]
  },
  {
   "cell_type": "markdown",
   "id": "84bb9c20",
   "metadata": {},
   "source": [
    "# Feature Importance Via random forest\n",
    "\n",
    "<div class=\"alert alert-block alert-info\">\n",
    "<b>Now:</b> Let us now implement a Random Forest model where we fit the training data with a Random Forest Classifier and look at the ranking of the features after the model has finished training. This is a quick way of using an ensemble model (ensemble of weak decision tree learners applied under Bootstrap aggregated) which does not require much parameter tuning in obtaining useful feature importances and is also pretty robust to target imbalances. We call the Random Forest as follows:\n",
    "</div>"
   ]
  },
  {
   "cell_type": "code",
   "execution_count": 53,
   "id": "71d53d95",
   "metadata": {},
   "outputs": [
    {
     "name": "stdout",
     "output_type": "stream",
     "text": [
      "----- Training Done -----\n"
     ]
    }
   ],
   "source": [
    "from sklearn.ensemble import RandomForestClassifier\n",
    "rf = RandomForestClassifier(n_estimators=150, max_depth=5, min_samples_leaf=4, max_features=0.2, n_jobs=-1, random_state=0)\n",
    "rf.fit(new_df.drop(['high_risk_applicant'],axis=1), new_df.high_risk_applicant)\n",
    "features = new_df.drop(['high_risk_applicant'],axis=1).columns.values\n",
    "print(\"----- Training Done -----\")"
   ]
  },
  {
   "cell_type": "code",
   "execution_count": 54,
   "id": "79cac74c",
   "metadata": {},
   "outputs": [
    {
     "data": {
      "text/plain": [
       "0.0    700\n",
       "1.0    300\n",
       "Name: high_risk_applicant, dtype: int64"
      ]
     },
     "execution_count": 54,
     "metadata": {},
     "output_type": "execute_result"
    }
   ],
   "source": [
    "new_df.high_risk_applicant.value_counts()"
   ]
  },
  {
   "cell_type": "markdown",
   "id": "c2bc79fe",
   "metadata": {},
   "source": [
    "<div class=\"alert alert-block alert-danger\">\n",
    "<b>Warning:</b> The data is imbalanced, so must be handled before model training.\n",
    "</div>"
   ]
  },
  {
   "cell_type": "markdown",
   "id": "a2fa3f85",
   "metadata": {},
   "source": [
    "### Note:\n",
    "the below two figures are dynamic and so we need to run the cells to view it. However, the images are available in the images section of the root folder."
   ]
  },
  {
   "cell_type": "code",
   "execution_count": 55,
   "id": "3c27e918",
   "metadata": {},
   "outputs": [
    {
     "data": {
      "application/vnd.plotly.v1+json": {
       "config": {
        "linkText": "Export to plot.ly",
        "plotlyServerURL": "https://plot.ly",
        "showLink": false
       },
       "data": [
        {
         "marker": {
          "color": [
           0.08973335459892004,
           0.006449896460812647,
           0.022529146528363627,
           0.0068575773110808695,
           0.17929454875762846,
           0.1616426828503072,
           0.03882134917187777,
           0.007882473776769927,
           0.008387362112455686,
           0.010713882824574566,
           0.05154775456423684,
           0.04156473733335292,
           0.04925217334030306,
           0.05181929954844717,
           0.01184020816041469,
           0.012462391686920876,
           0.003338709870975351,
           0.015450341899210396,
           0.04060072867157386,
           0.021340965219605573,
           0.01222324038888862,
           0.0021278495603781217,
           0.0055390355981273795,
           0.08984261568318488,
           0.0073419864058898625,
           0.01088480195295063,
           0.04051088572274898
          ],
          "colorscale": [
           [
            0,
            "rgb(12,51,131)"
           ],
           [
            0.25,
            "rgb(10,136,186)"
           ],
           [
            0.5,
            "rgb(242,211,56)"
           ],
           [
            0.75,
            "rgb(242,143,56)"
           ],
           [
            1,
            "rgb(217,30,30)"
           ]
          ],
          "showscale": true,
          "size": 13,
          "sizemode": "diameter",
          "sizeref": 1
         },
         "mode": "markers",
         "text": [
          "Primary_applicant_age_in_years",
          "Number_of_dependents",
          "Years_at_current_residence",
          "Foreign_worker",
          "Months_loan_taken_for",
          "Principal_loan_amount",
          "EMI_rate_in_percentage_of_disposable_income",
          "Has_coapplicant",
          "Has_guarantor",
          "Number_of_existing_loans_at_this_bank",
          "Has_been_employed_for_at_least(years)",
          "Property",
          "Savings_account_balance",
          "Purpose",
          "Gender_male",
          "Marital_status_divorced/separated/married",
          "Marital_status_married/widowed",
          "Marital_status_single",
          "Housing_own",
          "Housing_rent",
          "Employment_status_skilled employee / official",
          "Employment_status_unemployed / unskilled - non-resident",
          "Employment_status_unskilled - resident",
          "Loan_history_critical/pending loans at other banks",
          "Loan_history_delay in paying off loans in the past",
          "Loan_history_existing loans paid back duly till now",
          "Loan_history_no loans taken/all loans paid back duly"
         ],
         "type": "scatter",
         "x": [
          "Primary_applicant_age_in_years",
          "Number_of_dependents",
          "Years_at_current_residence",
          "Foreign_worker",
          "Months_loan_taken_for",
          "Principal_loan_amount",
          "EMI_rate_in_percentage_of_disposable_income",
          "Has_coapplicant",
          "Has_guarantor",
          "Number_of_existing_loans_at_this_bank",
          "Has_been_employed_for_at_least(years)",
          "Property",
          "Savings_account_balance",
          "Purpose",
          "Gender_male",
          "Marital_status_divorced/separated/married",
          "Marital_status_married/widowed",
          "Marital_status_single",
          "Housing_own",
          "Housing_rent",
          "Employment_status_skilled employee / official",
          "Employment_status_unemployed / unskilled - non-resident",
          "Employment_status_unskilled - resident",
          "Loan_history_critical/pending loans at other banks",
          "Loan_history_delay in paying off loans in the past",
          "Loan_history_existing loans paid back duly till now",
          "Loan_history_no loans taken/all loans paid back duly"
         ],
         "y": [
          0.08973335459892004,
          0.006449896460812647,
          0.022529146528363627,
          0.0068575773110808695,
          0.17929454875762846,
          0.1616426828503072,
          0.03882134917187777,
          0.007882473776769927,
          0.008387362112455686,
          0.010713882824574566,
          0.05154775456423684,
          0.04156473733335292,
          0.04925217334030306,
          0.05181929954844717,
          0.01184020816041469,
          0.012462391686920876,
          0.003338709870975351,
          0.015450341899210396,
          0.04060072867157386,
          0.021340965219605573,
          0.01222324038888862,
          0.0021278495603781217,
          0.0055390355981273795,
          0.08984261568318488,
          0.0073419864058898625,
          0.01088480195295063,
          0.04051088572274898
         ]
        }
       ],
       "layout": {
        "autosize": true,
        "hovermode": "closest",
        "showlegend": false,
        "template": {
         "data": {
          "bar": [
           {
            "error_x": {
             "color": "#2a3f5f"
            },
            "error_y": {
             "color": "#2a3f5f"
            },
            "marker": {
             "line": {
              "color": "#E5ECF6",
              "width": 0.5
             },
             "pattern": {
              "fillmode": "overlay",
              "size": 10,
              "solidity": 0.2
             }
            },
            "type": "bar"
           }
          ],
          "barpolar": [
           {
            "marker": {
             "line": {
              "color": "#E5ECF6",
              "width": 0.5
             },
             "pattern": {
              "fillmode": "overlay",
              "size": 10,
              "solidity": 0.2
             }
            },
            "type": "barpolar"
           }
          ],
          "carpet": [
           {
            "aaxis": {
             "endlinecolor": "#2a3f5f",
             "gridcolor": "white",
             "linecolor": "white",
             "minorgridcolor": "white",
             "startlinecolor": "#2a3f5f"
            },
            "baxis": {
             "endlinecolor": "#2a3f5f",
             "gridcolor": "white",
             "linecolor": "white",
             "minorgridcolor": "white",
             "startlinecolor": "#2a3f5f"
            },
            "type": "carpet"
           }
          ],
          "choropleth": [
           {
            "colorbar": {
             "outlinewidth": 0,
             "ticks": ""
            },
            "type": "choropleth"
           }
          ],
          "contour": [
           {
            "colorbar": {
             "outlinewidth": 0,
             "ticks": ""
            },
            "colorscale": [
             [
              0,
              "#0d0887"
             ],
             [
              0.1111111111111111,
              "#46039f"
             ],
             [
              0.2222222222222222,
              "#7201a8"
             ],
             [
              0.3333333333333333,
              "#9c179e"
             ],
             [
              0.4444444444444444,
              "#bd3786"
             ],
             [
              0.5555555555555556,
              "#d8576b"
             ],
             [
              0.6666666666666666,
              "#ed7953"
             ],
             [
              0.7777777777777778,
              "#fb9f3a"
             ],
             [
              0.8888888888888888,
              "#fdca26"
             ],
             [
              1,
              "#f0f921"
             ]
            ],
            "type": "contour"
           }
          ],
          "contourcarpet": [
           {
            "colorbar": {
             "outlinewidth": 0,
             "ticks": ""
            },
            "type": "contourcarpet"
           }
          ],
          "heatmap": [
           {
            "colorbar": {
             "outlinewidth": 0,
             "ticks": ""
            },
            "colorscale": [
             [
              0,
              "#0d0887"
             ],
             [
              0.1111111111111111,
              "#46039f"
             ],
             [
              0.2222222222222222,
              "#7201a8"
             ],
             [
              0.3333333333333333,
              "#9c179e"
             ],
             [
              0.4444444444444444,
              "#bd3786"
             ],
             [
              0.5555555555555556,
              "#d8576b"
             ],
             [
              0.6666666666666666,
              "#ed7953"
             ],
             [
              0.7777777777777778,
              "#fb9f3a"
             ],
             [
              0.8888888888888888,
              "#fdca26"
             ],
             [
              1,
              "#f0f921"
             ]
            ],
            "type": "heatmap"
           }
          ],
          "heatmapgl": [
           {
            "colorbar": {
             "outlinewidth": 0,
             "ticks": ""
            },
            "colorscale": [
             [
              0,
              "#0d0887"
             ],
             [
              0.1111111111111111,
              "#46039f"
             ],
             [
              0.2222222222222222,
              "#7201a8"
             ],
             [
              0.3333333333333333,
              "#9c179e"
             ],
             [
              0.4444444444444444,
              "#bd3786"
             ],
             [
              0.5555555555555556,
              "#d8576b"
             ],
             [
              0.6666666666666666,
              "#ed7953"
             ],
             [
              0.7777777777777778,
              "#fb9f3a"
             ],
             [
              0.8888888888888888,
              "#fdca26"
             ],
             [
              1,
              "#f0f921"
             ]
            ],
            "type": "heatmapgl"
           }
          ],
          "histogram": [
           {
            "marker": {
             "pattern": {
              "fillmode": "overlay",
              "size": 10,
              "solidity": 0.2
             }
            },
            "type": "histogram"
           }
          ],
          "histogram2d": [
           {
            "colorbar": {
             "outlinewidth": 0,
             "ticks": ""
            },
            "colorscale": [
             [
              0,
              "#0d0887"
             ],
             [
              0.1111111111111111,
              "#46039f"
             ],
             [
              0.2222222222222222,
              "#7201a8"
             ],
             [
              0.3333333333333333,
              "#9c179e"
             ],
             [
              0.4444444444444444,
              "#bd3786"
             ],
             [
              0.5555555555555556,
              "#d8576b"
             ],
             [
              0.6666666666666666,
              "#ed7953"
             ],
             [
              0.7777777777777778,
              "#fb9f3a"
             ],
             [
              0.8888888888888888,
              "#fdca26"
             ],
             [
              1,
              "#f0f921"
             ]
            ],
            "type": "histogram2d"
           }
          ],
          "histogram2dcontour": [
           {
            "colorbar": {
             "outlinewidth": 0,
             "ticks": ""
            },
            "colorscale": [
             [
              0,
              "#0d0887"
             ],
             [
              0.1111111111111111,
              "#46039f"
             ],
             [
              0.2222222222222222,
              "#7201a8"
             ],
             [
              0.3333333333333333,
              "#9c179e"
             ],
             [
              0.4444444444444444,
              "#bd3786"
             ],
             [
              0.5555555555555556,
              "#d8576b"
             ],
             [
              0.6666666666666666,
              "#ed7953"
             ],
             [
              0.7777777777777778,
              "#fb9f3a"
             ],
             [
              0.8888888888888888,
              "#fdca26"
             ],
             [
              1,
              "#f0f921"
             ]
            ],
            "type": "histogram2dcontour"
           }
          ],
          "mesh3d": [
           {
            "colorbar": {
             "outlinewidth": 0,
             "ticks": ""
            },
            "type": "mesh3d"
           }
          ],
          "parcoords": [
           {
            "line": {
             "colorbar": {
              "outlinewidth": 0,
              "ticks": ""
             }
            },
            "type": "parcoords"
           }
          ],
          "pie": [
           {
            "automargin": true,
            "type": "pie"
           }
          ],
          "scatter": [
           {
            "fillpattern": {
             "fillmode": "overlay",
             "size": 10,
             "solidity": 0.2
            },
            "type": "scatter"
           }
          ],
          "scatter3d": [
           {
            "line": {
             "colorbar": {
              "outlinewidth": 0,
              "ticks": ""
             }
            },
            "marker": {
             "colorbar": {
              "outlinewidth": 0,
              "ticks": ""
             }
            },
            "type": "scatter3d"
           }
          ],
          "scattercarpet": [
           {
            "marker": {
             "colorbar": {
              "outlinewidth": 0,
              "ticks": ""
             }
            },
            "type": "scattercarpet"
           }
          ],
          "scattergeo": [
           {
            "marker": {
             "colorbar": {
              "outlinewidth": 0,
              "ticks": ""
             }
            },
            "type": "scattergeo"
           }
          ],
          "scattergl": [
           {
            "marker": {
             "colorbar": {
              "outlinewidth": 0,
              "ticks": ""
             }
            },
            "type": "scattergl"
           }
          ],
          "scattermapbox": [
           {
            "marker": {
             "colorbar": {
              "outlinewidth": 0,
              "ticks": ""
             }
            },
            "type": "scattermapbox"
           }
          ],
          "scatterpolar": [
           {
            "marker": {
             "colorbar": {
              "outlinewidth": 0,
              "ticks": ""
             }
            },
            "type": "scatterpolar"
           }
          ],
          "scatterpolargl": [
           {
            "marker": {
             "colorbar": {
              "outlinewidth": 0,
              "ticks": ""
             }
            },
            "type": "scatterpolargl"
           }
          ],
          "scatterternary": [
           {
            "marker": {
             "colorbar": {
              "outlinewidth": 0,
              "ticks": ""
             }
            },
            "type": "scatterternary"
           }
          ],
          "surface": [
           {
            "colorbar": {
             "outlinewidth": 0,
             "ticks": ""
            },
            "colorscale": [
             [
              0,
              "#0d0887"
             ],
             [
              0.1111111111111111,
              "#46039f"
             ],
             [
              0.2222222222222222,
              "#7201a8"
             ],
             [
              0.3333333333333333,
              "#9c179e"
             ],
             [
              0.4444444444444444,
              "#bd3786"
             ],
             [
              0.5555555555555556,
              "#d8576b"
             ],
             [
              0.6666666666666666,
              "#ed7953"
             ],
             [
              0.7777777777777778,
              "#fb9f3a"
             ],
             [
              0.8888888888888888,
              "#fdca26"
             ],
             [
              1,
              "#f0f921"
             ]
            ],
            "type": "surface"
           }
          ],
          "table": [
           {
            "cells": {
             "fill": {
              "color": "#EBF0F8"
             },
             "line": {
              "color": "white"
             }
            },
            "header": {
             "fill": {
              "color": "#C8D4E3"
             },
             "line": {
              "color": "white"
             }
            },
            "type": "table"
           }
          ]
         },
         "layout": {
          "annotationdefaults": {
           "arrowcolor": "#2a3f5f",
           "arrowhead": 0,
           "arrowwidth": 1
          },
          "autotypenumbers": "strict",
          "coloraxis": {
           "colorbar": {
            "outlinewidth": 0,
            "ticks": ""
           }
          },
          "colorscale": {
           "diverging": [
            [
             0,
             "#8e0152"
            ],
            [
             0.1,
             "#c51b7d"
            ],
            [
             0.2,
             "#de77ae"
            ],
            [
             0.3,
             "#f1b6da"
            ],
            [
             0.4,
             "#fde0ef"
            ],
            [
             0.5,
             "#f7f7f7"
            ],
            [
             0.6,
             "#e6f5d0"
            ],
            [
             0.7,
             "#b8e186"
            ],
            [
             0.8,
             "#7fbc41"
            ],
            [
             0.9,
             "#4d9221"
            ],
            [
             1,
             "#276419"
            ]
           ],
           "sequential": [
            [
             0,
             "#0d0887"
            ],
            [
             0.1111111111111111,
             "#46039f"
            ],
            [
             0.2222222222222222,
             "#7201a8"
            ],
            [
             0.3333333333333333,
             "#9c179e"
            ],
            [
             0.4444444444444444,
             "#bd3786"
            ],
            [
             0.5555555555555556,
             "#d8576b"
            ],
            [
             0.6666666666666666,
             "#ed7953"
            ],
            [
             0.7777777777777778,
             "#fb9f3a"
            ],
            [
             0.8888888888888888,
             "#fdca26"
            ],
            [
             1,
             "#f0f921"
            ]
           ],
           "sequentialminus": [
            [
             0,
             "#0d0887"
            ],
            [
             0.1111111111111111,
             "#46039f"
            ],
            [
             0.2222222222222222,
             "#7201a8"
            ],
            [
             0.3333333333333333,
             "#9c179e"
            ],
            [
             0.4444444444444444,
             "#bd3786"
            ],
            [
             0.5555555555555556,
             "#d8576b"
            ],
            [
             0.6666666666666666,
             "#ed7953"
            ],
            [
             0.7777777777777778,
             "#fb9f3a"
            ],
            [
             0.8888888888888888,
             "#fdca26"
            ],
            [
             1,
             "#f0f921"
            ]
           ]
          },
          "colorway": [
           "#636efa",
           "#EF553B",
           "#00cc96",
           "#ab63fa",
           "#FFA15A",
           "#19d3f3",
           "#FF6692",
           "#B6E880",
           "#FF97FF",
           "#FECB52"
          ],
          "font": {
           "color": "#2a3f5f"
          },
          "geo": {
           "bgcolor": "white",
           "lakecolor": "white",
           "landcolor": "#E5ECF6",
           "showlakes": true,
           "showland": true,
           "subunitcolor": "white"
          },
          "hoverlabel": {
           "align": "left"
          },
          "hovermode": "closest",
          "mapbox": {
           "style": "light"
          },
          "paper_bgcolor": "white",
          "plot_bgcolor": "#E5ECF6",
          "polar": {
           "angularaxis": {
            "gridcolor": "white",
            "linecolor": "white",
            "ticks": ""
           },
           "bgcolor": "#E5ECF6",
           "radialaxis": {
            "gridcolor": "white",
            "linecolor": "white",
            "ticks": ""
           }
          },
          "scene": {
           "xaxis": {
            "backgroundcolor": "#E5ECF6",
            "gridcolor": "white",
            "gridwidth": 2,
            "linecolor": "white",
            "showbackground": true,
            "ticks": "",
            "zerolinecolor": "white"
           },
           "yaxis": {
            "backgroundcolor": "#E5ECF6",
            "gridcolor": "white",
            "gridwidth": 2,
            "linecolor": "white",
            "showbackground": true,
            "ticks": "",
            "zerolinecolor": "white"
           },
           "zaxis": {
            "backgroundcolor": "#E5ECF6",
            "gridcolor": "white",
            "gridwidth": 2,
            "linecolor": "white",
            "showbackground": true,
            "ticks": "",
            "zerolinecolor": "white"
           }
          },
          "shapedefaults": {
           "line": {
            "color": "#2a3f5f"
           }
          },
          "ternary": {
           "aaxis": {
            "gridcolor": "white",
            "linecolor": "white",
            "ticks": ""
           },
           "baxis": {
            "gridcolor": "white",
            "linecolor": "white",
            "ticks": ""
           },
           "bgcolor": "#E5ECF6",
           "caxis": {
            "gridcolor": "white",
            "linecolor": "white",
            "ticks": ""
           }
          },
          "title": {
           "x": 0.05
          },
          "xaxis": {
           "automargin": true,
           "gridcolor": "white",
           "linecolor": "white",
           "ticks": "",
           "title": {
            "standoff": 15
           },
           "zerolinecolor": "white",
           "zerolinewidth": 2
          },
          "yaxis": {
           "automargin": true,
           "gridcolor": "white",
           "linecolor": "white",
           "ticks": "",
           "title": {
            "standoff": 15
           },
           "zerolinecolor": "white",
           "zerolinewidth": 2
          }
         }
        },
        "title": {
         "text": "Random Forest Feature Importance"
        },
        "xaxis": {
         "showgrid": false,
         "showline": false,
         "ticklen": 5,
         "zeroline": false
        },
        "yaxis": {
         "gridwidth": 2,
         "showgrid": false,
         "ticklen": 5,
         "title": {
          "text": "Feature Importance"
         },
         "zeroline": false
        }
       }
      },
      "text/html": [
       "<div>                            <div id=\"34a2a131-2026-41b3-a3ce-7b820ded4f0b\" class=\"plotly-graph-div\" style=\"height:525px; width:100%;\"></div>            <script type=\"text/javascript\">                require([\"plotly\"], function(Plotly) {                    window.PLOTLYENV=window.PLOTLYENV || {};                                    if (document.getElementById(\"34a2a131-2026-41b3-a3ce-7b820ded4f0b\")) {                    Plotly.newPlot(                        \"34a2a131-2026-41b3-a3ce-7b820ded4f0b\",                        [{\"marker\":{\"color\":[0.08973335459892004,0.006449896460812647,0.022529146528363627,0.0068575773110808695,0.17929454875762846,0.1616426828503072,0.03882134917187777,0.007882473776769927,0.008387362112455686,0.010713882824574566,0.05154775456423684,0.04156473733335292,0.04925217334030306,0.05181929954844717,0.01184020816041469,0.012462391686920876,0.003338709870975351,0.015450341899210396,0.04060072867157386,0.021340965219605573,0.01222324038888862,0.0021278495603781217,0.0055390355981273795,0.08984261568318488,0.0073419864058898625,0.01088480195295063,0.04051088572274898],\"colorscale\":[[0.0,\"rgb(12,51,131)\"],[0.25,\"rgb(10,136,186)\"],[0.5,\"rgb(242,211,56)\"],[0.75,\"rgb(242,143,56)\"],[1.0,\"rgb(217,30,30)\"]],\"showscale\":true,\"size\":13,\"sizemode\":\"diameter\",\"sizeref\":1},\"mode\":\"markers\",\"text\":[\"Primary_applicant_age_in_years\",\"Number_of_dependents\",\"Years_at_current_residence\",\"Foreign_worker\",\"Months_loan_taken_for\",\"Principal_loan_amount\",\"EMI_rate_in_percentage_of_disposable_income\",\"Has_coapplicant\",\"Has_guarantor\",\"Number_of_existing_loans_at_this_bank\",\"Has_been_employed_for_at_least(years)\",\"Property\",\"Savings_account_balance\",\"Purpose\",\"Gender_male\",\"Marital_status_divorced/separated/married\",\"Marital_status_married/widowed\",\"Marital_status_single\",\"Housing_own\",\"Housing_rent\",\"Employment_status_skilled employee / official\",\"Employment_status_unemployed / unskilled - non-resident\",\"Employment_status_unskilled - resident\",\"Loan_history_critical/pending loans at other banks\",\"Loan_history_delay in paying off loans in the past\",\"Loan_history_existing loans paid back duly till now\",\"Loan_history_no loans taken/all loans paid back duly\"],\"x\":[\"Primary_applicant_age_in_years\",\"Number_of_dependents\",\"Years_at_current_residence\",\"Foreign_worker\",\"Months_loan_taken_for\",\"Principal_loan_amount\",\"EMI_rate_in_percentage_of_disposable_income\",\"Has_coapplicant\",\"Has_guarantor\",\"Number_of_existing_loans_at_this_bank\",\"Has_been_employed_for_at_least(years)\",\"Property\",\"Savings_account_balance\",\"Purpose\",\"Gender_male\",\"Marital_status_divorced/separated/married\",\"Marital_status_married/widowed\",\"Marital_status_single\",\"Housing_own\",\"Housing_rent\",\"Employment_status_skilled employee / official\",\"Employment_status_unemployed / unskilled - non-resident\",\"Employment_status_unskilled - resident\",\"Loan_history_critical/pending loans at other banks\",\"Loan_history_delay in paying off loans in the past\",\"Loan_history_existing loans paid back duly till now\",\"Loan_history_no loans taken/all loans paid back duly\"],\"y\":[0.08973335459892004,0.006449896460812647,0.022529146528363627,0.0068575773110808695,0.17929454875762846,0.1616426828503072,0.03882134917187777,0.007882473776769927,0.008387362112455686,0.010713882824574566,0.05154775456423684,0.04156473733335292,0.04925217334030306,0.05181929954844717,0.01184020816041469,0.012462391686920876,0.003338709870975351,0.015450341899210396,0.04060072867157386,0.021340965219605573,0.01222324038888862,0.0021278495603781217,0.0055390355981273795,0.08984261568318488,0.0073419864058898625,0.01088480195295063,0.04051088572274898],\"type\":\"scatter\"}],                        {\"autosize\":true,\"hovermode\":\"closest\",\"showlegend\":false,\"template\":{\"data\":{\"barpolar\":[{\"marker\":{\"line\":{\"color\":\"#E5ECF6\",\"width\":0.5},\"pattern\":{\"fillmode\":\"overlay\",\"size\":10,\"solidity\":0.2}},\"type\":\"barpolar\"}],\"bar\":[{\"error_x\":{\"color\":\"#2a3f5f\"},\"error_y\":{\"color\":\"#2a3f5f\"},\"marker\":{\"line\":{\"color\":\"#E5ECF6\",\"width\":0.5},\"pattern\":{\"fillmode\":\"overlay\",\"size\":10,\"solidity\":0.2}},\"type\":\"bar\"}],\"carpet\":[{\"aaxis\":{\"endlinecolor\":\"#2a3f5f\",\"gridcolor\":\"white\",\"linecolor\":\"white\",\"minorgridcolor\":\"white\",\"startlinecolor\":\"#2a3f5f\"},\"baxis\":{\"endlinecolor\":\"#2a3f5f\",\"gridcolor\":\"white\",\"linecolor\":\"white\",\"minorgridcolor\":\"white\",\"startlinecolor\":\"#2a3f5f\"},\"type\":\"carpet\"}],\"choropleth\":[{\"colorbar\":{\"outlinewidth\":0,\"ticks\":\"\"},\"type\":\"choropleth\"}],\"contourcarpet\":[{\"colorbar\":{\"outlinewidth\":0,\"ticks\":\"\"},\"type\":\"contourcarpet\"}],\"contour\":[{\"colorbar\":{\"outlinewidth\":0,\"ticks\":\"\"},\"colorscale\":[[0.0,\"#0d0887\"],[0.1111111111111111,\"#46039f\"],[0.2222222222222222,\"#7201a8\"],[0.3333333333333333,\"#9c179e\"],[0.4444444444444444,\"#bd3786\"],[0.5555555555555556,\"#d8576b\"],[0.6666666666666666,\"#ed7953\"],[0.7777777777777778,\"#fb9f3a\"],[0.8888888888888888,\"#fdca26\"],[1.0,\"#f0f921\"]],\"type\":\"contour\"}],\"heatmapgl\":[{\"colorbar\":{\"outlinewidth\":0,\"ticks\":\"\"},\"colorscale\":[[0.0,\"#0d0887\"],[0.1111111111111111,\"#46039f\"],[0.2222222222222222,\"#7201a8\"],[0.3333333333333333,\"#9c179e\"],[0.4444444444444444,\"#bd3786\"],[0.5555555555555556,\"#d8576b\"],[0.6666666666666666,\"#ed7953\"],[0.7777777777777778,\"#fb9f3a\"],[0.8888888888888888,\"#fdca26\"],[1.0,\"#f0f921\"]],\"type\":\"heatmapgl\"}],\"heatmap\":[{\"colorbar\":{\"outlinewidth\":0,\"ticks\":\"\"},\"colorscale\":[[0.0,\"#0d0887\"],[0.1111111111111111,\"#46039f\"],[0.2222222222222222,\"#7201a8\"],[0.3333333333333333,\"#9c179e\"],[0.4444444444444444,\"#bd3786\"],[0.5555555555555556,\"#d8576b\"],[0.6666666666666666,\"#ed7953\"],[0.7777777777777778,\"#fb9f3a\"],[0.8888888888888888,\"#fdca26\"],[1.0,\"#f0f921\"]],\"type\":\"heatmap\"}],\"histogram2dcontour\":[{\"colorbar\":{\"outlinewidth\":0,\"ticks\":\"\"},\"colorscale\":[[0.0,\"#0d0887\"],[0.1111111111111111,\"#46039f\"],[0.2222222222222222,\"#7201a8\"],[0.3333333333333333,\"#9c179e\"],[0.4444444444444444,\"#bd3786\"],[0.5555555555555556,\"#d8576b\"],[0.6666666666666666,\"#ed7953\"],[0.7777777777777778,\"#fb9f3a\"],[0.8888888888888888,\"#fdca26\"],[1.0,\"#f0f921\"]],\"type\":\"histogram2dcontour\"}],\"histogram2d\":[{\"colorbar\":{\"outlinewidth\":0,\"ticks\":\"\"},\"colorscale\":[[0.0,\"#0d0887\"],[0.1111111111111111,\"#46039f\"],[0.2222222222222222,\"#7201a8\"],[0.3333333333333333,\"#9c179e\"],[0.4444444444444444,\"#bd3786\"],[0.5555555555555556,\"#d8576b\"],[0.6666666666666666,\"#ed7953\"],[0.7777777777777778,\"#fb9f3a\"],[0.8888888888888888,\"#fdca26\"],[1.0,\"#f0f921\"]],\"type\":\"histogram2d\"}],\"histogram\":[{\"marker\":{\"pattern\":{\"fillmode\":\"overlay\",\"size\":10,\"solidity\":0.2}},\"type\":\"histogram\"}],\"mesh3d\":[{\"colorbar\":{\"outlinewidth\":0,\"ticks\":\"\"},\"type\":\"mesh3d\"}],\"parcoords\":[{\"line\":{\"colorbar\":{\"outlinewidth\":0,\"ticks\":\"\"}},\"type\":\"parcoords\"}],\"pie\":[{\"automargin\":true,\"type\":\"pie\"}],\"scatter3d\":[{\"line\":{\"colorbar\":{\"outlinewidth\":0,\"ticks\":\"\"}},\"marker\":{\"colorbar\":{\"outlinewidth\":0,\"ticks\":\"\"}},\"type\":\"scatter3d\"}],\"scattercarpet\":[{\"marker\":{\"colorbar\":{\"outlinewidth\":0,\"ticks\":\"\"}},\"type\":\"scattercarpet\"}],\"scattergeo\":[{\"marker\":{\"colorbar\":{\"outlinewidth\":0,\"ticks\":\"\"}},\"type\":\"scattergeo\"}],\"scattergl\":[{\"marker\":{\"colorbar\":{\"outlinewidth\":0,\"ticks\":\"\"}},\"type\":\"scattergl\"}],\"scattermapbox\":[{\"marker\":{\"colorbar\":{\"outlinewidth\":0,\"ticks\":\"\"}},\"type\":\"scattermapbox\"}],\"scatterpolargl\":[{\"marker\":{\"colorbar\":{\"outlinewidth\":0,\"ticks\":\"\"}},\"type\":\"scatterpolargl\"}],\"scatterpolar\":[{\"marker\":{\"colorbar\":{\"outlinewidth\":0,\"ticks\":\"\"}},\"type\":\"scatterpolar\"}],\"scatter\":[{\"fillpattern\":{\"fillmode\":\"overlay\",\"size\":10,\"solidity\":0.2},\"type\":\"scatter\"}],\"scatterternary\":[{\"marker\":{\"colorbar\":{\"outlinewidth\":0,\"ticks\":\"\"}},\"type\":\"scatterternary\"}],\"surface\":[{\"colorbar\":{\"outlinewidth\":0,\"ticks\":\"\"},\"colorscale\":[[0.0,\"#0d0887\"],[0.1111111111111111,\"#46039f\"],[0.2222222222222222,\"#7201a8\"],[0.3333333333333333,\"#9c179e\"],[0.4444444444444444,\"#bd3786\"],[0.5555555555555556,\"#d8576b\"],[0.6666666666666666,\"#ed7953\"],[0.7777777777777778,\"#fb9f3a\"],[0.8888888888888888,\"#fdca26\"],[1.0,\"#f0f921\"]],\"type\":\"surface\"}],\"table\":[{\"cells\":{\"fill\":{\"color\":\"#EBF0F8\"},\"line\":{\"color\":\"white\"}},\"header\":{\"fill\":{\"color\":\"#C8D4E3\"},\"line\":{\"color\":\"white\"}},\"type\":\"table\"}]},\"layout\":{\"annotationdefaults\":{\"arrowcolor\":\"#2a3f5f\",\"arrowhead\":0,\"arrowwidth\":1},\"autotypenumbers\":\"strict\",\"coloraxis\":{\"colorbar\":{\"outlinewidth\":0,\"ticks\":\"\"}},\"colorscale\":{\"diverging\":[[0,\"#8e0152\"],[0.1,\"#c51b7d\"],[0.2,\"#de77ae\"],[0.3,\"#f1b6da\"],[0.4,\"#fde0ef\"],[0.5,\"#f7f7f7\"],[0.6,\"#e6f5d0\"],[0.7,\"#b8e186\"],[0.8,\"#7fbc41\"],[0.9,\"#4d9221\"],[1,\"#276419\"]],\"sequential\":[[0.0,\"#0d0887\"],[0.1111111111111111,\"#46039f\"],[0.2222222222222222,\"#7201a8\"],[0.3333333333333333,\"#9c179e\"],[0.4444444444444444,\"#bd3786\"],[0.5555555555555556,\"#d8576b\"],[0.6666666666666666,\"#ed7953\"],[0.7777777777777778,\"#fb9f3a\"],[0.8888888888888888,\"#fdca26\"],[1.0,\"#f0f921\"]],\"sequentialminus\":[[0.0,\"#0d0887\"],[0.1111111111111111,\"#46039f\"],[0.2222222222222222,\"#7201a8\"],[0.3333333333333333,\"#9c179e\"],[0.4444444444444444,\"#bd3786\"],[0.5555555555555556,\"#d8576b\"],[0.6666666666666666,\"#ed7953\"],[0.7777777777777778,\"#fb9f3a\"],[0.8888888888888888,\"#fdca26\"],[1.0,\"#f0f921\"]]},\"colorway\":[\"#636efa\",\"#EF553B\",\"#00cc96\",\"#ab63fa\",\"#FFA15A\",\"#19d3f3\",\"#FF6692\",\"#B6E880\",\"#FF97FF\",\"#FECB52\"],\"font\":{\"color\":\"#2a3f5f\"},\"geo\":{\"bgcolor\":\"white\",\"lakecolor\":\"white\",\"landcolor\":\"#E5ECF6\",\"showlakes\":true,\"showland\":true,\"subunitcolor\":\"white\"},\"hoverlabel\":{\"align\":\"left\"},\"hovermode\":\"closest\",\"mapbox\":{\"style\":\"light\"},\"paper_bgcolor\":\"white\",\"plot_bgcolor\":\"#E5ECF6\",\"polar\":{\"angularaxis\":{\"gridcolor\":\"white\",\"linecolor\":\"white\",\"ticks\":\"\"},\"bgcolor\":\"#E5ECF6\",\"radialaxis\":{\"gridcolor\":\"white\",\"linecolor\":\"white\",\"ticks\":\"\"}},\"scene\":{\"xaxis\":{\"backgroundcolor\":\"#E5ECF6\",\"gridcolor\":\"white\",\"gridwidth\":2,\"linecolor\":\"white\",\"showbackground\":true,\"ticks\":\"\",\"zerolinecolor\":\"white\"},\"yaxis\":{\"backgroundcolor\":\"#E5ECF6\",\"gridcolor\":\"white\",\"gridwidth\":2,\"linecolor\":\"white\",\"showbackground\":true,\"ticks\":\"\",\"zerolinecolor\":\"white\"},\"zaxis\":{\"backgroundcolor\":\"#E5ECF6\",\"gridcolor\":\"white\",\"gridwidth\":2,\"linecolor\":\"white\",\"showbackground\":true,\"ticks\":\"\",\"zerolinecolor\":\"white\"}},\"shapedefaults\":{\"line\":{\"color\":\"#2a3f5f\"}},\"ternary\":{\"aaxis\":{\"gridcolor\":\"white\",\"linecolor\":\"white\",\"ticks\":\"\"},\"baxis\":{\"gridcolor\":\"white\",\"linecolor\":\"white\",\"ticks\":\"\"},\"bgcolor\":\"#E5ECF6\",\"caxis\":{\"gridcolor\":\"white\",\"linecolor\":\"white\",\"ticks\":\"\"}},\"title\":{\"x\":0.05},\"xaxis\":{\"automargin\":true,\"gridcolor\":\"white\",\"linecolor\":\"white\",\"ticks\":\"\",\"title\":{\"standoff\":15},\"zerolinecolor\":\"white\",\"zerolinewidth\":2},\"yaxis\":{\"automargin\":true,\"gridcolor\":\"white\",\"linecolor\":\"white\",\"ticks\":\"\",\"title\":{\"standoff\":15},\"zerolinecolor\":\"white\",\"zerolinewidth\":2}}},\"title\":{\"text\":\"Random Forest Feature Importance\"},\"xaxis\":{\"showgrid\":false,\"showline\":false,\"ticklen\":5,\"zeroline\":false},\"yaxis\":{\"gridwidth\":2,\"showgrid\":false,\"ticklen\":5,\"title\":{\"text\":\"Feature Importance\"},\"zeroline\":false}},                        {\"responsive\": true}                    ).then(function(){\n",
       "                            \n",
       "var gd = document.getElementById('34a2a131-2026-41b3-a3ce-7b820ded4f0b');\n",
       "var x = new MutationObserver(function (mutations, observer) {{\n",
       "        var display = window.getComputedStyle(gd).display;\n",
       "        if (!display || display === 'none') {{\n",
       "            console.log([gd, 'removed!']);\n",
       "            Plotly.purge(gd);\n",
       "            observer.disconnect();\n",
       "        }}\n",
       "}});\n",
       "\n",
       "// Listen for the removal of the full notebook cells\n",
       "var notebookContainer = gd.closest('#notebook-container');\n",
       "if (notebookContainer) {{\n",
       "    x.observe(notebookContainer, {childList: true});\n",
       "}}\n",
       "\n",
       "// Listen for the clearing of the current output cell\n",
       "var outputEl = gd.closest('.output');\n",
       "if (outputEl) {{\n",
       "    x.observe(outputEl, {childList: true});\n",
       "}}\n",
       "\n",
       "                        })                };                });            </script>        </div>"
      ]
     },
     "metadata": {},
     "output_type": "display_data"
    }
   ],
   "source": [
    "data = [\n",
    "        go.Scatter(\n",
    "        y = rf.feature_importances_,\n",
    "        x = features,\n",
    "        mode='markers',\n",
    "        marker=dict(\n",
    "            sizemode = 'diameter',\n",
    "            sizeref = 1,\n",
    "            size = 13,\n",
    "            color = rf.feature_importances_,\n",
    "            colorscale='Portland',\n",
    "            showscale=True\n",
    "        ),\n",
    "        text = features\n",
    "    )\n",
    "]\n",
    "\n",
    "layout= go.Layout(\n",
    "    autosize= True,\n",
    "    title= 'Random Forest Feature Importance',\n",
    "    hovermode= 'closest',\n",
    "     xaxis= dict(\n",
    "         ticklen= 5,\n",
    "         showgrid=False,\n",
    "        zeroline=False,\n",
    "        showline=False\n",
    "     ),\n",
    "    yaxis=dict(\n",
    "        title= 'Feature Importance',\n",
    "        showgrid=False,\n",
    "        zeroline=False,\n",
    "        ticklen= 5,\n",
    "        gridwidth= 2\n",
    "    ),\n",
    "    showlegend= False\n",
    ")\n",
    "fig = go.Figure(data=data, layout=layout)\n",
    "py.iplot(fig,filename='scatter2010')"
   ]
  },
  {
   "cell_type": "code",
   "execution_count": 56,
   "id": "9b1026c0",
   "metadata": {},
   "outputs": [
    {
     "data": {
      "application/vnd.plotly.v1+json": {
       "config": {
        "linkText": "Export to plot.ly",
        "plotlyServerURL": "https://plot.ly",
        "showLink": false
       },
       "data": [
        {
         "colorscale": [
          [
           0,
           "#440154"
          ],
          [
           0.1111111111111111,
           "#482878"
          ],
          [
           0.2222222222222222,
           "#3e4989"
          ],
          [
           0.3333333333333333,
           "#31688e"
          ],
          [
           0.4444444444444444,
           "#26828e"
          ],
          [
           0.5555555555555556,
           "#1f9e89"
          ],
          [
           0.6666666666666666,
           "#35b779"
          ],
          [
           0.7777777777777778,
           "#6ece58"
          ],
          [
           0.8888888888888888,
           "#b5de2b"
          ],
          [
           1,
           "#fde725"
          ]
         ],
         "opacity": 1,
         "reversescale": false,
         "text": [
          true
         ],
         "type": "heatmap",
         "x": [
          "Primary_applicant_age_in_years",
          "Number_of_dependents",
          "Years_at_current_residence",
          "Foreign_worker",
          "Months_loan_taken_for",
          "Principal_loan_amount",
          "EMI_rate_in_percentage_of_disposable_income",
          "Has_coapplicant",
          "Has_guarantor",
          "Number_of_existing_loans_at_this_bank",
          "high_risk_applicant",
          "Has_been_employed_for_at_least(years)",
          "Property",
          "Savings_account_balance",
          "Purpose",
          "Gender_male",
          "Marital_status_divorced/separated/married",
          "Marital_status_married/widowed",
          "Marital_status_single",
          "Housing_own",
          "Housing_rent",
          "Employment_status_skilled employee / official",
          "Employment_status_unemployed / unskilled - non-resident",
          "Employment_status_unskilled - resident",
          "Loan_history_critical/pending loans at other banks",
          "Loan_history_delay in paying off loans in the past",
          "Loan_history_existing loans paid back duly till now",
          "Loan_history_no loans taken/all loans paid back duly"
         ],
         "y": [
          "Primary_applicant_age_in_years",
          "Number_of_dependents",
          "Years_at_current_residence",
          "Foreign_worker",
          "Months_loan_taken_for",
          "Principal_loan_amount",
          "EMI_rate_in_percentage_of_disposable_income",
          "Has_coapplicant",
          "Has_guarantor",
          "Number_of_existing_loans_at_this_bank",
          "high_risk_applicant",
          "Has_been_employed_for_at_least(years)",
          "Property",
          "Savings_account_balance",
          "Purpose",
          "Gender_male",
          "Marital_status_divorced/separated/married",
          "Marital_status_married/widowed",
          "Marital_status_single",
          "Housing_own",
          "Housing_rent",
          "Employment_status_skilled employee / official",
          "Employment_status_unemployed / unskilled - non-resident",
          "Employment_status_unskilled - resident",
          "Loan_history_critical/pending loans at other banks",
          "Loan_history_delay in paying off loans in the past",
          "Loan_history_existing loans paid back duly till now",
          "Loan_history_no loans taken/all loans paid back duly"
         ],
         "z": [
          [
           1,
           0.11820083281906714,
           0.26641918396946096,
           0.006151395968809898,
           -0.03613637401909835,
           0.03271641666544812,
           0.05826568435140995,
           -0.01835693551676335,
           -0.023923324588375056,
           0.14925358219009058,
           -0.09112740931949911,
           0.3735819665452352,
           0.0052935904687161275,
           -0.027769970496536164,
           0.1294064815507827,
           0.16169415348003283,
           -0.16169415348003285,
           -0.14552907056927442,
           0.20743384116113295,
           0.006552664340659187,
           -0.21262041600292306,
           -0.1482827249214327,
           0.05995357357200324,
           0.04371236958564418,
           0.16368132589427992,
           0.016129149854637117,
           -0.15584756088883736,
           -0.02236971146248286
          ],
          [
           0.11820083281906714,
           1,
           0.042643425975225364,
           -0.077070853123451,
           -0.023834475397621756,
           0.017142154158463936,
           -0.07120694300823337,
           -0.03281674300106376,
           0.03658872587522648,
           0.10966670041593388,
           -0.0030148530833446012,
           0.07498932141611626,
           0.013071866094727162,
           -0.006271240479457501,
           0.10485128101082276,
           0.2034311810208655,
           -0.20343118102086546,
           -0.11720858654662829,
           0.28348305885279484,
           -0.02757895700598116,
           -0.06303293305111135,
           -0.10673663224582322,
           -0.007723406358332311,
           0.14506582086777964,
           0.021764637559539318,
           0.04252590165134888,
           -0.07833852182059793,
           0.011280547309334813
          ],
          [
           0.26641918396946096,
           0.042643425975225364,
           1,
           0.05409739617849075,
           0.034067201611148276,
           0.028926323080232606,
           0.04930237081388657,
           0.0016228795687966036,
           -0.0283343204703135,
           0.08962523262254277,
           0.0029671587541553004,
           0.3176903083747719,
           -0.05057148796406499,
           0.004572433575588645,
           0.0681425100324566,
           -0.013817927075225578,
           0.013817927075225608,
           -0.10268358168034784,
           0.06363888701548275,
           -0.2975473191179945,
           0.1672849336826163,
           -0.0006571372397738576,
           -0.03454539888558352,
           0.009064819726578336,
           0.08845967124505283,
           -0.02035061471014849,
           -0.08145818988954384,
           0.0009251742891846118
          ],
          [
           0.006151395968809898,
           -0.077070853123451,
           0.05409739617849075,
           1,
           0.13819628529347452,
           0.05005000706493744,
           0.09002442858416618,
           -0.06633786375082011,
           -0.09725553545119853,
           0.009716974731549753,
           0.08207949878149647,
           0.06488375357305433,
           -0.05347064135437851,
           -0.02738082807276685,
           -0.045201266270499606,
           -0.05120214147392165,
           0.05120214147392163,
           -0.047583221840563746,
           -0.028995700217751504,
           -0.018960384048639003,
           -0.03284861643785547,
           0.04729248424162863,
           -0.04283412656924649,
           -0.08741177488463403,
           -0.036769870746067426,
           0.06088798968813293,
           -0.0041396510848322595,
           -0.014058006049085725
          ],
          [
           -0.03613637401909835,
           -0.023834475397621756,
           0.034067201611148276,
           0.13819628529347452,
           1,
           0.6249841983009838,
           0.07474881629117033,
           0.029698126317616813,
           -0.03959427154904138,
           -0.011283597446143033,
           0.2149266654418908,
           0.05565216639924741,
           -0.11744306468657523,
           0.01474970764312825,
           0.008432146318380138,
           0.0814321941513483,
           -0.08143219415134832,
           -0.08441806392712929,
           0.12188862971813419,
           -0.0751692492915072,
           -0.06441714422185285,
           0.0550098863544776,
           -0.04404328875781012,
           -0.1812029555843807,
           -0.07557469891975237,
           0.13692695323958035,
           -0.06975107551532334,
           0.11807675265536108
          ],
          [
           0.03271641666544812,
           0.017142154158463936,
           0.028926323080232606,
           0.05005000706493744,
           0.6249841983009838,
           1,
           -0.2713157012460023,
           0.07907610223225571,
           -0.06523744486461856,
           0.02079455174896593,
           0.15473864110152363,
           0.044432619515408715,
           -0.16561583640754768,
           0.0037971366145675743,
           0.06288955806723197,
           0.09348243679016624,
           -0.0934824367901662,
           -0.13828885471668323,
           0.15245810148524977,
           -0.11749726455770299,
           -0.024610880697696583,
           -0.0926364430411996,
           -0.027968870895467155,
           -0.16175696703071452,
           -0.0418066073133924,
           0.11355190828951996,
           -0.08668199092721861,
           0.14719098594764532
          ],
          [
           0.05826568435140995,
           -0.07120694300823337,
           0.04930237081388657,
           0.09002442858416618,
           0.07474881629117033,
           -0.2713157012460023,
           1,
           -0.013048035294304589,
           -0.00642872676381565,
           0.0216687425713283,
           0.0724039372513305,
           0.11148904071311026,
           -0.00832354031089819,
           0.029729841477774504,
           0.01773222421822788,
           0.08630171290720416,
           -0.08630171290720409,
           0.007686217587416614,
           0.11823278411502645,
           0.04992186363940604,
           -0.09137347358200267,
           0.042622940026390777,
           -0.08783357580032444,
           -0.05723713605469411,
           0.04108934384011461,
           -0.014597449828363978,
           -0.020947180184964994,
           -0.05440121060720447
          ],
          [
           -0.01835693551676335,
           -0.03281674300106376,
           0.0016228795687966036,
           -0.06633786375082011,
           0.029698126317616813,
           0.07907610223225571,
           -0.013048035294304589,
           1,
           -0.04842617062860861,
           -0.006000737428733288,
           0.06272836622171613,
           0.01623405269982953,
           0.01785120130746685,
           0.012318934796987282,
           -0.04036317399075227,
           0.007741974285244548,
           -0.007741974285244533,
           -0.013470360865670385,
           0.025656828591124125,
           -0.03604281970281949,
           0.048161544162525195,
           -0.00866973301730896,
           0.037750294181843023,
           -0.027737125883782236,
           0.010936350075091479,
           -0.046426676981127846,
           0.022937060572717376,
           -0.04220627301834893
          ],
          [
           -0.023923324588375056,
           0.03658872587522648,
           -0.0283343204703135,
           -0.09725553545119853,
           -0.03959427154904138,
           -0.06523744486461856,
           -0.00642872676381565,
           -0.04842617062860861,
           1,
           -0.02468196619739745,
           -0.055039254037601966,
           -0.042635921145922476,
           0.08027942649979085,
           -0.022133806946301172,
           0.040470328824879324,
           0.010907037087911735,
           -0.010907037087911721,
           0.050115649322249524,
           -0.004488656165190736,
           0.029112923186339765,
           0.01987908653210575,
           0.020896379220017157,
           -0.03512686698387107,
           0.06305538695530374,
           -0.03202278911844211,
           -0.07275141087594099,
           0.058115658501396154,
           -0.024822887717288696
          ],
          [
           0.14925358219009058,
           0.10966670041593388,
           0.08962523262254277,
           0.009716974731549753,
           -0.011283597446143033,
           0.02079455174896593,
           0.0216687425713283,
           -0.006000737428733288,
           -0.02468196619739745,
           1,
           -0.04573248933920639,
           0.15326573392821813,
           0.017778877040478504,
           0.05618077221556036,
           0.034801126677832035,
           0.09425989293340789,
           -0.09425989293340782,
           -0.032623488366725635,
           0.11819754451428689,
           0.041385568221116414,
           -0.058070495578222824,
           -0.0014708278304139365,
           0.05958207134993271,
           -0.010392029460281428,
           0.5013637491364769,
           0.14174205722055291,
           -0.540354484111697,
           0.11242699893266431
          ],
          [
           -0.09112740931949911,
           -0.0030148530833446012,
           0.0029671587541553004,
           0.08207949878149647,
           0.2149266654418908,
           0.15473864110152363,
           0.0724039372513305,
           0.06272836622171613,
           -0.055039254037601966,
           -0.04573248933920639,
           1,
           -0.09140029311136072,
           -0.07966853400059973,
           -0.03439006866474753,
           -0.048371677789184366,
           -0.07549269735627631,
           0.07549269735627634,
           -0.0196302966513584,
           -0.08067680281606504,
           -0.13458877572233155,
           0.09278544671300058,
           -0.013559399939321405,
           0.005950720826577534,
           -0.021821789023599183,
           -0.18171301969732814,
           0.012324564444108883,
           0.043722349233807044,
           0.14476650603589644
          ],
          [
           0.3735819665452352,
           0.07498932141611626,
           0.3176903083747719,
           0.06488375357305433,
           0.05565216639924741,
           0.044432619515408715,
           0.11148904071311026,
           0.01623405269982953,
           -0.042635921145922476,
           0.15326573392821813,
           -0.09140029311136072,
           1,
           -0.0732558594828816,
           -0.009423501636639634,
           0.10987114647153813,
           0.17919378078546935,
           -0.17919378078546933,
           -0.10804819866737998,
           0.24032606214678784,
           -0.03919819335486165,
           -0.09597170580256295,
           -0.021731680914021265,
           -5.707567698852548e-05,
           -0.09073825320122281,
           0.17162568646976348,
           -0.013590637498776077,
           -0.1260096935949132,
           -0.04382922448466023
          ],
          [
           0.0052935904687161275,
           0.013071866094727162,
           -0.05057148796406499,
           -0.05347064135437851,
           -0.11744306468657523,
           -0.16561583640754768,
           -0.00832354031089819,
           0.01785120130746685,
           0.08027942649979085,
           0.017778877040478504,
           -0.07966853400059973,
           -0.0732558594828816,
           1,
           0.027021870291949367,
           0.08892544400140061,
           0.015690083720305288,
           -0.015690083720305344,
           0.10069040506606391,
           -0.05360814849738301,
           0.03212494897844144,
           0.0017043363675773094,
           -0.057443495536522,
           0.04382765163435221,
           0.14436302534241285,
           0.029864022362573243,
           -0.03682414489866827,
           0.012873535794704119,
           -0.053125370863983175
          ],
          [
           -0.027769970496536164,
           -0.006271240479457501,
           0.004572433575588645,
           -0.02738082807276685,
           0.01474970764312825,
           0.0037971366145675743,
           0.029729841477774504,
           0.012318934796987282,
           -0.022133806946301172,
           0.05618077221556036,
           -0.03439006866474753,
           -0.009423501636639634,
           0.027021870291949367,
           1,
           0.012706641229319426,
           -0.044177663428031984,
           0.04417766342803195,
           0.011565714713207059,
           -0.06014617316189666,
           0.005134969412589682,
           0.02813700281407333,
           0.04466383493121872,
           -0.04734881746042388,
           -0.013317895167121233,
           0.019441626386638846,
           0.05472046976446753,
           -0.0504102675332942,
           -0.017330462791391443
          ],
          [
           0.1294064815507827,
           0.10485128101082276,
           0.0681425100324566,
           -0.045201266270499606,
           0.008432146318380138,
           0.06288955806723197,
           0.01773222421822788,
           -0.04036317399075227,
           0.040470328824879324,
           0.034801126677832035,
           -0.048371677789184366,
           0.10987114647153813,
           0.08892544400140061,
           0.012706641229319426,
           1,
           0.06923579580060607,
           -0.069235795800606,
           0.04713063087539134,
           0.0798499593650724,
           -0.04201554996141793,
           -0.061134372194121926,
           -0.06864766288335476,
           0.0490194421491795,
           -0.014409616442192413,
           0.07457053155115066,
           -0.04770764159461971,
           0.0023249621726623027,
           -0.0936049207881027
          ],
          [
           0.16169415348003283,
           0.2034311810208655,
           -0.013817927075225578,
           -0.05120214147392165,
           0.0814321941513483,
           0.09348243679016624,
           0.08630171290720416,
           0.007741974285244548,
           0.010907037087911735,
           0.09425989293340789,
           -0.07549269735627631,
           0.17919378078546935,
           0.015690083720305288,
           -0.044177663428031984,
           0.06923579580060607,
           1,
           -1.0000000000000002,
           0.2133571939666609,
           0.7380356889809379,
           0.1196381652179008,
           -0.2228453330825326,
           -0.007613290339892334,
           -0.07635607566617604,
           -0.01081096875161024,
           0.05619993784636685,
           0.08609242721717686,
           -0.09400857677080626,
           0.004413559511103133
          ],
          [
           -0.16169415348003285,
           -0.20343118102086546,
           0.013817927075225608,
           0.05120214147392163,
           -0.08143219415134832,
           -0.0934824367901662,
           -0.08630171290720409,
           -0.007741974285244533,
           -0.010907037087911721,
           -0.09425989293340782,
           0.07549269735627634,
           -0.17919378078546933,
           -0.015690083720305344,
           0.04417766342803195,
           -0.069235795800606,
           -1.0000000000000002,
           1,
           -0.2133571939666608,
           -0.7380356889809375,
           -0.11963816521790076,
           0.2228453330825326,
           0.007613290339892309,
           0.07635607566617604,
           0.010810968751610238,
           -0.05619993784636688,
           -0.0860924272171769,
           0.09400857677080636,
           -0.004413559511103135
          ],
          [
           -0.14552907056927442,
           -0.11720858654662829,
           -0.10268358168034784,
           -0.047583221840563746,
           -0.08441806392712929,
           -0.13828885471668323,
           0.007686217587416614,
           -0.013470360865670385,
           0.050115649322249524,
           -0.032623488366725635,
           -0.0196302966513584,
           -0.10804819866737998,
           0.10069040506606391,
           0.011565714713207059,
           0.04713063087539134,
           0.2133571939666609,
           -0.2133571939666608,
           1,
           -0.350487110700886,
           0.01838704386322279,
           0.058953724025516296,
           0.02895165470136407,
           -0.0005661006270964208,
           0.031139072418215043,
           -0.05287851111216262,
           -0.0011724535335853026,
           0.07791886351744476,
           -0.029662437189855704
          ],
          [
           0.20743384116113295,
           0.28348305885279484,
           0.06363888701548275,
           -0.028995700217751504,
           0.12188862971813419,
           0.15245810148524977,
           0.11823278411502645,
           0.025656828591124125,
           -0.004488656165190736,
           0.11819754451428689,
           -0.08067680281606504,
           0.24032606214678784,
           -0.05360814849738301,
           -0.06014617316189666,
           0.0798499593650724,
           0.7380356889809379,
           -0.7380356889809375,
           -0.350487110700886,
           1,
           0.07673579298040956,
           -0.22585986305298844,
           -0.021807237506227553,
           -0.055559417249790924,
           -0.01808352174774345,
           0.09021793458160236,
           0.07642920300366796,
           -0.13864901301610583,
           0.021327415312904593
          ],
          [
           0.006552664340659187,
           -0.02757895700598116,
           -0.2975473191179945,
           -0.018960384048639003,
           -0.0751692492915072,
           -0.11749726455770299,
           0.04992186363940604,
           -0.03604281970281949,
           0.029112923186339765,
           0.041385568221116414,
           -0.13458877572233155,
           -0.03919819335486165,
           0.03212494897844144,
           0.005134969412589682,
           -0.04201554996141793,
           0.1196381652179008,
           -0.11963816521790076,
           0.01838704386322279,
           0.07673579298040956,
           1,
           -0.7359676982390787,
           0.012866175464130752,
           -0.04047990897283096,
           0.06300269782979216,
           0.0830114966107358,
           0.017604132422856272,
           -0.04380500301240309,
           -0.03970921831857731
          ],
          [
           -0.21262041600292306,
           -0.06303293305111135,
           0.1672849336826163,
           -0.03284861643785547,
           -0.06441714422185285,
           -0.024610880697696583,
           -0.09137347358200267,
           0.048161544162525195,
           0.01987908653210575,
           -0.058070495578222824,
           0.09278544671300058,
           -0.09597170580256295,
           0.0017043363675773094,
           0.02813700281407333,
           -0.061134372194121926,
           -0.2228453330825326,
           0.2228453330825326,
           0.058953724025516296,
           -0.22585986305298844,
           -0.7359676982390787,
           1,
           0.012048573525199982,
           0.01888624655078464,
           0.014347115529076013,
           -0.08853246072289349,
           -0.043756198383337074,
           0.08430423844262919,
           0.03780546932146638
          ],
          [
           -0.1482827249214327,
           -0.10673663224582322,
           -0.0006571372397738576,
           0.04729248424162863,
           0.0550098863544776,
           -0.0926364430411996,
           0.042622940026390777,
           -0.00866973301730896,
           0.020896379220017157,
           -0.0014708278304139365,
           -0.013559399939321405,
           -0.021731680914021265,
           -0.057443495536522,
           0.04466383493121872,
           -0.06864766288335476,
           -0.007613290339892334,
           0.007613290339892309,
           0.02895165470136407,
           -0.021807237506227553,
           0.012866175464130752,
           0.012048573525199982,
           1,
           -0.19570923786773153,
           -0.6524382543012599,
           0.0018658176751187119,
           -0.0032169386937305577,
           0.017014761121023892,
           0.029595200216857333
          ],
          [
           0.05995357357200324,
           -0.007723406358332311,
           -0.03454539888558352,
           -0.04283412656924649,
           -0.04404328875781012,
           -0.027968870895467155,
           -0.08783357580032444,
           0.037750294181843023,
           -0.03512686698387107,
           0.05958207134993271,
           0.005950720826577534,
           -5.707567698852548e-05,
           0.04382765163435221,
           -0.04734881746042388,
           0.0490194421491795,
           -0.07635607566617604,
           0.07635607566617604,
           -0.0005661006270964208,
           -0.055559417249790924,
           -0.04047990897283096,
           0.01888624655078464,
           -0.19570923786773153,
           1,
           -0.07499147872518992,
           0.023276985153385315,
           -0.046589261881274616,
           -0.0226746429171344,
           0.004174792225761252
          ],
          [
           0.04371236958564418,
           0.14506582086777964,
           0.009064819726578336,
           -0.08741177488463403,
           -0.1812029555843807,
           -0.16175696703071452,
           -0.05723713605469411,
           -0.027737125883782236,
           0.06305538695530374,
           -0.010392029460281428,
           -0.021821789023599183,
           -0.09073825320122281,
           0.14436302534241285,
           -0.013317895167121233,
           -0.014409616442192413,
           -0.01081096875161024,
           0.010810968751610238,
           0.031139072418215043,
           -0.01808352174774345,
           0.06300269782979216,
           0.014347115529076013,
           -0.6524382543012599,
           -0.07499147872518992,
           1,
           -0.003295700531089755,
           -0.02294428884819929,
           0.01001804874626081,
           -0.02551551815399144
          ],
          [
           0.16368132589427992,
           0.021764637559539318,
           0.08845967124505283,
           -0.036769870746067426,
           -0.07557469891975237,
           -0.0418066073133924,
           0.04108934384011461,
           0.010936350075091479,
           -0.03202278911844211,
           0.5013637491364769,
           -0.18171301969732814,
           0.17162568646976348,
           0.029864022362573243,
           0.019441626386638846,
           0.07457053155115066,
           0.05619993784636685,
           -0.05619993784636688,
           -0.05287851111216262,
           0.09021793458160236,
           0.0830114966107358,
           -0.08853246072289349,
           0.0018658176751187119,
           0.023276985153385315,
           -0.003295700531089755,
           1,
           -0.19997146127559773,
           -0.6836174014112242,
           -0.13140699451852722
          ],
          [
           0.016129149854637117,
           0.04252590165134888,
           -0.02035061471014849,
           0.06088798968813293,
           0.13692695323958035,
           0.11355190828951996,
           -0.014597449828363978,
           -0.046426676981127846,
           -0.07275141087594099,
           0.14174205722055291,
           0.012324564444108883,
           -0.013590637498776077,
           -0.03682414489866827,
           0.05472046976446753,
           -0.04770764159461971,
           0.08609242721717686,
           -0.0860924272171769,
           -0.0011724535335853026,
           0.07642920300366796,
           0.017604132422856272,
           -0.043756198383337074,
           -0.0032169386937305577,
           -0.046589261881274616,
           -0.02294428884819929,
           -0.19997146127559773,
           1,
           -0.3298624822339112,
           -0.06340715918772352
          ],
          [
           -0.15584756088883736,
           -0.07833852182059793,
           -0.08145818988954384,
           -0.0041396510848322595,
           -0.06975107551532334,
           -0.08668199092721861,
           -0.020947180184964994,
           0.022937060572717376,
           0.058115658501396154,
           -0.540354484111697,
           0.043722349233807044,
           -0.1260096935949132,
           0.012873535794704119,
           -0.0504102675332942,
           0.0023249621726623027,
           -0.09400857677080626,
           0.09400857677080636,
           0.07791886351744476,
           -0.13864901301610583,
           -0.04380500301240309,
           0.08430423844262919,
           0.017014761121023892,
           -0.0226746429171344,
           0.01001804874626081,
           -0.6836174014112242,
           -0.3298624822339112,
           1,
           -0.21676211754556413
          ],
          [
           -0.02236971146248286,
           0.011280547309334813,
           0.0009251742891846118,
           -0.014058006049085725,
           0.11807675265536108,
           0.14719098594764532,
           -0.05440121060720447,
           -0.04220627301834893,
           -0.024822887717288696,
           0.11242699893266431,
           0.14476650603589644,
           -0.04382922448466023,
           -0.053125370863983175,
           -0.017330462791391443,
           -0.0936049207881027,
           0.004413559511103133,
           -0.004413559511103135,
           -0.029662437189855704,
           0.021327415312904593,
           -0.03970921831857731,
           0.03780546932146638,
           0.029595200216857333,
           0.004174792225761252,
           -0.02551551815399144,
           -0.13140699451852722,
           -0.06340715918772352,
           -0.21676211754556413,
           1
          ]
         ]
        }
       ],
       "layout": {
        "height": 700,
        "template": {
         "data": {
          "bar": [
           {
            "error_x": {
             "color": "#2a3f5f"
            },
            "error_y": {
             "color": "#2a3f5f"
            },
            "marker": {
             "line": {
              "color": "#E5ECF6",
              "width": 0.5
             },
             "pattern": {
              "fillmode": "overlay",
              "size": 10,
              "solidity": 0.2
             }
            },
            "type": "bar"
           }
          ],
          "barpolar": [
           {
            "marker": {
             "line": {
              "color": "#E5ECF6",
              "width": 0.5
             },
             "pattern": {
              "fillmode": "overlay",
              "size": 10,
              "solidity": 0.2
             }
            },
            "type": "barpolar"
           }
          ],
          "carpet": [
           {
            "aaxis": {
             "endlinecolor": "#2a3f5f",
             "gridcolor": "white",
             "linecolor": "white",
             "minorgridcolor": "white",
             "startlinecolor": "#2a3f5f"
            },
            "baxis": {
             "endlinecolor": "#2a3f5f",
             "gridcolor": "white",
             "linecolor": "white",
             "minorgridcolor": "white",
             "startlinecolor": "#2a3f5f"
            },
            "type": "carpet"
           }
          ],
          "choropleth": [
           {
            "colorbar": {
             "outlinewidth": 0,
             "ticks": ""
            },
            "type": "choropleth"
           }
          ],
          "contour": [
           {
            "colorbar": {
             "outlinewidth": 0,
             "ticks": ""
            },
            "colorscale": [
             [
              0,
              "#0d0887"
             ],
             [
              0.1111111111111111,
              "#46039f"
             ],
             [
              0.2222222222222222,
              "#7201a8"
             ],
             [
              0.3333333333333333,
              "#9c179e"
             ],
             [
              0.4444444444444444,
              "#bd3786"
             ],
             [
              0.5555555555555556,
              "#d8576b"
             ],
             [
              0.6666666666666666,
              "#ed7953"
             ],
             [
              0.7777777777777778,
              "#fb9f3a"
             ],
             [
              0.8888888888888888,
              "#fdca26"
             ],
             [
              1,
              "#f0f921"
             ]
            ],
            "type": "contour"
           }
          ],
          "contourcarpet": [
           {
            "colorbar": {
             "outlinewidth": 0,
             "ticks": ""
            },
            "type": "contourcarpet"
           }
          ],
          "heatmap": [
           {
            "colorbar": {
             "outlinewidth": 0,
             "ticks": ""
            },
            "colorscale": [
             [
              0,
              "#0d0887"
             ],
             [
              0.1111111111111111,
              "#46039f"
             ],
             [
              0.2222222222222222,
              "#7201a8"
             ],
             [
              0.3333333333333333,
              "#9c179e"
             ],
             [
              0.4444444444444444,
              "#bd3786"
             ],
             [
              0.5555555555555556,
              "#d8576b"
             ],
             [
              0.6666666666666666,
              "#ed7953"
             ],
             [
              0.7777777777777778,
              "#fb9f3a"
             ],
             [
              0.8888888888888888,
              "#fdca26"
             ],
             [
              1,
              "#f0f921"
             ]
            ],
            "type": "heatmap"
           }
          ],
          "heatmapgl": [
           {
            "colorbar": {
             "outlinewidth": 0,
             "ticks": ""
            },
            "colorscale": [
             [
              0,
              "#0d0887"
             ],
             [
              0.1111111111111111,
              "#46039f"
             ],
             [
              0.2222222222222222,
              "#7201a8"
             ],
             [
              0.3333333333333333,
              "#9c179e"
             ],
             [
              0.4444444444444444,
              "#bd3786"
             ],
             [
              0.5555555555555556,
              "#d8576b"
             ],
             [
              0.6666666666666666,
              "#ed7953"
             ],
             [
              0.7777777777777778,
              "#fb9f3a"
             ],
             [
              0.8888888888888888,
              "#fdca26"
             ],
             [
              1,
              "#f0f921"
             ]
            ],
            "type": "heatmapgl"
           }
          ],
          "histogram": [
           {
            "marker": {
             "pattern": {
              "fillmode": "overlay",
              "size": 10,
              "solidity": 0.2
             }
            },
            "type": "histogram"
           }
          ],
          "histogram2d": [
           {
            "colorbar": {
             "outlinewidth": 0,
             "ticks": ""
            },
            "colorscale": [
             [
              0,
              "#0d0887"
             ],
             [
              0.1111111111111111,
              "#46039f"
             ],
             [
              0.2222222222222222,
              "#7201a8"
             ],
             [
              0.3333333333333333,
              "#9c179e"
             ],
             [
              0.4444444444444444,
              "#bd3786"
             ],
             [
              0.5555555555555556,
              "#d8576b"
             ],
             [
              0.6666666666666666,
              "#ed7953"
             ],
             [
              0.7777777777777778,
              "#fb9f3a"
             ],
             [
              0.8888888888888888,
              "#fdca26"
             ],
             [
              1,
              "#f0f921"
             ]
            ],
            "type": "histogram2d"
           }
          ],
          "histogram2dcontour": [
           {
            "colorbar": {
             "outlinewidth": 0,
             "ticks": ""
            },
            "colorscale": [
             [
              0,
              "#0d0887"
             ],
             [
              0.1111111111111111,
              "#46039f"
             ],
             [
              0.2222222222222222,
              "#7201a8"
             ],
             [
              0.3333333333333333,
              "#9c179e"
             ],
             [
              0.4444444444444444,
              "#bd3786"
             ],
             [
              0.5555555555555556,
              "#d8576b"
             ],
             [
              0.6666666666666666,
              "#ed7953"
             ],
             [
              0.7777777777777778,
              "#fb9f3a"
             ],
             [
              0.8888888888888888,
              "#fdca26"
             ],
             [
              1,
              "#f0f921"
             ]
            ],
            "type": "histogram2dcontour"
           }
          ],
          "mesh3d": [
           {
            "colorbar": {
             "outlinewidth": 0,
             "ticks": ""
            },
            "type": "mesh3d"
           }
          ],
          "parcoords": [
           {
            "line": {
             "colorbar": {
              "outlinewidth": 0,
              "ticks": ""
             }
            },
            "type": "parcoords"
           }
          ],
          "pie": [
           {
            "automargin": true,
            "type": "pie"
           }
          ],
          "scatter": [
           {
            "fillpattern": {
             "fillmode": "overlay",
             "size": 10,
             "solidity": 0.2
            },
            "type": "scatter"
           }
          ],
          "scatter3d": [
           {
            "line": {
             "colorbar": {
              "outlinewidth": 0,
              "ticks": ""
             }
            },
            "marker": {
             "colorbar": {
              "outlinewidth": 0,
              "ticks": ""
             }
            },
            "type": "scatter3d"
           }
          ],
          "scattercarpet": [
           {
            "marker": {
             "colorbar": {
              "outlinewidth": 0,
              "ticks": ""
             }
            },
            "type": "scattercarpet"
           }
          ],
          "scattergeo": [
           {
            "marker": {
             "colorbar": {
              "outlinewidth": 0,
              "ticks": ""
             }
            },
            "type": "scattergeo"
           }
          ],
          "scattergl": [
           {
            "marker": {
             "colorbar": {
              "outlinewidth": 0,
              "ticks": ""
             }
            },
            "type": "scattergl"
           }
          ],
          "scattermapbox": [
           {
            "marker": {
             "colorbar": {
              "outlinewidth": 0,
              "ticks": ""
             }
            },
            "type": "scattermapbox"
           }
          ],
          "scatterpolar": [
           {
            "marker": {
             "colorbar": {
              "outlinewidth": 0,
              "ticks": ""
             }
            },
            "type": "scatterpolar"
           }
          ],
          "scatterpolargl": [
           {
            "marker": {
             "colorbar": {
              "outlinewidth": 0,
              "ticks": ""
             }
            },
            "type": "scatterpolargl"
           }
          ],
          "scatterternary": [
           {
            "marker": {
             "colorbar": {
              "outlinewidth": 0,
              "ticks": ""
             }
            },
            "type": "scatterternary"
           }
          ],
          "surface": [
           {
            "colorbar": {
             "outlinewidth": 0,
             "ticks": ""
            },
            "colorscale": [
             [
              0,
              "#0d0887"
             ],
             [
              0.1111111111111111,
              "#46039f"
             ],
             [
              0.2222222222222222,
              "#7201a8"
             ],
             [
              0.3333333333333333,
              "#9c179e"
             ],
             [
              0.4444444444444444,
              "#bd3786"
             ],
             [
              0.5555555555555556,
              "#d8576b"
             ],
             [
              0.6666666666666666,
              "#ed7953"
             ],
             [
              0.7777777777777778,
              "#fb9f3a"
             ],
             [
              0.8888888888888888,
              "#fdca26"
             ],
             [
              1,
              "#f0f921"
             ]
            ],
            "type": "surface"
           }
          ],
          "table": [
           {
            "cells": {
             "fill": {
              "color": "#EBF0F8"
             },
             "line": {
              "color": "white"
             }
            },
            "header": {
             "fill": {
              "color": "#C8D4E3"
             },
             "line": {
              "color": "white"
             }
            },
            "type": "table"
           }
          ]
         },
         "layout": {
          "annotationdefaults": {
           "arrowcolor": "#2a3f5f",
           "arrowhead": 0,
           "arrowwidth": 1
          },
          "autotypenumbers": "strict",
          "coloraxis": {
           "colorbar": {
            "outlinewidth": 0,
            "ticks": ""
           }
          },
          "colorscale": {
           "diverging": [
            [
             0,
             "#8e0152"
            ],
            [
             0.1,
             "#c51b7d"
            ],
            [
             0.2,
             "#de77ae"
            ],
            [
             0.3,
             "#f1b6da"
            ],
            [
             0.4,
             "#fde0ef"
            ],
            [
             0.5,
             "#f7f7f7"
            ],
            [
             0.6,
             "#e6f5d0"
            ],
            [
             0.7,
             "#b8e186"
            ],
            [
             0.8,
             "#7fbc41"
            ],
            [
             0.9,
             "#4d9221"
            ],
            [
             1,
             "#276419"
            ]
           ],
           "sequential": [
            [
             0,
             "#0d0887"
            ],
            [
             0.1111111111111111,
             "#46039f"
            ],
            [
             0.2222222222222222,
             "#7201a8"
            ],
            [
             0.3333333333333333,
             "#9c179e"
            ],
            [
             0.4444444444444444,
             "#bd3786"
            ],
            [
             0.5555555555555556,
             "#d8576b"
            ],
            [
             0.6666666666666666,
             "#ed7953"
            ],
            [
             0.7777777777777778,
             "#fb9f3a"
            ],
            [
             0.8888888888888888,
             "#fdca26"
            ],
            [
             1,
             "#f0f921"
            ]
           ],
           "sequentialminus": [
            [
             0,
             "#0d0887"
            ],
            [
             0.1111111111111111,
             "#46039f"
            ],
            [
             0.2222222222222222,
             "#7201a8"
            ],
            [
             0.3333333333333333,
             "#9c179e"
            ],
            [
             0.4444444444444444,
             "#bd3786"
            ],
            [
             0.5555555555555556,
             "#d8576b"
            ],
            [
             0.6666666666666666,
             "#ed7953"
            ],
            [
             0.7777777777777778,
             "#fb9f3a"
            ],
            [
             0.8888888888888888,
             "#fdca26"
            ],
            [
             1,
             "#f0f921"
            ]
           ]
          },
          "colorway": [
           "#636efa",
           "#EF553B",
           "#00cc96",
           "#ab63fa",
           "#FFA15A",
           "#19d3f3",
           "#FF6692",
           "#B6E880",
           "#FF97FF",
           "#FECB52"
          ],
          "font": {
           "color": "#2a3f5f"
          },
          "geo": {
           "bgcolor": "white",
           "lakecolor": "white",
           "landcolor": "#E5ECF6",
           "showlakes": true,
           "showland": true,
           "subunitcolor": "white"
          },
          "hoverlabel": {
           "align": "left"
          },
          "hovermode": "closest",
          "mapbox": {
           "style": "light"
          },
          "paper_bgcolor": "white",
          "plot_bgcolor": "#E5ECF6",
          "polar": {
           "angularaxis": {
            "gridcolor": "white",
            "linecolor": "white",
            "ticks": ""
           },
           "bgcolor": "#E5ECF6",
           "radialaxis": {
            "gridcolor": "white",
            "linecolor": "white",
            "ticks": ""
           }
          },
          "scene": {
           "xaxis": {
            "backgroundcolor": "#E5ECF6",
            "gridcolor": "white",
            "gridwidth": 2,
            "linecolor": "white",
            "showbackground": true,
            "ticks": "",
            "zerolinecolor": "white"
           },
           "yaxis": {
            "backgroundcolor": "#E5ECF6",
            "gridcolor": "white",
            "gridwidth": 2,
            "linecolor": "white",
            "showbackground": true,
            "ticks": "",
            "zerolinecolor": "white"
           },
           "zaxis": {
            "backgroundcolor": "#E5ECF6",
            "gridcolor": "white",
            "gridwidth": 2,
            "linecolor": "white",
            "showbackground": true,
            "ticks": "",
            "zerolinecolor": "white"
           }
          },
          "shapedefaults": {
           "line": {
            "color": "#2a3f5f"
           }
          },
          "ternary": {
           "aaxis": {
            "gridcolor": "white",
            "linecolor": "white",
            "ticks": ""
           },
           "baxis": {
            "gridcolor": "white",
            "linecolor": "white",
            "ticks": ""
           },
           "bgcolor": "#E5ECF6",
           "caxis": {
            "gridcolor": "white",
            "linecolor": "white",
            "ticks": ""
           }
          },
          "title": {
           "x": 0.05
          },
          "xaxis": {
           "automargin": true,
           "gridcolor": "white",
           "linecolor": "white",
           "ticks": "",
           "title": {
            "standoff": 15
           },
           "zerolinecolor": "white",
           "zerolinewidth": 2
          },
          "yaxis": {
           "automargin": true,
           "gridcolor": "white",
           "linecolor": "white",
           "ticks": "",
           "title": {
            "standoff": 15
           },
           "zerolinecolor": "white",
           "zerolinewidth": 2
          }
         }
        },
        "title": {
         "text": "Correlation of features"
        },
        "width": 900,
        "xaxis": {
         "nticks": 36,
         "ticks": ""
        },
        "yaxis": {
         "ticks": ""
        }
       }
      },
      "text/html": [
       "<div>                            <div id=\"4de050f1-a043-4a10-b9d7-460b1a08ac4d\" class=\"plotly-graph-div\" style=\"height:700px; width:900px;\"></div>            <script type=\"text/javascript\">                require([\"plotly\"], function(Plotly) {                    window.PLOTLYENV=window.PLOTLYENV || {};                                    if (document.getElementById(\"4de050f1-a043-4a10-b9d7-460b1a08ac4d\")) {                    Plotly.newPlot(                        \"4de050f1-a043-4a10-b9d7-460b1a08ac4d\",                        [{\"colorscale\":[[0.0,\"#440154\"],[0.1111111111111111,\"#482878\"],[0.2222222222222222,\"#3e4989\"],[0.3333333333333333,\"#31688e\"],[0.4444444444444444,\"#26828e\"],[0.5555555555555556,\"#1f9e89\"],[0.6666666666666666,\"#35b779\"],[0.7777777777777778,\"#6ece58\"],[0.8888888888888888,\"#b5de2b\"],[1.0,\"#fde725\"]],\"opacity\":1.0,\"reversescale\":false,\"text\":[true],\"x\":[\"Primary_applicant_age_in_years\",\"Number_of_dependents\",\"Years_at_current_residence\",\"Foreign_worker\",\"Months_loan_taken_for\",\"Principal_loan_amount\",\"EMI_rate_in_percentage_of_disposable_income\",\"Has_coapplicant\",\"Has_guarantor\",\"Number_of_existing_loans_at_this_bank\",\"high_risk_applicant\",\"Has_been_employed_for_at_least(years)\",\"Property\",\"Savings_account_balance\",\"Purpose\",\"Gender_male\",\"Marital_status_divorced/separated/married\",\"Marital_status_married/widowed\",\"Marital_status_single\",\"Housing_own\",\"Housing_rent\",\"Employment_status_skilled employee / official\",\"Employment_status_unemployed / unskilled - non-resident\",\"Employment_status_unskilled - resident\",\"Loan_history_critical/pending loans at other banks\",\"Loan_history_delay in paying off loans in the past\",\"Loan_history_existing loans paid back duly till now\",\"Loan_history_no loans taken/all loans paid back duly\"],\"y\":[\"Primary_applicant_age_in_years\",\"Number_of_dependents\",\"Years_at_current_residence\",\"Foreign_worker\",\"Months_loan_taken_for\",\"Principal_loan_amount\",\"EMI_rate_in_percentage_of_disposable_income\",\"Has_coapplicant\",\"Has_guarantor\",\"Number_of_existing_loans_at_this_bank\",\"high_risk_applicant\",\"Has_been_employed_for_at_least(years)\",\"Property\",\"Savings_account_balance\",\"Purpose\",\"Gender_male\",\"Marital_status_divorced/separated/married\",\"Marital_status_married/widowed\",\"Marital_status_single\",\"Housing_own\",\"Housing_rent\",\"Employment_status_skilled employee / official\",\"Employment_status_unemployed / unskilled - non-resident\",\"Employment_status_unskilled - resident\",\"Loan_history_critical/pending loans at other banks\",\"Loan_history_delay in paying off loans in the past\",\"Loan_history_existing loans paid back duly till now\",\"Loan_history_no loans taken/all loans paid back duly\"],\"z\":[[1.0,0.11820083281906714,0.26641918396946096,0.006151395968809898,-0.03613637401909835,0.03271641666544812,0.05826568435140995,-0.01835693551676335,-0.023923324588375056,0.14925358219009058,-0.09112740931949911,0.3735819665452352,0.0052935904687161275,-0.027769970496536164,0.1294064815507827,0.16169415348003283,-0.16169415348003285,-0.14552907056927442,0.20743384116113295,0.006552664340659187,-0.21262041600292306,-0.1482827249214327,0.05995357357200324,0.04371236958564418,0.16368132589427992,0.016129149854637117,-0.15584756088883736,-0.02236971146248286],[0.11820083281906714,1.0,0.042643425975225364,-0.077070853123451,-0.023834475397621756,0.017142154158463936,-0.07120694300823337,-0.03281674300106376,0.03658872587522648,0.10966670041593388,-0.0030148530833446012,0.07498932141611626,0.013071866094727162,-0.006271240479457501,0.10485128101082276,0.2034311810208655,-0.20343118102086546,-0.11720858654662829,0.28348305885279484,-0.02757895700598116,-0.06303293305111135,-0.10673663224582322,-0.007723406358332311,0.14506582086777964,0.021764637559539318,0.04252590165134888,-0.07833852182059793,0.011280547309334813],[0.26641918396946096,0.042643425975225364,1.0,0.05409739617849075,0.034067201611148276,0.028926323080232606,0.04930237081388657,0.0016228795687966036,-0.0283343204703135,0.08962523262254277,0.0029671587541553004,0.3176903083747719,-0.05057148796406499,0.004572433575588645,0.0681425100324566,-0.013817927075225578,0.013817927075225608,-0.10268358168034784,0.06363888701548275,-0.2975473191179945,0.1672849336826163,-0.0006571372397738576,-0.03454539888558352,0.009064819726578336,0.08845967124505283,-0.02035061471014849,-0.08145818988954384,0.0009251742891846118],[0.006151395968809898,-0.077070853123451,0.05409739617849075,1.0,0.13819628529347452,0.05005000706493744,0.09002442858416618,-0.06633786375082011,-0.09725553545119853,0.009716974731549753,0.08207949878149647,0.06488375357305433,-0.05347064135437851,-0.02738082807276685,-0.045201266270499606,-0.05120214147392165,0.05120214147392163,-0.047583221840563746,-0.028995700217751504,-0.018960384048639003,-0.03284861643785547,0.04729248424162863,-0.04283412656924649,-0.08741177488463403,-0.036769870746067426,0.06088798968813293,-0.0041396510848322595,-0.014058006049085725],[-0.03613637401909835,-0.023834475397621756,0.034067201611148276,0.13819628529347452,1.0,0.6249841983009838,0.07474881629117033,0.029698126317616813,-0.03959427154904138,-0.011283597446143033,0.2149266654418908,0.05565216639924741,-0.11744306468657523,0.01474970764312825,0.008432146318380138,0.0814321941513483,-0.08143219415134832,-0.08441806392712929,0.12188862971813419,-0.0751692492915072,-0.06441714422185285,0.0550098863544776,-0.04404328875781012,-0.1812029555843807,-0.07557469891975237,0.13692695323958035,-0.06975107551532334,0.11807675265536108],[0.03271641666544812,0.017142154158463936,0.028926323080232606,0.05005000706493744,0.6249841983009838,1.0,-0.2713157012460023,0.07907610223225571,-0.06523744486461856,0.02079455174896593,0.15473864110152363,0.044432619515408715,-0.16561583640754768,0.0037971366145675743,0.06288955806723197,0.09348243679016624,-0.0934824367901662,-0.13828885471668323,0.15245810148524977,-0.11749726455770299,-0.024610880697696583,-0.0926364430411996,-0.027968870895467155,-0.16175696703071452,-0.0418066073133924,0.11355190828951996,-0.08668199092721861,0.14719098594764532],[0.05826568435140995,-0.07120694300823337,0.04930237081388657,0.09002442858416618,0.07474881629117033,-0.2713157012460023,1.0,-0.013048035294304589,-0.00642872676381565,0.0216687425713283,0.0724039372513305,0.11148904071311026,-0.00832354031089819,0.029729841477774504,0.01773222421822788,0.08630171290720416,-0.08630171290720409,0.007686217587416614,0.11823278411502645,0.04992186363940604,-0.09137347358200267,0.042622940026390777,-0.08783357580032444,-0.05723713605469411,0.04108934384011461,-0.014597449828363978,-0.020947180184964994,-0.05440121060720447],[-0.01835693551676335,-0.03281674300106376,0.0016228795687966036,-0.06633786375082011,0.029698126317616813,0.07907610223225571,-0.013048035294304589,1.0,-0.04842617062860861,-0.006000737428733288,0.06272836622171613,0.01623405269982953,0.01785120130746685,0.012318934796987282,-0.04036317399075227,0.007741974285244548,-0.007741974285244533,-0.013470360865670385,0.025656828591124125,-0.03604281970281949,0.048161544162525195,-0.00866973301730896,0.037750294181843023,-0.027737125883782236,0.010936350075091479,-0.046426676981127846,0.022937060572717376,-0.04220627301834893],[-0.023923324588375056,0.03658872587522648,-0.0283343204703135,-0.09725553545119853,-0.03959427154904138,-0.06523744486461856,-0.00642872676381565,-0.04842617062860861,1.0,-0.02468196619739745,-0.055039254037601966,-0.042635921145922476,0.08027942649979085,-0.022133806946301172,0.040470328824879324,0.010907037087911735,-0.010907037087911721,0.050115649322249524,-0.004488656165190736,0.029112923186339765,0.01987908653210575,0.020896379220017157,-0.03512686698387107,0.06305538695530374,-0.03202278911844211,-0.07275141087594099,0.058115658501396154,-0.024822887717288696],[0.14925358219009058,0.10966670041593388,0.08962523262254277,0.009716974731549753,-0.011283597446143033,0.02079455174896593,0.0216687425713283,-0.006000737428733288,-0.02468196619739745,1.0,-0.04573248933920639,0.15326573392821813,0.017778877040478504,0.05618077221556036,0.034801126677832035,0.09425989293340789,-0.09425989293340782,-0.032623488366725635,0.11819754451428689,0.041385568221116414,-0.058070495578222824,-0.0014708278304139365,0.05958207134993271,-0.010392029460281428,0.5013637491364769,0.14174205722055291,-0.540354484111697,0.11242699893266431],[-0.09112740931949911,-0.0030148530833446012,0.0029671587541553004,0.08207949878149647,0.2149266654418908,0.15473864110152363,0.0724039372513305,0.06272836622171613,-0.055039254037601966,-0.04573248933920639,1.0,-0.09140029311136072,-0.07966853400059973,-0.03439006866474753,-0.048371677789184366,-0.07549269735627631,0.07549269735627634,-0.0196302966513584,-0.08067680281606504,-0.13458877572233155,0.09278544671300058,-0.013559399939321405,0.005950720826577534,-0.021821789023599183,-0.18171301969732814,0.012324564444108883,0.043722349233807044,0.14476650603589644],[0.3735819665452352,0.07498932141611626,0.3176903083747719,0.06488375357305433,0.05565216639924741,0.044432619515408715,0.11148904071311026,0.01623405269982953,-0.042635921145922476,0.15326573392821813,-0.09140029311136072,1.0,-0.0732558594828816,-0.009423501636639634,0.10987114647153813,0.17919378078546935,-0.17919378078546933,-0.10804819866737998,0.24032606214678784,-0.03919819335486165,-0.09597170580256295,-0.021731680914021265,-5.707567698852548e-05,-0.09073825320122281,0.17162568646976348,-0.013590637498776077,-0.1260096935949132,-0.04382922448466023],[0.0052935904687161275,0.013071866094727162,-0.05057148796406499,-0.05347064135437851,-0.11744306468657523,-0.16561583640754768,-0.00832354031089819,0.01785120130746685,0.08027942649979085,0.017778877040478504,-0.07966853400059973,-0.0732558594828816,1.0,0.027021870291949367,0.08892544400140061,0.015690083720305288,-0.015690083720305344,0.10069040506606391,-0.05360814849738301,0.03212494897844144,0.0017043363675773094,-0.057443495536522,0.04382765163435221,0.14436302534241285,0.029864022362573243,-0.03682414489866827,0.012873535794704119,-0.053125370863983175],[-0.027769970496536164,-0.006271240479457501,0.004572433575588645,-0.02738082807276685,0.01474970764312825,0.0037971366145675743,0.029729841477774504,0.012318934796987282,-0.022133806946301172,0.05618077221556036,-0.03439006866474753,-0.009423501636639634,0.027021870291949367,1.0,0.012706641229319426,-0.044177663428031984,0.04417766342803195,0.011565714713207059,-0.06014617316189666,0.005134969412589682,0.02813700281407333,0.04466383493121872,-0.04734881746042388,-0.013317895167121233,0.019441626386638846,0.05472046976446753,-0.0504102675332942,-0.017330462791391443],[0.1294064815507827,0.10485128101082276,0.0681425100324566,-0.045201266270499606,0.008432146318380138,0.06288955806723197,0.01773222421822788,-0.04036317399075227,0.040470328824879324,0.034801126677832035,-0.048371677789184366,0.10987114647153813,0.08892544400140061,0.012706641229319426,1.0,0.06923579580060607,-0.069235795800606,0.04713063087539134,0.0798499593650724,-0.04201554996141793,-0.061134372194121926,-0.06864766288335476,0.0490194421491795,-0.014409616442192413,0.07457053155115066,-0.04770764159461971,0.0023249621726623027,-0.0936049207881027],[0.16169415348003283,0.2034311810208655,-0.013817927075225578,-0.05120214147392165,0.0814321941513483,0.09348243679016624,0.08630171290720416,0.007741974285244548,0.010907037087911735,0.09425989293340789,-0.07549269735627631,0.17919378078546935,0.015690083720305288,-0.044177663428031984,0.06923579580060607,1.0,-1.0000000000000002,0.2133571939666609,0.7380356889809379,0.1196381652179008,-0.2228453330825326,-0.007613290339892334,-0.07635607566617604,-0.01081096875161024,0.05619993784636685,0.08609242721717686,-0.09400857677080626,0.004413559511103133],[-0.16169415348003285,-0.20343118102086546,0.013817927075225608,0.05120214147392163,-0.08143219415134832,-0.0934824367901662,-0.08630171290720409,-0.007741974285244533,-0.010907037087911721,-0.09425989293340782,0.07549269735627634,-0.17919378078546933,-0.015690083720305344,0.04417766342803195,-0.069235795800606,-1.0000000000000002,1.0,-0.2133571939666608,-0.7380356889809375,-0.11963816521790076,0.2228453330825326,0.007613290339892309,0.07635607566617604,0.010810968751610238,-0.05619993784636688,-0.0860924272171769,0.09400857677080636,-0.004413559511103135],[-0.14552907056927442,-0.11720858654662829,-0.10268358168034784,-0.047583221840563746,-0.08441806392712929,-0.13828885471668323,0.007686217587416614,-0.013470360865670385,0.050115649322249524,-0.032623488366725635,-0.0196302966513584,-0.10804819866737998,0.10069040506606391,0.011565714713207059,0.04713063087539134,0.2133571939666609,-0.2133571939666608,1.0,-0.350487110700886,0.01838704386322279,0.058953724025516296,0.02895165470136407,-0.0005661006270964208,0.031139072418215043,-0.05287851111216262,-0.0011724535335853026,0.07791886351744476,-0.029662437189855704],[0.20743384116113295,0.28348305885279484,0.06363888701548275,-0.028995700217751504,0.12188862971813419,0.15245810148524977,0.11823278411502645,0.025656828591124125,-0.004488656165190736,0.11819754451428689,-0.08067680281606504,0.24032606214678784,-0.05360814849738301,-0.06014617316189666,0.0798499593650724,0.7380356889809379,-0.7380356889809375,-0.350487110700886,1.0,0.07673579298040956,-0.22585986305298844,-0.021807237506227553,-0.055559417249790924,-0.01808352174774345,0.09021793458160236,0.07642920300366796,-0.13864901301610583,0.021327415312904593],[0.006552664340659187,-0.02757895700598116,-0.2975473191179945,-0.018960384048639003,-0.0751692492915072,-0.11749726455770299,0.04992186363940604,-0.03604281970281949,0.029112923186339765,0.041385568221116414,-0.13458877572233155,-0.03919819335486165,0.03212494897844144,0.005134969412589682,-0.04201554996141793,0.1196381652179008,-0.11963816521790076,0.01838704386322279,0.07673579298040956,1.0,-0.7359676982390787,0.012866175464130752,-0.04047990897283096,0.06300269782979216,0.0830114966107358,0.017604132422856272,-0.04380500301240309,-0.03970921831857731],[-0.21262041600292306,-0.06303293305111135,0.1672849336826163,-0.03284861643785547,-0.06441714422185285,-0.024610880697696583,-0.09137347358200267,0.048161544162525195,0.01987908653210575,-0.058070495578222824,0.09278544671300058,-0.09597170580256295,0.0017043363675773094,0.02813700281407333,-0.061134372194121926,-0.2228453330825326,0.2228453330825326,0.058953724025516296,-0.22585986305298844,-0.7359676982390787,1.0,0.012048573525199982,0.01888624655078464,0.014347115529076013,-0.08853246072289349,-0.043756198383337074,0.08430423844262919,0.03780546932146638],[-0.1482827249214327,-0.10673663224582322,-0.0006571372397738576,0.04729248424162863,0.0550098863544776,-0.0926364430411996,0.042622940026390777,-0.00866973301730896,0.020896379220017157,-0.0014708278304139365,-0.013559399939321405,-0.021731680914021265,-0.057443495536522,0.04466383493121872,-0.06864766288335476,-0.007613290339892334,0.007613290339892309,0.02895165470136407,-0.021807237506227553,0.012866175464130752,0.012048573525199982,1.0,-0.19570923786773153,-0.6524382543012599,0.0018658176751187119,-0.0032169386937305577,0.017014761121023892,0.029595200216857333],[0.05995357357200324,-0.007723406358332311,-0.03454539888558352,-0.04283412656924649,-0.04404328875781012,-0.027968870895467155,-0.08783357580032444,0.037750294181843023,-0.03512686698387107,0.05958207134993271,0.005950720826577534,-5.707567698852548e-05,0.04382765163435221,-0.04734881746042388,0.0490194421491795,-0.07635607566617604,0.07635607566617604,-0.0005661006270964208,-0.055559417249790924,-0.04047990897283096,0.01888624655078464,-0.19570923786773153,1.0,-0.07499147872518992,0.023276985153385315,-0.046589261881274616,-0.0226746429171344,0.004174792225761252],[0.04371236958564418,0.14506582086777964,0.009064819726578336,-0.08741177488463403,-0.1812029555843807,-0.16175696703071452,-0.05723713605469411,-0.027737125883782236,0.06305538695530374,-0.010392029460281428,-0.021821789023599183,-0.09073825320122281,0.14436302534241285,-0.013317895167121233,-0.014409616442192413,-0.01081096875161024,0.010810968751610238,0.031139072418215043,-0.01808352174774345,0.06300269782979216,0.014347115529076013,-0.6524382543012599,-0.07499147872518992,1.0,-0.003295700531089755,-0.02294428884819929,0.01001804874626081,-0.02551551815399144],[0.16368132589427992,0.021764637559539318,0.08845967124505283,-0.036769870746067426,-0.07557469891975237,-0.0418066073133924,0.04108934384011461,0.010936350075091479,-0.03202278911844211,0.5013637491364769,-0.18171301969732814,0.17162568646976348,0.029864022362573243,0.019441626386638846,0.07457053155115066,0.05619993784636685,-0.05619993784636688,-0.05287851111216262,0.09021793458160236,0.0830114966107358,-0.08853246072289349,0.0018658176751187119,0.023276985153385315,-0.003295700531089755,1.0,-0.19997146127559773,-0.6836174014112242,-0.13140699451852722],[0.016129149854637117,0.04252590165134888,-0.02035061471014849,0.06088798968813293,0.13692695323958035,0.11355190828951996,-0.014597449828363978,-0.046426676981127846,-0.07275141087594099,0.14174205722055291,0.012324564444108883,-0.013590637498776077,-0.03682414489866827,0.05472046976446753,-0.04770764159461971,0.08609242721717686,-0.0860924272171769,-0.0011724535335853026,0.07642920300366796,0.017604132422856272,-0.043756198383337074,-0.0032169386937305577,-0.046589261881274616,-0.02294428884819929,-0.19997146127559773,1.0,-0.3298624822339112,-0.06340715918772352],[-0.15584756088883736,-0.07833852182059793,-0.08145818988954384,-0.0041396510848322595,-0.06975107551532334,-0.08668199092721861,-0.020947180184964994,0.022937060572717376,0.058115658501396154,-0.540354484111697,0.043722349233807044,-0.1260096935949132,0.012873535794704119,-0.0504102675332942,0.0023249621726623027,-0.09400857677080626,0.09400857677080636,0.07791886351744476,-0.13864901301610583,-0.04380500301240309,0.08430423844262919,0.017014761121023892,-0.0226746429171344,0.01001804874626081,-0.6836174014112242,-0.3298624822339112,1.0,-0.21676211754556413],[-0.02236971146248286,0.011280547309334813,0.0009251742891846118,-0.014058006049085725,0.11807675265536108,0.14719098594764532,-0.05440121060720447,-0.04220627301834893,-0.024822887717288696,0.11242699893266431,0.14476650603589644,-0.04382922448466023,-0.053125370863983175,-0.017330462791391443,-0.0936049207881027,0.004413559511103133,-0.004413559511103135,-0.029662437189855704,0.021327415312904593,-0.03970921831857731,0.03780546932146638,0.029595200216857333,0.004174792225761252,-0.02551551815399144,-0.13140699451852722,-0.06340715918772352,-0.21676211754556413,1.0]],\"type\":\"heatmap\"}],                        {\"height\":700,\"template\":{\"data\":{\"barpolar\":[{\"marker\":{\"line\":{\"color\":\"#E5ECF6\",\"width\":0.5},\"pattern\":{\"fillmode\":\"overlay\",\"size\":10,\"solidity\":0.2}},\"type\":\"barpolar\"}],\"bar\":[{\"error_x\":{\"color\":\"#2a3f5f\"},\"error_y\":{\"color\":\"#2a3f5f\"},\"marker\":{\"line\":{\"color\":\"#E5ECF6\",\"width\":0.5},\"pattern\":{\"fillmode\":\"overlay\",\"size\":10,\"solidity\":0.2}},\"type\":\"bar\"}],\"carpet\":[{\"aaxis\":{\"endlinecolor\":\"#2a3f5f\",\"gridcolor\":\"white\",\"linecolor\":\"white\",\"minorgridcolor\":\"white\",\"startlinecolor\":\"#2a3f5f\"},\"baxis\":{\"endlinecolor\":\"#2a3f5f\",\"gridcolor\":\"white\",\"linecolor\":\"white\",\"minorgridcolor\":\"white\",\"startlinecolor\":\"#2a3f5f\"},\"type\":\"carpet\"}],\"choropleth\":[{\"colorbar\":{\"outlinewidth\":0,\"ticks\":\"\"},\"type\":\"choropleth\"}],\"contourcarpet\":[{\"colorbar\":{\"outlinewidth\":0,\"ticks\":\"\"},\"type\":\"contourcarpet\"}],\"contour\":[{\"colorbar\":{\"outlinewidth\":0,\"ticks\":\"\"},\"colorscale\":[[0.0,\"#0d0887\"],[0.1111111111111111,\"#46039f\"],[0.2222222222222222,\"#7201a8\"],[0.3333333333333333,\"#9c179e\"],[0.4444444444444444,\"#bd3786\"],[0.5555555555555556,\"#d8576b\"],[0.6666666666666666,\"#ed7953\"],[0.7777777777777778,\"#fb9f3a\"],[0.8888888888888888,\"#fdca26\"],[1.0,\"#f0f921\"]],\"type\":\"contour\"}],\"heatmapgl\":[{\"colorbar\":{\"outlinewidth\":0,\"ticks\":\"\"},\"colorscale\":[[0.0,\"#0d0887\"],[0.1111111111111111,\"#46039f\"],[0.2222222222222222,\"#7201a8\"],[0.3333333333333333,\"#9c179e\"],[0.4444444444444444,\"#bd3786\"],[0.5555555555555556,\"#d8576b\"],[0.6666666666666666,\"#ed7953\"],[0.7777777777777778,\"#fb9f3a\"],[0.8888888888888888,\"#fdca26\"],[1.0,\"#f0f921\"]],\"type\":\"heatmapgl\"}],\"heatmap\":[{\"colorbar\":{\"outlinewidth\":0,\"ticks\":\"\"},\"colorscale\":[[0.0,\"#0d0887\"],[0.1111111111111111,\"#46039f\"],[0.2222222222222222,\"#7201a8\"],[0.3333333333333333,\"#9c179e\"],[0.4444444444444444,\"#bd3786\"],[0.5555555555555556,\"#d8576b\"],[0.6666666666666666,\"#ed7953\"],[0.7777777777777778,\"#fb9f3a\"],[0.8888888888888888,\"#fdca26\"],[1.0,\"#f0f921\"]],\"type\":\"heatmap\"}],\"histogram2dcontour\":[{\"colorbar\":{\"outlinewidth\":0,\"ticks\":\"\"},\"colorscale\":[[0.0,\"#0d0887\"],[0.1111111111111111,\"#46039f\"],[0.2222222222222222,\"#7201a8\"],[0.3333333333333333,\"#9c179e\"],[0.4444444444444444,\"#bd3786\"],[0.5555555555555556,\"#d8576b\"],[0.6666666666666666,\"#ed7953\"],[0.7777777777777778,\"#fb9f3a\"],[0.8888888888888888,\"#fdca26\"],[1.0,\"#f0f921\"]],\"type\":\"histogram2dcontour\"}],\"histogram2d\":[{\"colorbar\":{\"outlinewidth\":0,\"ticks\":\"\"},\"colorscale\":[[0.0,\"#0d0887\"],[0.1111111111111111,\"#46039f\"],[0.2222222222222222,\"#7201a8\"],[0.3333333333333333,\"#9c179e\"],[0.4444444444444444,\"#bd3786\"],[0.5555555555555556,\"#d8576b\"],[0.6666666666666666,\"#ed7953\"],[0.7777777777777778,\"#fb9f3a\"],[0.8888888888888888,\"#fdca26\"],[1.0,\"#f0f921\"]],\"type\":\"histogram2d\"}],\"histogram\":[{\"marker\":{\"pattern\":{\"fillmode\":\"overlay\",\"size\":10,\"solidity\":0.2}},\"type\":\"histogram\"}],\"mesh3d\":[{\"colorbar\":{\"outlinewidth\":0,\"ticks\":\"\"},\"type\":\"mesh3d\"}],\"parcoords\":[{\"line\":{\"colorbar\":{\"outlinewidth\":0,\"ticks\":\"\"}},\"type\":\"parcoords\"}],\"pie\":[{\"automargin\":true,\"type\":\"pie\"}],\"scatter3d\":[{\"line\":{\"colorbar\":{\"outlinewidth\":0,\"ticks\":\"\"}},\"marker\":{\"colorbar\":{\"outlinewidth\":0,\"ticks\":\"\"}},\"type\":\"scatter3d\"}],\"scattercarpet\":[{\"marker\":{\"colorbar\":{\"outlinewidth\":0,\"ticks\":\"\"}},\"type\":\"scattercarpet\"}],\"scattergeo\":[{\"marker\":{\"colorbar\":{\"outlinewidth\":0,\"ticks\":\"\"}},\"type\":\"scattergeo\"}],\"scattergl\":[{\"marker\":{\"colorbar\":{\"outlinewidth\":0,\"ticks\":\"\"}},\"type\":\"scattergl\"}],\"scattermapbox\":[{\"marker\":{\"colorbar\":{\"outlinewidth\":0,\"ticks\":\"\"}},\"type\":\"scattermapbox\"}],\"scatterpolargl\":[{\"marker\":{\"colorbar\":{\"outlinewidth\":0,\"ticks\":\"\"}},\"type\":\"scatterpolargl\"}],\"scatterpolar\":[{\"marker\":{\"colorbar\":{\"outlinewidth\":0,\"ticks\":\"\"}},\"type\":\"scatterpolar\"}],\"scatter\":[{\"fillpattern\":{\"fillmode\":\"overlay\",\"size\":10,\"solidity\":0.2},\"type\":\"scatter\"}],\"scatterternary\":[{\"marker\":{\"colorbar\":{\"outlinewidth\":0,\"ticks\":\"\"}},\"type\":\"scatterternary\"}],\"surface\":[{\"colorbar\":{\"outlinewidth\":0,\"ticks\":\"\"},\"colorscale\":[[0.0,\"#0d0887\"],[0.1111111111111111,\"#46039f\"],[0.2222222222222222,\"#7201a8\"],[0.3333333333333333,\"#9c179e\"],[0.4444444444444444,\"#bd3786\"],[0.5555555555555556,\"#d8576b\"],[0.6666666666666666,\"#ed7953\"],[0.7777777777777778,\"#fb9f3a\"],[0.8888888888888888,\"#fdca26\"],[1.0,\"#f0f921\"]],\"type\":\"surface\"}],\"table\":[{\"cells\":{\"fill\":{\"color\":\"#EBF0F8\"},\"line\":{\"color\":\"white\"}},\"header\":{\"fill\":{\"color\":\"#C8D4E3\"},\"line\":{\"color\":\"white\"}},\"type\":\"table\"}]},\"layout\":{\"annotationdefaults\":{\"arrowcolor\":\"#2a3f5f\",\"arrowhead\":0,\"arrowwidth\":1},\"autotypenumbers\":\"strict\",\"coloraxis\":{\"colorbar\":{\"outlinewidth\":0,\"ticks\":\"\"}},\"colorscale\":{\"diverging\":[[0,\"#8e0152\"],[0.1,\"#c51b7d\"],[0.2,\"#de77ae\"],[0.3,\"#f1b6da\"],[0.4,\"#fde0ef\"],[0.5,\"#f7f7f7\"],[0.6,\"#e6f5d0\"],[0.7,\"#b8e186\"],[0.8,\"#7fbc41\"],[0.9,\"#4d9221\"],[1,\"#276419\"]],\"sequential\":[[0.0,\"#0d0887\"],[0.1111111111111111,\"#46039f\"],[0.2222222222222222,\"#7201a8\"],[0.3333333333333333,\"#9c179e\"],[0.4444444444444444,\"#bd3786\"],[0.5555555555555556,\"#d8576b\"],[0.6666666666666666,\"#ed7953\"],[0.7777777777777778,\"#fb9f3a\"],[0.8888888888888888,\"#fdca26\"],[1.0,\"#f0f921\"]],\"sequentialminus\":[[0.0,\"#0d0887\"],[0.1111111111111111,\"#46039f\"],[0.2222222222222222,\"#7201a8\"],[0.3333333333333333,\"#9c179e\"],[0.4444444444444444,\"#bd3786\"],[0.5555555555555556,\"#d8576b\"],[0.6666666666666666,\"#ed7953\"],[0.7777777777777778,\"#fb9f3a\"],[0.8888888888888888,\"#fdca26\"],[1.0,\"#f0f921\"]]},\"colorway\":[\"#636efa\",\"#EF553B\",\"#00cc96\",\"#ab63fa\",\"#FFA15A\",\"#19d3f3\",\"#FF6692\",\"#B6E880\",\"#FF97FF\",\"#FECB52\"],\"font\":{\"color\":\"#2a3f5f\"},\"geo\":{\"bgcolor\":\"white\",\"lakecolor\":\"white\",\"landcolor\":\"#E5ECF6\",\"showlakes\":true,\"showland\":true,\"subunitcolor\":\"white\"},\"hoverlabel\":{\"align\":\"left\"},\"hovermode\":\"closest\",\"mapbox\":{\"style\":\"light\"},\"paper_bgcolor\":\"white\",\"plot_bgcolor\":\"#E5ECF6\",\"polar\":{\"angularaxis\":{\"gridcolor\":\"white\",\"linecolor\":\"white\",\"ticks\":\"\"},\"bgcolor\":\"#E5ECF6\",\"radialaxis\":{\"gridcolor\":\"white\",\"linecolor\":\"white\",\"ticks\":\"\"}},\"scene\":{\"xaxis\":{\"backgroundcolor\":\"#E5ECF6\",\"gridcolor\":\"white\",\"gridwidth\":2,\"linecolor\":\"white\",\"showbackground\":true,\"ticks\":\"\",\"zerolinecolor\":\"white\"},\"yaxis\":{\"backgroundcolor\":\"#E5ECF6\",\"gridcolor\":\"white\",\"gridwidth\":2,\"linecolor\":\"white\",\"showbackground\":true,\"ticks\":\"\",\"zerolinecolor\":\"white\"},\"zaxis\":{\"backgroundcolor\":\"#E5ECF6\",\"gridcolor\":\"white\",\"gridwidth\":2,\"linecolor\":\"white\",\"showbackground\":true,\"ticks\":\"\",\"zerolinecolor\":\"white\"}},\"shapedefaults\":{\"line\":{\"color\":\"#2a3f5f\"}},\"ternary\":{\"aaxis\":{\"gridcolor\":\"white\",\"linecolor\":\"white\",\"ticks\":\"\"},\"baxis\":{\"gridcolor\":\"white\",\"linecolor\":\"white\",\"ticks\":\"\"},\"bgcolor\":\"#E5ECF6\",\"caxis\":{\"gridcolor\":\"white\",\"linecolor\":\"white\",\"ticks\":\"\"}},\"title\":{\"x\":0.05},\"xaxis\":{\"automargin\":true,\"gridcolor\":\"white\",\"linecolor\":\"white\",\"ticks\":\"\",\"title\":{\"standoff\":15},\"zerolinecolor\":\"white\",\"zerolinewidth\":2},\"yaxis\":{\"automargin\":true,\"gridcolor\":\"white\",\"linecolor\":\"white\",\"ticks\":\"\",\"title\":{\"standoff\":15},\"zerolinecolor\":\"white\",\"zerolinewidth\":2}}},\"title\":{\"text\":\"Correlation of features\"},\"width\":900,\"xaxis\":{\"nticks\":36,\"ticks\":\"\"},\"yaxis\":{\"ticks\":\"\"}},                        {\"responsive\": true}                    ).then(function(){\n",
       "                            \n",
       "var gd = document.getElementById('4de050f1-a043-4a10-b9d7-460b1a08ac4d');\n",
       "var x = new MutationObserver(function (mutations, observer) {{\n",
       "        var display = window.getComputedStyle(gd).display;\n",
       "        if (!display || display === 'none') {{\n",
       "            console.log([gd, 'removed!']);\n",
       "            Plotly.purge(gd);\n",
       "            observer.disconnect();\n",
       "        }}\n",
       "}});\n",
       "\n",
       "// Listen for the removal of the full notebook cells\n",
       "var notebookContainer = gd.closest('#notebook-container');\n",
       "if (notebookContainer) {{\n",
       "    x.observe(notebookContainer, {childList: true});\n",
       "}}\n",
       "\n",
       "// Listen for the clearing of the current output cell\n",
       "var outputEl = gd.closest('.output');\n",
       "if (outputEl) {{\n",
       "    x.observe(outputEl, {childList: true});\n",
       "}}\n",
       "\n",
       "                        })                };                });            </script>        </div>"
      ]
     },
     "metadata": {},
     "output_type": "display_data"
    }
   ],
   "source": [
    "data = [\n",
    "    go.Heatmap(\n",
    "        z= new_df.corr().values,\n",
    "        x=new_df.columns.values,\n",
    "        y=new_df.columns.values,\n",
    "        colorscale='Viridis',\n",
    "        reversescale = False,\n",
    "        text = [True] ,\n",
    "        opacity = 1.0 )\n",
    "]\n",
    "\n",
    "layout = go.Layout(\n",
    "    title='Correlation of features',\n",
    "    xaxis = dict(ticks='', nticks=36),\n",
    "    yaxis = dict(ticks='' ),\n",
    "    width = 900, height = 700)\n",
    "\n",
    "fig = go.Figure(data=data, layout=layout)\n",
    "py.iplot(fig, filename='labelled-heatmap')"
   ]
  },
  {
   "cell_type": "markdown",
   "id": "80b37c7c",
   "metadata": {},
   "source": [
    "### Insights:\n",
    "The above plots says a lot about the data, the following are the notable ones:\n",
    "1. `Months_loan_taken_for` and `Principal_loan_amount` is mostly playing the role in manipulating the target variable.\n",
    "2. The marital status and gender segments are correlated, similarly the Housing status are related too. This means we need to check PCA method shortly.\n",
    "3. Age is positively correlated with `high_risk_applicant` but just 9%. Similarly as we hover over the heatmap, we can visualize alot of these correlations.\n",
    "\n",
    "# Conclusion:\n",
    "The target variable is imbalanced and this is a problem. The data also has columns that are not necessary just like the `foreigner` column, which is highly imbalanced."
   ]
  },
  {
   "cell_type": "code",
   "execution_count": null,
   "id": "bd278bd2",
   "metadata": {},
   "outputs": [],
   "source": []
  }
 ],
 "metadata": {
  "kernelspec": {
   "display_name": "Python 3 (ipykernel)",
   "language": "python",
   "name": "python3"
  },
  "language_info": {
   "codemirror_mode": {
    "name": "ipython",
    "version": 3
   },
   "file_extension": ".py",
   "mimetype": "text/x-python",
   "name": "python",
   "nbconvert_exporter": "python",
   "pygments_lexer": "ipython3",
   "version": "3.10.4"
  }
 },
 "nbformat": 4,
 "nbformat_minor": 5
}
