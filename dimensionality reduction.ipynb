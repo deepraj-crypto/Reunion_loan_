{
 "cells": [
  {
   "cell_type": "code",
   "execution_count": 25,
   "id": "dd2694c8",
   "metadata": {},
   "outputs": [
    {
     "data": {
      "text/html": [
       "        <script type=\"text/javascript\">\n",
       "        window.PlotlyConfig = {MathJaxConfig: 'local'};\n",
       "        if (window.MathJax && window.MathJax.Hub && window.MathJax.Hub.Config) {window.MathJax.Hub.Config({SVG: {font: \"STIX-Web\"}});}\n",
       "        if (typeof require !== 'undefined') {\n",
       "        require.undef(\"plotly\");\n",
       "        requirejs.config({\n",
       "            paths: {\n",
       "                'plotly': ['https://cdn.plot.ly/plotly-2.14.0.min']\n",
       "            }\n",
       "        });\n",
       "        require(['plotly'], function(Plotly) {\n",
       "            window._Plotly = Plotly;\n",
       "        });\n",
       "        }\n",
       "        </script>\n",
       "        "
      ]
     },
     "metadata": {},
     "output_type": "display_data"
    }
   ],
   "source": [
    "import pandas as pd\n",
    "import numpy as np\n",
    "import seaborn as sns\n",
    "import matplotlib.pyplot as plt\n",
    "%matplotlib inline\n",
    "import plotly.offline as py\n",
    "py.init_notebook_mode(connected=True)\n",
    "import plotly.graph_objs as go\n",
    "import plotly.tools as tls\n",
    "import plotly.express as px\n",
    "import warnings\n",
    "from collections import Counter\n",
    "from sklearn.feature_selection import mutual_info_classif\n",
    "warnings.filterwarnings('ignore')\n",
    "\n",
    "from sklearn.model_selection import train_test_split\n",
    "from sklearn.preprocessing import StandardScaler\n",
    "\n",
    "from sklearn.decomposition import PCA\n",
    "\n",
    "from imblearn.over_sampling import SMOTEN\n",
    "from collections import Counter\n",
    "\n",
    "from sklearn.metrics import confusion_matrix, accuracy_score, f1_score, precision_score, recall_score, classification_report"
   ]
  },
  {
   "cell_type": "code",
   "execution_count": 13,
   "id": "4ce8041c",
   "metadata": {},
   "outputs": [
    {
     "name": "stdout",
     "output_type": "stream",
     "text": [
      "\n",
      "Loading files ...\n"
     ]
    },
    {
     "data": {
      "text/html": [
       "<div>\n",
       "<style scoped>\n",
       "    .dataframe tbody tr th:only-of-type {\n",
       "        vertical-align: middle;\n",
       "    }\n",
       "\n",
       "    .dataframe tbody tr th {\n",
       "        vertical-align: top;\n",
       "    }\n",
       "\n",
       "    .dataframe thead th {\n",
       "        text-align: right;\n",
       "    }\n",
       "</style>\n",
       "<table border=\"1\" class=\"dataframe\">\n",
       "  <thead>\n",
       "    <tr style=\"text-align: right;\">\n",
       "      <th></th>\n",
       "      <th>Primary_applicant_age_in_years</th>\n",
       "      <th>Number_of_dependents</th>\n",
       "      <th>Years_at_current_residence</th>\n",
       "      <th>Foreign_worker</th>\n",
       "      <th>Months_loan_taken_for</th>\n",
       "      <th>Principal_loan_amount</th>\n",
       "      <th>EMI_rate_in_percentage_of_disposable_income</th>\n",
       "      <th>Has_coapplicant</th>\n",
       "      <th>Has_guarantor</th>\n",
       "      <th>Number_of_existing_loans_at_this_bank</th>\n",
       "      <th>...</th>\n",
       "      <th>Marital_status_single</th>\n",
       "      <th>Housing_own</th>\n",
       "      <th>Housing_rent</th>\n",
       "      <th>Employment_status_skilled employee / official</th>\n",
       "      <th>Employment_status_unemployed / unskilled - non-resident</th>\n",
       "      <th>Employment_status_unskilled - resident</th>\n",
       "      <th>Loan_history_critical/pending loans at other banks</th>\n",
       "      <th>Loan_history_delay in paying off loans in the past</th>\n",
       "      <th>Loan_history_existing loans paid back duly till now</th>\n",
       "      <th>Loan_history_no loans taken/all loans paid back duly</th>\n",
       "    </tr>\n",
       "  </thead>\n",
       "  <tbody>\n",
       "    <tr>\n",
       "      <th>0</th>\n",
       "      <td>67.0</td>\n",
       "      <td>1.0</td>\n",
       "      <td>4.0</td>\n",
       "      <td>1.0</td>\n",
       "      <td>6.0</td>\n",
       "      <td>1169000.0</td>\n",
       "      <td>4.0</td>\n",
       "      <td>0.0</td>\n",
       "      <td>0.0</td>\n",
       "      <td>2.0</td>\n",
       "      <td>...</td>\n",
       "      <td>1.0</td>\n",
       "      <td>1.0</td>\n",
       "      <td>0.0</td>\n",
       "      <td>1.0</td>\n",
       "      <td>0.0</td>\n",
       "      <td>0.0</td>\n",
       "      <td>1.0</td>\n",
       "      <td>0.0</td>\n",
       "      <td>0.0</td>\n",
       "      <td>0.0</td>\n",
       "    </tr>\n",
       "    <tr>\n",
       "      <th>1</th>\n",
       "      <td>22.0</td>\n",
       "      <td>1.0</td>\n",
       "      <td>2.0</td>\n",
       "      <td>1.0</td>\n",
       "      <td>48.0</td>\n",
       "      <td>5951000.0</td>\n",
       "      <td>2.0</td>\n",
       "      <td>0.0</td>\n",
       "      <td>0.0</td>\n",
       "      <td>1.0</td>\n",
       "      <td>...</td>\n",
       "      <td>0.0</td>\n",
       "      <td>1.0</td>\n",
       "      <td>0.0</td>\n",
       "      <td>1.0</td>\n",
       "      <td>0.0</td>\n",
       "      <td>0.0</td>\n",
       "      <td>0.0</td>\n",
       "      <td>0.0</td>\n",
       "      <td>1.0</td>\n",
       "      <td>0.0</td>\n",
       "    </tr>\n",
       "    <tr>\n",
       "      <th>2</th>\n",
       "      <td>49.0</td>\n",
       "      <td>2.0</td>\n",
       "      <td>3.0</td>\n",
       "      <td>1.0</td>\n",
       "      <td>12.0</td>\n",
       "      <td>2096000.0</td>\n",
       "      <td>2.0</td>\n",
       "      <td>0.0</td>\n",
       "      <td>0.0</td>\n",
       "      <td>1.0</td>\n",
       "      <td>...</td>\n",
       "      <td>1.0</td>\n",
       "      <td>1.0</td>\n",
       "      <td>0.0</td>\n",
       "      <td>0.0</td>\n",
       "      <td>0.0</td>\n",
       "      <td>1.0</td>\n",
       "      <td>1.0</td>\n",
       "      <td>0.0</td>\n",
       "      <td>0.0</td>\n",
       "      <td>0.0</td>\n",
       "    </tr>\n",
       "  </tbody>\n",
       "</table>\n",
       "<p>3 rows × 28 columns</p>\n",
       "</div>"
      ],
      "text/plain": [
       "   Primary_applicant_age_in_years  Number_of_dependents  \\\n",
       "0                            67.0                   1.0   \n",
       "1                            22.0                   1.0   \n",
       "2                            49.0                   2.0   \n",
       "\n",
       "   Years_at_current_residence  Foreign_worker  Months_loan_taken_for  \\\n",
       "0                         4.0             1.0                    6.0   \n",
       "1                         2.0             1.0                   48.0   \n",
       "2                         3.0             1.0                   12.0   \n",
       "\n",
       "   Principal_loan_amount  EMI_rate_in_percentage_of_disposable_income  \\\n",
       "0              1169000.0                                          4.0   \n",
       "1              5951000.0                                          2.0   \n",
       "2              2096000.0                                          2.0   \n",
       "\n",
       "   Has_coapplicant  Has_guarantor  Number_of_existing_loans_at_this_bank  ...  \\\n",
       "0              0.0            0.0                                    2.0  ...   \n",
       "1              0.0            0.0                                    1.0  ...   \n",
       "2              0.0            0.0                                    1.0  ...   \n",
       "\n",
       "   Marital_status_single  Housing_own  Housing_rent  \\\n",
       "0                    1.0          1.0           0.0   \n",
       "1                    0.0          1.0           0.0   \n",
       "2                    1.0          1.0           0.0   \n",
       "\n",
       "   Employment_status_skilled employee / official  \\\n",
       "0                                            1.0   \n",
       "1                                            1.0   \n",
       "2                                            0.0   \n",
       "\n",
       "   Employment_status_unemployed / unskilled - non-resident  \\\n",
       "0                                                0.0         \n",
       "1                                                0.0         \n",
       "2                                                0.0         \n",
       "\n",
       "   Employment_status_unskilled - resident  \\\n",
       "0                                     0.0   \n",
       "1                                     0.0   \n",
       "2                                     1.0   \n",
       "\n",
       "   Loan_history_critical/pending loans at other banks  \\\n",
       "0                                                1.0    \n",
       "1                                                0.0    \n",
       "2                                                1.0    \n",
       "\n",
       "   Loan_history_delay in paying off loans in the past  \\\n",
       "0                                                0.0    \n",
       "1                                                0.0    \n",
       "2                                                0.0    \n",
       "\n",
       "   Loan_history_existing loans paid back duly till now  \\\n",
       "0                                                0.0     \n",
       "1                                                1.0     \n",
       "2                                                0.0     \n",
       "\n",
       "   Loan_history_no loans taken/all loans paid back duly  \n",
       "0                                                0.0     \n",
       "1                                                0.0     \n",
       "2                                                0.0     \n",
       "\n",
       "[3 rows x 28 columns]"
      ]
     },
     "execution_count": 13,
     "metadata": {},
     "output_type": "execute_result"
    }
   ],
   "source": [
    "print('\\nLoading files ...')\n",
    "df=pd.read_csv('Clean_loan.csv')\n",
    "df.drop(['Unnamed: 0'],axis=1,inplace=True)\n",
    "df.head(3)"
   ]
  },
  {
   "cell_type": "markdown",
   "id": "b5e05589",
   "metadata": {},
   "source": [
    "# Dimentionality Reduction Using PCA:"
   ]
  },
  {
   "cell_type": "code",
   "execution_count": 14,
   "id": "597fe06e",
   "metadata": {},
   "outputs": [],
   "source": [
    "x=df.drop('high_risk_applicant', axis=1)\n",
    "y=df['high_risk_applicant']"
   ]
  },
  {
   "cell_type": "markdown",
   "id": "899987a0",
   "metadata": {},
   "source": [
    "### Handling unbalanced Data:\n",
    "\n",
    "<div class=\"alert alert-block alert-info\">\n",
    "<b>Why?:</b> When the data is heavily unbalanced, it trains one segment of the data heavily and the accuracy also increases but it is not a good measure for the performance at that time.\n",
    "</div>\n",
    "\n",
    "<div class=\"alert alert-block alert-success\">\n",
    "<b>Up to you:</b> For further info, Click \n",
    "</div>\n",
    "this is [Text](https://stats.stackexchange.com/a/283942)"
   ]
  },
  {
   "cell_type": "code",
   "execution_count": 17,
   "id": "2f3699b2",
   "metadata": {},
   "outputs": [
    {
     "name": "stdout",
     "output_type": "stream",
     "text": [
      "Class counts after resampling Counter({0.0: 700, 1.0: 700})\n"
     ]
    }
   ],
   "source": [
    "sampler = SMOTEN(random_state=0)\n",
    "X_res, y_res = sampler.fit_resample(x, y)\n",
    "print(f\"Class counts after resampling {Counter(y_res)}\")"
   ]
  },
  {
   "cell_type": "code",
   "execution_count": 18,
   "id": "5bc9c396",
   "metadata": {},
   "outputs": [
    {
     "data": {
      "text/plain": [
       "((1120, 27), (280, 27))"
      ]
     },
     "execution_count": 18,
     "metadata": {},
     "output_type": "execute_result"
    }
   ],
   "source": [
    "X_train, X_test, y_train, y_test = train_test_split(X_res,\n",
    "                                                    y_res,\n",
    "                                                    test_size=0.2,\n",
    "                                                    random_state=0)\n",
    "\n",
    "X_train.shape, X_test.shape"
   ]
  },
  {
   "cell_type": "code",
   "execution_count": 19,
   "id": "358fedf7",
   "metadata": {},
   "outputs": [
    {
     "name": "stdout",
     "output_type": "stream",
     "text": [
      "\n",
      "There are 2 unique target valuess in this dataset: [0. 1.]\n"
     ]
    }
   ],
   "source": [
    "target_names = np.unique(y_train)\n",
    "print('\\nThere are %d unique target valuess in this dataset:' % (len(target_names)), target_names)"
   ]
  },
  {
   "cell_type": "code",
   "execution_count": 20,
   "id": "ee96c343",
   "metadata": {},
   "outputs": [
    {
     "data": {
      "text/html": [
       "<style>#sk-container-id-2 {color: black;background-color: white;}#sk-container-id-2 pre{padding: 0;}#sk-container-id-2 div.sk-toggleable {background-color: white;}#sk-container-id-2 label.sk-toggleable__label {cursor: pointer;display: block;width: 100%;margin-bottom: 0;padding: 0.3em;box-sizing: border-box;text-align: center;}#sk-container-id-2 label.sk-toggleable__label-arrow:before {content: \"▸\";float: left;margin-right: 0.25em;color: #696969;}#sk-container-id-2 label.sk-toggleable__label-arrow:hover:before {color: black;}#sk-container-id-2 div.sk-estimator:hover label.sk-toggleable__label-arrow:before {color: black;}#sk-container-id-2 div.sk-toggleable__content {max-height: 0;max-width: 0;overflow: hidden;text-align: left;background-color: #f0f8ff;}#sk-container-id-2 div.sk-toggleable__content pre {margin: 0.2em;color: black;border-radius: 0.25em;background-color: #f0f8ff;}#sk-container-id-2 input.sk-toggleable__control:checked~div.sk-toggleable__content {max-height: 200px;max-width: 100%;overflow: auto;}#sk-container-id-2 input.sk-toggleable__control:checked~label.sk-toggleable__label-arrow:before {content: \"▾\";}#sk-container-id-2 div.sk-estimator input.sk-toggleable__control:checked~label.sk-toggleable__label {background-color: #d4ebff;}#sk-container-id-2 div.sk-label input.sk-toggleable__control:checked~label.sk-toggleable__label {background-color: #d4ebff;}#sk-container-id-2 input.sk-hidden--visually {border: 0;clip: rect(1px 1px 1px 1px);clip: rect(1px, 1px, 1px, 1px);height: 1px;margin: -1px;overflow: hidden;padding: 0;position: absolute;width: 1px;}#sk-container-id-2 div.sk-estimator {font-family: monospace;background-color: #f0f8ff;border: 1px dotted black;border-radius: 0.25em;box-sizing: border-box;margin-bottom: 0.5em;}#sk-container-id-2 div.sk-estimator:hover {background-color: #d4ebff;}#sk-container-id-2 div.sk-parallel-item::after {content: \"\";width: 100%;border-bottom: 1px solid gray;flex-grow: 1;}#sk-container-id-2 div.sk-label:hover label.sk-toggleable__label {background-color: #d4ebff;}#sk-container-id-2 div.sk-serial::before {content: \"\";position: absolute;border-left: 1px solid gray;box-sizing: border-box;top: 0;bottom: 0;left: 50%;z-index: 0;}#sk-container-id-2 div.sk-serial {display: flex;flex-direction: column;align-items: center;background-color: white;padding-right: 0.2em;padding-left: 0.2em;position: relative;}#sk-container-id-2 div.sk-item {position: relative;z-index: 1;}#sk-container-id-2 div.sk-parallel {display: flex;align-items: stretch;justify-content: center;background-color: white;position: relative;}#sk-container-id-2 div.sk-item::before, #sk-container-id-2 div.sk-parallel-item::before {content: \"\";position: absolute;border-left: 1px solid gray;box-sizing: border-box;top: 0;bottom: 0;left: 50%;z-index: -1;}#sk-container-id-2 div.sk-parallel-item {display: flex;flex-direction: column;z-index: 1;position: relative;background-color: white;}#sk-container-id-2 div.sk-parallel-item:first-child::after {align-self: flex-end;width: 50%;}#sk-container-id-2 div.sk-parallel-item:last-child::after {align-self: flex-start;width: 50%;}#sk-container-id-2 div.sk-parallel-item:only-child::after {width: 0;}#sk-container-id-2 div.sk-dashed-wrapped {border: 1px dashed gray;margin: 0 0.4em 0.5em 0.4em;box-sizing: border-box;padding-bottom: 0.4em;background-color: white;}#sk-container-id-2 div.sk-label label {font-family: monospace;font-weight: bold;display: inline-block;line-height: 1.2em;}#sk-container-id-2 div.sk-label-container {text-align: center;}#sk-container-id-2 div.sk-container {/* jupyter's `normalize.less` sets `[hidden] { display: none; }` but bootstrap.min.css set `[hidden] { display: none !important; }` so we also need the `!important` here to be able to override the default hidden behavior on the sphinx rendered scikit-learn.org. See: https://github.com/scikit-learn/scikit-learn/issues/21755 */display: inline-block !important;position: relative;}#sk-container-id-2 div.sk-text-repr-fallback {display: none;}</style><div id=\"sk-container-id-2\" class=\"sk-top-container\"><div class=\"sk-text-repr-fallback\"><pre>StandardScaler()</pre><b>In a Jupyter environment, please rerun this cell to show the HTML representation or trust the notebook. <br />On GitHub, the HTML representation is unable to render, please try loading this page with nbviewer.org.</b></div><div class=\"sk-container\" hidden><div class=\"sk-item\"><div class=\"sk-estimator sk-toggleable\"><input class=\"sk-toggleable__control sk-hidden--visually\" id=\"sk-estimator-id-2\" type=\"checkbox\" checked><label for=\"sk-estimator-id-2\" class=\"sk-toggleable__label sk-toggleable__label-arrow\">StandardScaler</label><div class=\"sk-toggleable__content\"><pre>StandardScaler()</pre></div></div></div></div></div>"
      ],
      "text/plain": [
       "StandardScaler()"
      ]
     },
     "execution_count": 20,
     "metadata": {},
     "output_type": "execute_result"
    }
   ],
   "source": [
    "scaler = StandardScaler()\n",
    "\n",
    "scaler.fit(X_train)"
   ]
  },
  {
   "cell_type": "code",
   "execution_count": 21,
   "id": "e79e74f6",
   "metadata": {},
   "outputs": [
    {
     "data": {
      "text/plain": [
       "array([[-0.81902649, -0.35284273, -0.72513557, ..., -0.26016054,\n",
       "         0.88833405, -0.22065615],\n",
       "       [-0.5503359 , -0.35284273, -0.72513557, ..., -0.26016054,\n",
       "         0.88833405, -0.22065615],\n",
       "       [-0.90859002, -0.35284273, -0.72513557, ..., -0.26016054,\n",
       "         0.88833405, -0.22065615],\n",
       "       ...,\n",
       "       [-0.99815355, -0.35284273,  0.18128389, ..., -0.26016054,\n",
       "         0.88833405, -0.22065615],\n",
       "       [-0.19208178, -0.35284273, -0.72513557, ..., -0.26016054,\n",
       "        -1.12570266, -0.22065615],\n",
       "       [-0.19208178,  2.83412386,  0.18128389, ...,  3.84378042,\n",
       "        -1.12570266, -0.22065615]])"
      ]
     },
     "execution_count": 21,
     "metadata": {},
     "output_type": "execute_result"
    }
   ],
   "source": [
    "X_train_scaled = scaler.transform(X_train)\n",
    "X_test_scaled = scaler.transform(X_test)\n",
    "X_train_scaled"
   ]
  },
  {
   "cell_type": "code",
   "execution_count": 22,
   "id": "d306f964",
   "metadata": {},
   "outputs": [
    {
     "data": {
      "text/html": [
       "<div>\n",
       "<style scoped>\n",
       "    .dataframe tbody tr th:only-of-type {\n",
       "        vertical-align: middle;\n",
       "    }\n",
       "\n",
       "    .dataframe tbody tr th {\n",
       "        vertical-align: top;\n",
       "    }\n",
       "\n",
       "    .dataframe thead th {\n",
       "        text-align: right;\n",
       "    }\n",
       "</style>\n",
       "<table border=\"1\" class=\"dataframe\">\n",
       "  <thead>\n",
       "    <tr style=\"text-align: right;\">\n",
       "      <th></th>\n",
       "      <th>Primary_applicant_age_in_years</th>\n",
       "      <th>Number_of_dependents</th>\n",
       "      <th>Years_at_current_residence</th>\n",
       "      <th>Foreign_worker</th>\n",
       "      <th>Months_loan_taken_for</th>\n",
       "      <th>Principal_loan_amount</th>\n",
       "      <th>EMI_rate_in_percentage_of_disposable_income</th>\n",
       "      <th>Has_coapplicant</th>\n",
       "      <th>Has_guarantor</th>\n",
       "      <th>Number_of_existing_loans_at_this_bank</th>\n",
       "      <th>...</th>\n",
       "      <th>Marital_status_single</th>\n",
       "      <th>Housing_own</th>\n",
       "      <th>Housing_rent</th>\n",
       "      <th>Employment_status_skilled employee / official</th>\n",
       "      <th>Employment_status_unemployed / unskilled - non-resident</th>\n",
       "      <th>Employment_status_unskilled - resident</th>\n",
       "      <th>Loan_history_critical/pending loans at other banks</th>\n",
       "      <th>Loan_history_delay in paying off loans in the past</th>\n",
       "      <th>Loan_history_existing loans paid back duly till now</th>\n",
       "      <th>Loan_history_no loans taken/all loans paid back duly</th>\n",
       "    </tr>\n",
       "  </thead>\n",
       "  <tbody>\n",
       "    <tr>\n",
       "      <th>count</th>\n",
       "      <td>1.120000e+03</td>\n",
       "      <td>1.120000e+03</td>\n",
       "      <td>1.120000e+03</td>\n",
       "      <td>1.120000e+03</td>\n",
       "      <td>1.120000e+03</td>\n",
       "      <td>1.120000e+03</td>\n",
       "      <td>1.120000e+03</td>\n",
       "      <td>1.120000e+03</td>\n",
       "      <td>1.120000e+03</td>\n",
       "      <td>1.120000e+03</td>\n",
       "      <td>...</td>\n",
       "      <td>1.120000e+03</td>\n",
       "      <td>1.120000e+03</td>\n",
       "      <td>1.120000e+03</td>\n",
       "      <td>1.120000e+03</td>\n",
       "      <td>1.120000e+03</td>\n",
       "      <td>1.120000e+03</td>\n",
       "      <td>1.120000e+03</td>\n",
       "      <td>1.120000e+03</td>\n",
       "      <td>1.120000e+03</td>\n",
       "      <td>1.120000e+03</td>\n",
       "    </tr>\n",
       "    <tr>\n",
       "      <th>mean</th>\n",
       "      <td>1.100806e-16</td>\n",
       "      <td>3.053113e-17</td>\n",
       "      <td>7.523744e-17</td>\n",
       "      <td>-1.992454e-17</td>\n",
       "      <td>7.315577e-17</td>\n",
       "      <td>-1.625684e-17</td>\n",
       "      <td>1.645509e-17</td>\n",
       "      <td>2.146596e-16</td>\n",
       "      <td>-1.754053e-16</td>\n",
       "      <td>1.415534e-16</td>\n",
       "      <td>...</td>\n",
       "      <td>-3.578487e-16</td>\n",
       "      <td>6.998370e-17</td>\n",
       "      <td>2.583251e-16</td>\n",
       "      <td>1.570173e-16</td>\n",
       "      <td>2.481646e-16</td>\n",
       "      <td>1.950820e-16</td>\n",
       "      <td>-2.264062e-16</td>\n",
       "      <td>-3.326704e-16</td>\n",
       "      <td>-6.423433e-17</td>\n",
       "      <td>2.535174e-16</td>\n",
       "    </tr>\n",
       "    <tr>\n",
       "      <th>std</th>\n",
       "      <td>1.000447e+00</td>\n",
       "      <td>1.000447e+00</td>\n",
       "      <td>1.000447e+00</td>\n",
       "      <td>1.000447e+00</td>\n",
       "      <td>1.000447e+00</td>\n",
       "      <td>1.000447e+00</td>\n",
       "      <td>1.000447e+00</td>\n",
       "      <td>1.000447e+00</td>\n",
       "      <td>1.000447e+00</td>\n",
       "      <td>1.000447e+00</td>\n",
       "      <td>...</td>\n",
       "      <td>1.000447e+00</td>\n",
       "      <td>1.000447e+00</td>\n",
       "      <td>1.000447e+00</td>\n",
       "      <td>1.000447e+00</td>\n",
       "      <td>1.000447e+00</td>\n",
       "      <td>1.000447e+00</td>\n",
       "      <td>1.000447e+00</td>\n",
       "      <td>1.000447e+00</td>\n",
       "      <td>1.000447e+00</td>\n",
       "      <td>1.000447e+00</td>\n",
       "    </tr>\n",
       "    <tr>\n",
       "      <th>min</th>\n",
       "      <td>-1.266844e+00</td>\n",
       "      <td>-3.528427e-01</td>\n",
       "      <td>-1.631555e+00</td>\n",
       "      <td>-6.244998e+00</td>\n",
       "      <td>-1.418957e+00</td>\n",
       "      <td>-9.452689e-01</td>\n",
       "      <td>-1.911607e+00</td>\n",
       "      <td>-1.874037e-01</td>\n",
       "      <td>-1.973855e-01</td>\n",
       "      <td>-6.253814e-01</td>\n",
       "      <td>...</td>\n",
       "      <td>-1.038230e+00</td>\n",
       "      <td>-1.498792e+00</td>\n",
       "      <td>-4.705040e-01</td>\n",
       "      <td>-1.236211e+00</td>\n",
       "      <td>-1.278043e-01</td>\n",
       "      <td>-4.215539e-01</td>\n",
       "      <td>-5.842237e-01</td>\n",
       "      <td>-2.601605e-01</td>\n",
       "      <td>-1.125703e+00</td>\n",
       "      <td>-2.206562e-01</td>\n",
       "    </tr>\n",
       "    <tr>\n",
       "      <th>25%</th>\n",
       "      <td>-7.294630e-01</td>\n",
       "      <td>-3.528427e-01</td>\n",
       "      <td>-7.251356e-01</td>\n",
       "      <td>1.601282e-01</td>\n",
       "      <td>-7.547359e-01</td>\n",
       "      <td>-6.072303e-01</td>\n",
       "      <td>-9.931172e-01</td>\n",
       "      <td>-1.874037e-01</td>\n",
       "      <td>-1.973855e-01</td>\n",
       "      <td>-6.253814e-01</td>\n",
       "      <td>...</td>\n",
       "      <td>-1.038230e+00</td>\n",
       "      <td>-1.498792e+00</td>\n",
       "      <td>-4.705040e-01</td>\n",
       "      <td>-1.236211e+00</td>\n",
       "      <td>-1.278043e-01</td>\n",
       "      <td>-4.215539e-01</td>\n",
       "      <td>-5.842237e-01</td>\n",
       "      <td>-2.601605e-01</td>\n",
       "      <td>-1.125703e+00</td>\n",
       "      <td>-2.206562e-01</td>\n",
       "    </tr>\n",
       "    <tr>\n",
       "      <th>50%</th>\n",
       "      <td>-2.816453e-01</td>\n",
       "      <td>-3.528427e-01</td>\n",
       "      <td>1.812839e-01</td>\n",
       "      <td>1.601282e-01</td>\n",
       "      <td>-2.565702e-01</td>\n",
       "      <td>-3.372953e-01</td>\n",
       "      <td>8.438626e-01</td>\n",
       "      <td>-1.874037e-01</td>\n",
       "      <td>-1.973855e-01</td>\n",
       "      <td>-6.253814e-01</td>\n",
       "      <td>...</td>\n",
       "      <td>9.631775e-01</td>\n",
       "      <td>6.672041e-01</td>\n",
       "      <td>-4.705040e-01</td>\n",
       "      <td>8.089236e-01</td>\n",
       "      <td>-1.278043e-01</td>\n",
       "      <td>-4.215539e-01</td>\n",
       "      <td>-5.842237e-01</td>\n",
       "      <td>-2.601605e-01</td>\n",
       "      <td>8.883340e-01</td>\n",
       "      <td>-2.206562e-01</td>\n",
       "    </tr>\n",
       "    <tr>\n",
       "      <th>75%</th>\n",
       "      <td>5.244265e-01</td>\n",
       "      <td>-3.528427e-01</td>\n",
       "      <td>1.087703e+00</td>\n",
       "      <td>1.601282e-01</td>\n",
       "      <td>2.415955e-01</td>\n",
       "      <td>2.345279e-01</td>\n",
       "      <td>8.438626e-01</td>\n",
       "      <td>-1.874037e-01</td>\n",
       "      <td>-1.973855e-01</td>\n",
       "      <td>1.213010e+00</td>\n",
       "      <td>...</td>\n",
       "      <td>9.631775e-01</td>\n",
       "      <td>6.672041e-01</td>\n",
       "      <td>-4.705040e-01</td>\n",
       "      <td>8.089236e-01</td>\n",
       "      <td>-1.278043e-01</td>\n",
       "      <td>-4.215539e-01</td>\n",
       "      <td>1.711673e+00</td>\n",
       "      <td>-2.601605e-01</td>\n",
       "      <td>8.883340e-01</td>\n",
       "      <td>-2.206562e-01</td>\n",
       "    </tr>\n",
       "    <tr>\n",
       "      <th>max</th>\n",
       "      <td>3.748714e+00</td>\n",
       "      <td>2.834124e+00</td>\n",
       "      <td>1.087703e+00</td>\n",
       "      <td>1.601282e-01</td>\n",
       "      <td>4.226921e+00</td>\n",
       "      <td>5.042899e+00</td>\n",
       "      <td>8.438626e-01</td>\n",
       "      <td>5.336074e+00</td>\n",
       "      <td>5.066228e+00</td>\n",
       "      <td>4.889793e+00</td>\n",
       "      <td>...</td>\n",
       "      <td>9.631775e-01</td>\n",
       "      <td>6.672041e-01</td>\n",
       "      <td>2.125380e+00</td>\n",
       "      <td>8.089236e-01</td>\n",
       "      <td>7.824463e+00</td>\n",
       "      <td>2.372176e+00</td>\n",
       "      <td>1.711673e+00</td>\n",
       "      <td>3.843780e+00</td>\n",
       "      <td>8.883340e-01</td>\n",
       "      <td>4.531938e+00</td>\n",
       "    </tr>\n",
       "  </tbody>\n",
       "</table>\n",
       "<p>8 rows × 27 columns</p>\n",
       "</div>"
      ],
      "text/plain": [
       "       Primary_applicant_age_in_years  Number_of_dependents  \\\n",
       "count                    1.120000e+03          1.120000e+03   \n",
       "mean                     1.100806e-16          3.053113e-17   \n",
       "std                      1.000447e+00          1.000447e+00   \n",
       "min                     -1.266844e+00         -3.528427e-01   \n",
       "25%                     -7.294630e-01         -3.528427e-01   \n",
       "50%                     -2.816453e-01         -3.528427e-01   \n",
       "75%                      5.244265e-01         -3.528427e-01   \n",
       "max                      3.748714e+00          2.834124e+00   \n",
       "\n",
       "       Years_at_current_residence  Foreign_worker  Months_loan_taken_for  \\\n",
       "count                1.120000e+03    1.120000e+03           1.120000e+03   \n",
       "mean                 7.523744e-17   -1.992454e-17           7.315577e-17   \n",
       "std                  1.000447e+00    1.000447e+00           1.000447e+00   \n",
       "min                 -1.631555e+00   -6.244998e+00          -1.418957e+00   \n",
       "25%                 -7.251356e-01    1.601282e-01          -7.547359e-01   \n",
       "50%                  1.812839e-01    1.601282e-01          -2.565702e-01   \n",
       "75%                  1.087703e+00    1.601282e-01           2.415955e-01   \n",
       "max                  1.087703e+00    1.601282e-01           4.226921e+00   \n",
       "\n",
       "       Principal_loan_amount  EMI_rate_in_percentage_of_disposable_income  \\\n",
       "count           1.120000e+03                                 1.120000e+03   \n",
       "mean           -1.625684e-17                                 1.645509e-17   \n",
       "std             1.000447e+00                                 1.000447e+00   \n",
       "min            -9.452689e-01                                -1.911607e+00   \n",
       "25%            -6.072303e-01                                -9.931172e-01   \n",
       "50%            -3.372953e-01                                 8.438626e-01   \n",
       "75%             2.345279e-01                                 8.438626e-01   \n",
       "max             5.042899e+00                                 8.438626e-01   \n",
       "\n",
       "       Has_coapplicant  Has_guarantor  Number_of_existing_loans_at_this_bank  \\\n",
       "count     1.120000e+03   1.120000e+03                           1.120000e+03   \n",
       "mean      2.146596e-16  -1.754053e-16                           1.415534e-16   \n",
       "std       1.000447e+00   1.000447e+00                           1.000447e+00   \n",
       "min      -1.874037e-01  -1.973855e-01                          -6.253814e-01   \n",
       "25%      -1.874037e-01  -1.973855e-01                          -6.253814e-01   \n",
       "50%      -1.874037e-01  -1.973855e-01                          -6.253814e-01   \n",
       "75%      -1.874037e-01  -1.973855e-01                           1.213010e+00   \n",
       "max       5.336074e+00   5.066228e+00                           4.889793e+00   \n",
       "\n",
       "       ...  Marital_status_single   Housing_own  Housing_rent  \\\n",
       "count  ...           1.120000e+03  1.120000e+03  1.120000e+03   \n",
       "mean   ...          -3.578487e-16  6.998370e-17  2.583251e-16   \n",
       "std    ...           1.000447e+00  1.000447e+00  1.000447e+00   \n",
       "min    ...          -1.038230e+00 -1.498792e+00 -4.705040e-01   \n",
       "25%    ...          -1.038230e+00 -1.498792e+00 -4.705040e-01   \n",
       "50%    ...           9.631775e-01  6.672041e-01 -4.705040e-01   \n",
       "75%    ...           9.631775e-01  6.672041e-01 -4.705040e-01   \n",
       "max    ...           9.631775e-01  6.672041e-01  2.125380e+00   \n",
       "\n",
       "       Employment_status_skilled employee / official  \\\n",
       "count                                   1.120000e+03   \n",
       "mean                                    1.570173e-16   \n",
       "std                                     1.000447e+00   \n",
       "min                                    -1.236211e+00   \n",
       "25%                                    -1.236211e+00   \n",
       "50%                                     8.089236e-01   \n",
       "75%                                     8.089236e-01   \n",
       "max                                     8.089236e-01   \n",
       "\n",
       "       Employment_status_unemployed / unskilled - non-resident  \\\n",
       "count                                       1.120000e+03         \n",
       "mean                                        2.481646e-16         \n",
       "std                                         1.000447e+00         \n",
       "min                                        -1.278043e-01         \n",
       "25%                                        -1.278043e-01         \n",
       "50%                                        -1.278043e-01         \n",
       "75%                                        -1.278043e-01         \n",
       "max                                         7.824463e+00         \n",
       "\n",
       "       Employment_status_unskilled - resident  \\\n",
       "count                            1.120000e+03   \n",
       "mean                             1.950820e-16   \n",
       "std                              1.000447e+00   \n",
       "min                             -4.215539e-01   \n",
       "25%                             -4.215539e-01   \n",
       "50%                             -4.215539e-01   \n",
       "75%                             -4.215539e-01   \n",
       "max                              2.372176e+00   \n",
       "\n",
       "       Loan_history_critical/pending loans at other banks  \\\n",
       "count                                       1.120000e+03    \n",
       "mean                                       -2.264062e-16    \n",
       "std                                         1.000447e+00    \n",
       "min                                        -5.842237e-01    \n",
       "25%                                        -5.842237e-01    \n",
       "50%                                        -5.842237e-01    \n",
       "75%                                         1.711673e+00    \n",
       "max                                         1.711673e+00    \n",
       "\n",
       "       Loan_history_delay in paying off loans in the past  \\\n",
       "count                                       1.120000e+03    \n",
       "mean                                       -3.326704e-16    \n",
       "std                                         1.000447e+00    \n",
       "min                                        -2.601605e-01    \n",
       "25%                                        -2.601605e-01    \n",
       "50%                                        -2.601605e-01    \n",
       "75%                                        -2.601605e-01    \n",
       "max                                         3.843780e+00    \n",
       "\n",
       "       Loan_history_existing loans paid back duly till now  \\\n",
       "count                                       1.120000e+03     \n",
       "mean                                       -6.423433e-17     \n",
       "std                                         1.000447e+00     \n",
       "min                                        -1.125703e+00     \n",
       "25%                                        -1.125703e+00     \n",
       "50%                                         8.883340e-01     \n",
       "75%                                         8.883340e-01     \n",
       "max                                         8.883340e-01     \n",
       "\n",
       "       Loan_history_no loans taken/all loans paid back duly  \n",
       "count                                       1.120000e+03     \n",
       "mean                                        2.535174e-16     \n",
       "std                                         1.000447e+00     \n",
       "min                                        -2.206562e-01     \n",
       "25%                                        -2.206562e-01     \n",
       "50%                                        -2.206562e-01     \n",
       "75%                                        -2.206562e-01     \n",
       "max                                         4.531938e+00     \n",
       "\n",
       "[8 rows x 27 columns]"
      ]
     },
     "execution_count": 22,
     "metadata": {},
     "output_type": "execute_result"
    }
   ],
   "source": [
    "X_train_scaled = pd.DataFrame(X_train_scaled, columns=X_train.columns)\n",
    "X_test_scaled = pd.DataFrame(X_test_scaled, columns=X_test.columns)\n",
    "X_train_scaled.describe()"
   ]
  },
  {
   "cell_type": "code",
   "execution_count": 23,
   "id": "1bbad286",
   "metadata": {},
   "outputs": [
    {
     "name": "stdout",
     "output_type": "stream",
     "text": [
      "\n",
      "Running PCA ...\n",
      "Explained variance: 0.9347\n",
      "Individual variance contributions:\n",
      "0.12842943105901408\n",
      "0.08066639773762145\n",
      "0.07397864599507345\n",
      "0.06801471106184362\n",
      "0.0578306591872688\n",
      "0.051602366489378694\n",
      "0.04856015448575603\n",
      "0.04393299123331342\n",
      "0.04126455769694672\n",
      "0.0402416482438396\n",
      "0.03832626769730664\n",
      "0.03665224691598452\n",
      "0.03394232039753584\n",
      "0.03352104191554683\n",
      "0.03172929258936923\n",
      "0.02944881513240232\n",
      "0.028449495533944144\n",
      "0.026474539813100596\n",
      "0.021089391767314225\n",
      "0.020590438021357623\n"
     ]
    }
   ],
   "source": [
    "n_comp = 20\n",
    "# PCA\n",
    "print('\\nRunning PCA ...')\n",
    "pca = PCA(n_components=n_comp, svd_solver='full', random_state=1001)\n",
    "X_train_pca = pca.fit_transform(X_train_scaled)\n",
    "X_test_pca = pca.transform(X_test_scaled)\n",
    "print('Explained variance: %.4f' % pca.explained_variance_ratio_.sum())\n",
    "\n",
    "print('Individual variance contributions:')\n",
    "for j in range(n_comp):\n",
    "    print(pca.explained_variance_ratio_[j])"
   ]
  },
  {
   "cell_type": "markdown",
   "id": "84050e4a",
   "metadata": {},
   "source": [
    "<div class=\"alert alert-block alert-success\">\n",
    "<b>Success:</b> As we can see that with 20 features, we can explain almost 94% of the variance. so we will keep 20 features out of 27 independent features\n",
    "</div>\n",
    "\n",
    "/////As we can see that with 20 features, we can explain almost 94% of the variance. so we will keep 20 features out of 27 independent features/////"
   ]
  },
  {
   "cell_type": "code",
   "execution_count": 24,
   "id": "7287fd11",
   "metadata": {},
   "outputs": [
    {
     "data": {
      "text/plain": [
       "(1120, 20)"
      ]
     },
     "execution_count": 24,
     "metadata": {},
     "output_type": "execute_result"
    }
   ],
   "source": [
    "X_train_pca.shape"
   ]
  },
  {
   "cell_type": "markdown",
   "id": "5c25436f",
   "metadata": {},
   "source": [
    "# Model training:\n",
    "\n",
    "## 1. Random Forest:\n",
    "<div class=\"alert alert-block alert-info\">\n",
    "<b>**Reason:**</b> We are not starting with linear models because there are a bit of correlations(which is less so the columns are not dropped)\n",
    "The main reason I think Random Forest will work better because the data has less randomness (that is the data columns are in a range/fixed values) so tree based will work better.\n",
    "\n",
    "We will not use linear models as the data is not linear as we saw in the visualization part.\n",
    "\n",
    "**Note**: We did not apply log-transformation or other transformations because we are not using Linear models and tree based models are not affected by the distribution of the data.\n",
    "</div>"
   ]
  },
  {
   "cell_type": "code",
   "execution_count": 39,
   "id": "34c250bb",
   "metadata": {},
   "outputs": [],
   "source": [
    "from sklearn.ensemble import RandomForestClassifier"
   ]
  },
  {
   "cell_type": "code",
   "execution_count": 43,
   "id": "ac18add7",
   "metadata": {},
   "outputs": [
    {
     "name": "stdout",
     "output_type": "stream",
     "text": [
      "{'n_estimators': [20, 60, 100, 120], 'max_features': [0.2, 0.6, 1.0], 'max_depth': [2, 8, None], 'max_samples': [0.5, 0.75, 1.0]}\n"
     ]
    }
   ],
   "source": [
    "n_estimators = [20,60,100,120]\n",
    "max_features = [0.2,0.6,1.0]\n",
    "max_depth = [2,8,None]\n",
    "max_samples = [0.5,0.75,1.0]\n",
    "\n",
    "param_grid = {'n_estimators': n_estimators,\n",
    "               'max_features': max_features,\n",
    "               'max_depth': max_depth,\n",
    "              'max_samples':max_samples\n",
    "             }\n",
    "print(param_grid)"
   ]
  },
  {
   "cell_type": "code",
   "execution_count": 44,
   "id": "382d1cec",
   "metadata": {},
   "outputs": [],
   "source": [
    "rf = RandomForestClassifier()"
   ]
  },
  {
   "cell_type": "code",
   "execution_count": 45,
   "id": "64a92eed",
   "metadata": {},
   "outputs": [],
   "source": [
    "from sklearn.model_selection import GridSearchCV\n",
    "\n",
    "rf_grid = GridSearchCV(estimator = rf, \n",
    "                       param_grid = param_grid, \n",
    "                       cv = 5, \n",
    "                       verbose=2, \n",
    "                       n_jobs = -1)"
   ]
  },
  {
   "cell_type": "code",
   "execution_count": 46,
   "id": "71456f24",
   "metadata": {},
   "outputs": [
    {
     "name": "stdout",
     "output_type": "stream",
     "text": [
      "Fitting 5 folds for each of 108 candidates, totalling 540 fits\n"
     ]
    },
    {
     "data": {
      "text/html": [
       "<style>#sk-container-id-6 {color: black;background-color: white;}#sk-container-id-6 pre{padding: 0;}#sk-container-id-6 div.sk-toggleable {background-color: white;}#sk-container-id-6 label.sk-toggleable__label {cursor: pointer;display: block;width: 100%;margin-bottom: 0;padding: 0.3em;box-sizing: border-box;text-align: center;}#sk-container-id-6 label.sk-toggleable__label-arrow:before {content: \"▸\";float: left;margin-right: 0.25em;color: #696969;}#sk-container-id-6 label.sk-toggleable__label-arrow:hover:before {color: black;}#sk-container-id-6 div.sk-estimator:hover label.sk-toggleable__label-arrow:before {color: black;}#sk-container-id-6 div.sk-toggleable__content {max-height: 0;max-width: 0;overflow: hidden;text-align: left;background-color: #f0f8ff;}#sk-container-id-6 div.sk-toggleable__content pre {margin: 0.2em;color: black;border-radius: 0.25em;background-color: #f0f8ff;}#sk-container-id-6 input.sk-toggleable__control:checked~div.sk-toggleable__content {max-height: 200px;max-width: 100%;overflow: auto;}#sk-container-id-6 input.sk-toggleable__control:checked~label.sk-toggleable__label-arrow:before {content: \"▾\";}#sk-container-id-6 div.sk-estimator input.sk-toggleable__control:checked~label.sk-toggleable__label {background-color: #d4ebff;}#sk-container-id-6 div.sk-label input.sk-toggleable__control:checked~label.sk-toggleable__label {background-color: #d4ebff;}#sk-container-id-6 input.sk-hidden--visually {border: 0;clip: rect(1px 1px 1px 1px);clip: rect(1px, 1px, 1px, 1px);height: 1px;margin: -1px;overflow: hidden;padding: 0;position: absolute;width: 1px;}#sk-container-id-6 div.sk-estimator {font-family: monospace;background-color: #f0f8ff;border: 1px dotted black;border-radius: 0.25em;box-sizing: border-box;margin-bottom: 0.5em;}#sk-container-id-6 div.sk-estimator:hover {background-color: #d4ebff;}#sk-container-id-6 div.sk-parallel-item::after {content: \"\";width: 100%;border-bottom: 1px solid gray;flex-grow: 1;}#sk-container-id-6 div.sk-label:hover label.sk-toggleable__label {background-color: #d4ebff;}#sk-container-id-6 div.sk-serial::before {content: \"\";position: absolute;border-left: 1px solid gray;box-sizing: border-box;top: 0;bottom: 0;left: 50%;z-index: 0;}#sk-container-id-6 div.sk-serial {display: flex;flex-direction: column;align-items: center;background-color: white;padding-right: 0.2em;padding-left: 0.2em;position: relative;}#sk-container-id-6 div.sk-item {position: relative;z-index: 1;}#sk-container-id-6 div.sk-parallel {display: flex;align-items: stretch;justify-content: center;background-color: white;position: relative;}#sk-container-id-6 div.sk-item::before, #sk-container-id-6 div.sk-parallel-item::before {content: \"\";position: absolute;border-left: 1px solid gray;box-sizing: border-box;top: 0;bottom: 0;left: 50%;z-index: -1;}#sk-container-id-6 div.sk-parallel-item {display: flex;flex-direction: column;z-index: 1;position: relative;background-color: white;}#sk-container-id-6 div.sk-parallel-item:first-child::after {align-self: flex-end;width: 50%;}#sk-container-id-6 div.sk-parallel-item:last-child::after {align-self: flex-start;width: 50%;}#sk-container-id-6 div.sk-parallel-item:only-child::after {width: 0;}#sk-container-id-6 div.sk-dashed-wrapped {border: 1px dashed gray;margin: 0 0.4em 0.5em 0.4em;box-sizing: border-box;padding-bottom: 0.4em;background-color: white;}#sk-container-id-6 div.sk-label label {font-family: monospace;font-weight: bold;display: inline-block;line-height: 1.2em;}#sk-container-id-6 div.sk-label-container {text-align: center;}#sk-container-id-6 div.sk-container {/* jupyter's `normalize.less` sets `[hidden] { display: none; }` but bootstrap.min.css set `[hidden] { display: none !important; }` so we also need the `!important` here to be able to override the default hidden behavior on the sphinx rendered scikit-learn.org. See: https://github.com/scikit-learn/scikit-learn/issues/21755 */display: inline-block !important;position: relative;}#sk-container-id-6 div.sk-text-repr-fallback {display: none;}</style><div id=\"sk-container-id-6\" class=\"sk-top-container\"><div class=\"sk-text-repr-fallback\"><pre>GridSearchCV(cv=5, estimator=RandomForestClassifier(), n_jobs=-1,\n",
       "             param_grid={&#x27;max_depth&#x27;: [2, 8, None],\n",
       "                         &#x27;max_features&#x27;: [0.2, 0.6, 1.0],\n",
       "                         &#x27;max_samples&#x27;: [0.5, 0.75, 1.0],\n",
       "                         &#x27;n_estimators&#x27;: [20, 60, 100, 120]},\n",
       "             verbose=2)</pre><b>In a Jupyter environment, please rerun this cell to show the HTML representation or trust the notebook. <br />On GitHub, the HTML representation is unable to render, please try loading this page with nbviewer.org.</b></div><div class=\"sk-container\" hidden><div class=\"sk-item sk-dashed-wrapped\"><div class=\"sk-label-container\"><div class=\"sk-label sk-toggleable\"><input class=\"sk-toggleable__control sk-hidden--visually\" id=\"sk-estimator-id-6\" type=\"checkbox\" ><label for=\"sk-estimator-id-6\" class=\"sk-toggleable__label sk-toggleable__label-arrow\">GridSearchCV</label><div class=\"sk-toggleable__content\"><pre>GridSearchCV(cv=5, estimator=RandomForestClassifier(), n_jobs=-1,\n",
       "             param_grid={&#x27;max_depth&#x27;: [2, 8, None],\n",
       "                         &#x27;max_features&#x27;: [0.2, 0.6, 1.0],\n",
       "                         &#x27;max_samples&#x27;: [0.5, 0.75, 1.0],\n",
       "                         &#x27;n_estimators&#x27;: [20, 60, 100, 120]},\n",
       "             verbose=2)</pre></div></div></div><div class=\"sk-parallel\"><div class=\"sk-parallel-item\"><div class=\"sk-item\"><div class=\"sk-label-container\"><div class=\"sk-label sk-toggleable\"><input class=\"sk-toggleable__control sk-hidden--visually\" id=\"sk-estimator-id-7\" type=\"checkbox\" ><label for=\"sk-estimator-id-7\" class=\"sk-toggleable__label sk-toggleable__label-arrow\">estimator: RandomForestClassifier</label><div class=\"sk-toggleable__content\"><pre>RandomForestClassifier()</pre></div></div></div><div class=\"sk-serial\"><div class=\"sk-item\"><div class=\"sk-estimator sk-toggleable\"><input class=\"sk-toggleable__control sk-hidden--visually\" id=\"sk-estimator-id-8\" type=\"checkbox\" ><label for=\"sk-estimator-id-8\" class=\"sk-toggleable__label sk-toggleable__label-arrow\">RandomForestClassifier</label><div class=\"sk-toggleable__content\"><pre>RandomForestClassifier()</pre></div></div></div></div></div></div></div></div></div></div>"
      ],
      "text/plain": [
       "GridSearchCV(cv=5, estimator=RandomForestClassifier(), n_jobs=-1,\n",
       "             param_grid={'max_depth': [2, 8, None],\n",
       "                         'max_features': [0.2, 0.6, 1.0],\n",
       "                         'max_samples': [0.5, 0.75, 1.0],\n",
       "                         'n_estimators': [20, 60, 100, 120]},\n",
       "             verbose=2)"
      ]
     },
     "execution_count": 46,
     "metadata": {},
     "output_type": "execute_result"
    }
   ],
   "source": [
    "rf_grid.fit(X_train_pca,y_train)"
   ]
  },
  {
   "cell_type": "code",
   "execution_count": 47,
   "id": "0880fdf6",
   "metadata": {},
   "outputs": [
    {
     "data": {
      "text/plain": [
       "{'max_depth': None,\n",
       " 'max_features': 0.2,\n",
       " 'max_samples': 0.75,\n",
       " 'n_estimators': 100}"
      ]
     },
     "execution_count": 47,
     "metadata": {},
     "output_type": "execute_result"
    }
   ],
   "source": [
    "rf_grid.best_params_"
   ]
  },
  {
   "cell_type": "code",
   "execution_count": 48,
   "id": "5417e662",
   "metadata": {},
   "outputs": [
    {
     "data": {
      "text/plain": [
       "0.7803571428571429"
      ]
     },
     "execution_count": 48,
     "metadata": {},
     "output_type": "execute_result"
    }
   ],
   "source": [
    "rf_grid.best_score_"
   ]
  },
  {
   "cell_type": "code",
   "execution_count": null,
   "id": "5fcc9c3b",
   "metadata": {},
   "outputs": [],
   "source": [
    "y_pred = rf_grid.best_estimator_.predict(X_test_pca)"
   ]
  },
  {
   "cell_type": "code",
   "execution_count": 50,
   "id": "4c80e422",
   "metadata": {},
   "outputs": [
    {
     "name": "stdout",
     "output_type": "stream",
     "text": [
      "[[103  38]\n",
      " [ 39 100]]\n",
      "              precision    recall  f1-score   support\n",
      "\n",
      "         0.0       0.73      0.73      0.73       141\n",
      "         1.0       0.72      0.72      0.72       139\n",
      "\n",
      "    accuracy                           0.73       280\n",
      "   macro avg       0.72      0.72      0.72       280\n",
      "weighted avg       0.72      0.72      0.72       280\n",
      "\n"
     ]
    }
   ],
   "source": [
    "cm=confusion_matrix(y_test,y_pred)\n",
    "print(cm)\n",
    "print(classification_report(y_test,y_pred))"
   ]
  },
  {
   "cell_type": "markdown",
   "id": "f3543d61",
   "metadata": {},
   "source": [
    "<div class=\"alert alert-block alert-warning\">\n",
    "<b>Note:</b> The Recall is balacned and good considering the size of the data.\n",
    "</div>\n",
    "\n",
    "Lets try one ensambling technique.\n",
    "# AdaBoost:"
   ]
  },
  {
   "cell_type": "code",
   "execution_count": 51,
   "id": "e6554c22",
   "metadata": {},
   "outputs": [],
   "source": [
    "from sklearn.ensemble import AdaBoostClassifier"
   ]
  },
  {
   "cell_type": "code",
   "execution_count": 52,
   "id": "078b44c9",
   "metadata": {},
   "outputs": [
    {
     "name": "stdout",
     "output_type": "stream",
     "text": [
      "Best: 0.758036 using {'algorithm': 'SAMME', 'learning_rate': 1.0, 'n_estimators': 500}\n"
     ]
    }
   ],
   "source": [
    "grid = dict()\n",
    "grid['n_estimators'] = [10, 50, 100, 500]\n",
    "grid['learning_rate'] = [0.0001, 0.001, 0.01, 0.1, 1.0]\n",
    "grid['algorithm'] = ['SAMME', 'SAMME.R']\n",
    "grid_search = GridSearchCV(estimator=AdaBoostClassifier(), param_grid=grid, n_jobs=-1, cv=10, scoring='accuracy')\n",
    "grid_result = grid_search.fit(X_train_pca,y_train)\n",
    "print(\"Best: %f using %s\" % (grid_result.best_score_, grid_result.best_params_))"
   ]
  },
  {
   "cell_type": "code",
   "execution_count": 54,
   "id": "3a9af072",
   "metadata": {},
   "outputs": [
    {
     "name": "stdout",
     "output_type": "stream",
     "text": [
      "[[ 88  53]\n",
      " [ 29 110]]\n",
      "              precision    recall  f1-score   support\n",
      "\n",
      "         0.0       0.75      0.62      0.68       141\n",
      "         1.0       0.67      0.79      0.73       139\n",
      "\n",
      "    accuracy                           0.71       280\n",
      "   macro avg       0.71      0.71      0.71       280\n",
      "weighted avg       0.71      0.71      0.71       280\n",
      "\n"
     ]
    }
   ],
   "source": [
    "y_pred = grid_search.best_estimator_.predict(X_test_pca)\n",
    "cm=confusion_matrix(y_test,y_pred)\n",
    "print(cm)\n",
    "print(classification_report(y_test,y_pred))"
   ]
  },
  {
   "cell_type": "markdown",
   "id": "0fae3635",
   "metadata": {},
   "source": [
    "<div class=\"alert alert-block alert-info\">\n",
    "<b>Note:</b> In this case, the False-Negative is less which is good. But the other values are bad compared to random forest.\n",
    "</div>"
   ]
  },
  {
   "cell_type": "markdown",
   "id": "01ee21df",
   "metadata": {},
   "source": [
    "Okay so now that this is not working that well, lets do some model building by our own self in another note book. we will name the folder as models and also create our own performance measures."
   ]
  },
  {
   "cell_type": "code",
   "execution_count": null,
   "id": "9c2b6d27",
   "metadata": {},
   "outputs": [],
   "source": []
  },
  {
   "cell_type": "code",
   "execution_count": null,
   "id": "97c6d1fd",
   "metadata": {},
   "outputs": [],
   "source": []
  },
  {
   "cell_type": "code",
   "execution_count": null,
   "id": "66162a33",
   "metadata": {},
   "outputs": [],
   "source": []
  }
 ],
 "metadata": {
  "kernelspec": {
   "display_name": "Python 3 (ipykernel)",
   "language": "python",
   "name": "python3"
  },
  "language_info": {
   "codemirror_mode": {
    "name": "ipython",
    "version": 3
   },
   "file_extension": ".py",
   "mimetype": "text/x-python",
   "name": "python",
   "nbconvert_exporter": "python",
   "pygments_lexer": "ipython3",
   "version": "3.10.4"
  }
 },
 "nbformat": 4,
 "nbformat_minor": 5
}
